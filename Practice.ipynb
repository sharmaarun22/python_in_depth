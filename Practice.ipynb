{
 "cells": [
  {
   "cell_type": "code",
   "execution_count": 9,
   "id": "bceb2f25-c231-4650-9d51-34291301d472",
   "metadata": {},
   "outputs": [
    {
     "name": "stdout",
     "output_type": "stream",
     "text": [
      "(1, 3)\n"
     ]
    }
   ],
   "source": [
    "#1 https://leetcode.com/problems/two-sum/description/\n",
    "# if the array is sorted\n",
    "nums = [2,7,11,15] \n",
    "target = 22\n",
    "\n",
    "def two_sum(nums,target):\n",
    "    start=0\n",
    "    end=len(nums)-1\n",
    "    while (start<end):\n",
    "        sum1 = nums[start]+nums[end]\n",
    "        if sum1==target:\n",
    "            return start,end\n",
    "        if sum1<target:\n",
    "            start+=1\n",
    "        else:\n",
    "            end-=1\n",
    "    return -1\n",
    "\n",
    "ans = two_sum(nums,target)\n",
    "print(ans)\n",
    "    \n",
    "    \n",
    "    "
   ]
  },
  {
   "cell_type": "code",
   "execution_count": 17,
   "id": "91c3f4eb-16d4-4797-b5d3-e6779f2c16ca",
   "metadata": {},
   "outputs": [
    {
     "name": "stdout",
     "output_type": "stream",
     "text": [
      "(2, 0)\n"
     ]
    }
   ],
   "source": [
    "#1 https://leetcode.com/problems/two-sum/description/\n",
    "# if the array is not sorted\n",
    "nums = [2,7,11,15] \n",
    "target = 13\n",
    "\n",
    "def two_sum(nums,target):\n",
    "    comp = {}\n",
    "    for i in range(len(nums)):\n",
    "        compliment = abs(target-nums[i])\n",
    "        if compliment not in comp:\n",
    "            comp[nums[i]] = i\n",
    "        else:\n",
    "            return i, comp[compliment]\n",
    "\n",
    "ans = two_sum(nums,target)\n",
    "print(ans)"
   ]
  },
  {
   "cell_type": "code",
   "execution_count": 52,
   "id": "91a8304c-6fa5-4270-a649-a5dda28dc4c8",
   "metadata": {},
   "outputs": [
    {
     "name": "stdout",
     "output_type": "stream",
     "text": [
      "3\n"
     ]
    }
   ],
   "source": [
    "#2 https://leetcode.com/problems/longest-substring-without-repeating-characters/\n",
    "s = \"abcabcbb\"\n",
    "# s = \"bbbbb\"\n",
    "# s = \"pwwkew\"\n",
    "\n",
    "start = 0\n",
    "longest = 0\n",
    "char_set = set()\n",
    "for end in range(len(s)):\n",
    "    while s[end] in char_set:\n",
    "        char_set.remove(s[start])\n",
    "        start+=1\n",
    "    char_set.add(s[end])\n",
    "    longest = max(end-start+1, longest)\n",
    "print(longest)\n",
    "    "
   ]
  },
  {
   "cell_type": "code",
   "execution_count": 62,
   "id": "4bc1d68c-71ed-4ff0-8f01-c161324e4796",
   "metadata": {},
   "outputs": [
    {
     "name": "stdout",
     "output_type": "stream",
     "text": [
      "9\n"
     ]
    }
   ],
   "source": [
    "#3 Maximum Sum Subarray of Size K\n",
    "# Find the maximum sum of any contiguous subarray of size k.\n",
    "\n",
    "def max_sum_subarray_of_size_k(arr, k):\n",
    "    start = 0\n",
    "    end = start+k\n",
    "    max_sum = 0\n",
    "    window_sum = sum(arr[:k])\n",
    "    while end < len(arr):\n",
    "        max_sum = max(window_sum, max_sum)\n",
    "        window_sum -= arr[start]\n",
    "        window_sum += arr[end]\n",
    "        start += 1\n",
    "        end += 1\n",
    "    return max_sum\n",
    "        \n",
    "        \n",
    "\n",
    "# Example usage:\n",
    "arr = [2, 1, 5, 1, 3, 2]\n",
    "k = 3\n",
    "print(max_sum_subarray_of_size_k(arr, k))  # Output: 9"
   ]
  },
  {
   "cell_type": "code",
   "execution_count": 72,
   "id": "11db94a6-1011-4afa-afb6-8dd3a55cae59",
   "metadata": {},
   "outputs": [
    {
     "name": "stdout",
     "output_type": "stream",
     "text": [
      "2\n"
     ]
    }
   ],
   "source": [
    "#4 Smallest Subarray with a Given Sum\n",
    "# Find the length of the smallest contiguous subarray whose sum is greater than or equal to S. Return 0 if no such subarray exists.\n",
    "\n",
    "def smallest_subarray_with_given_sum(s, arr):\n",
    "    start = 0\n",
    "    smallest = float('inf')\n",
    "    window_sum = 0\n",
    "    for end in range(len(arr)):\n",
    "        window_sum += arr[end]\n",
    "        while window_sum >= s:\n",
    "            smallest = min(end-start+1, smallest)\n",
    "            window_sum -= arr[start]\n",
    "            start +=1\n",
    "    return smallest\n",
    "\n",
    "\n",
    "# Example usage:\n",
    "s = 7\n",
    "arr = [2, 1, 5, 2, 3, 2]\n",
    "print(smallest_subarray_with_given_sum(s, arr))  # Output: 2"
   ]
  },
  {
   "cell_type": "code",
   "execution_count": 98,
   "id": "c3804e3c-4599-4516-8ddb-eec0ac63a627",
   "metadata": {},
   "outputs": [
    {
     "name": "stdout",
     "output_type": "stream",
     "text": [
      "3\n"
     ]
    }
   ],
   "source": [
    "#5 Longest Substring with At Most K Distinct Characters\n",
    "# Find the length of the longest substring with at most k distinct characters.\n",
    "\n",
    "def longest_substring_with_k_distinct(s, k):\n",
    "    start = 0\n",
    "    longest = 0\n",
    "    char_frequency = {}\n",
    "    for end in range(len(s)):\n",
    "        char_frequency[s[end]] = char_frequency.get(s[end],0) + 1\n",
    "        while len(char_frequency) > k:\n",
    "            char_frequency[s[start]] -= 1\n",
    "            if char_frequency[s[start]] == 0:\n",
    "                del char_frequency[s[start]]\n",
    "            start += 1\n",
    "        longest = max(end-start+1, longest)\n",
    "    return longest\n",
    "\n",
    "\n",
    "# Example usage:\n",
    "s = \"eceba\"\n",
    "k = 2\n",
    "print(longest_substring_with_k_distinct(s, k))  # Output: 3"
   ]
  },
  {
   "cell_type": "code",
   "execution_count": 104,
   "id": "e2f7379c-f991-4107-84e6-fa1b7b573626",
   "metadata": {},
   "outputs": [
    {
     "name": "stdout",
     "output_type": "stream",
     "text": [
      "7\n"
     ]
    }
   ],
   "source": [
    "# 6. Maximum Consecutive Ones III\n",
    "# Given a binary array nums, you can flip at most k 0s to 1s. Find the length of the longest contiguous subarray containing only 1s.\n",
    "\n",
    "def longest_ones(nums, k):\n",
    "    start = 0 \n",
    "    longest = 0\n",
    "    zero_count = 0\n",
    "    for end in range(len(nums)):\n",
    "        if nums[end] == 0:\n",
    "            zero_count += 1\n",
    "        while zero_count > k:\n",
    "            if nums[start] == 0:\n",
    "                zero_count -= 1\n",
    "            start += 1\n",
    "        longest = max(end-start+1, longest)\n",
    "    return longest\n",
    "            \n",
    "                \n",
    "\n",
    "# Example usage:\n",
    "nums = [1, 1, 1, 0, 0, 1, 1, 0, 1, 1, 1]\n",
    "k = 2\n",
    "print(longest_ones(nums, k))  # Output: 7\n"
   ]
  },
  {
   "cell_type": "code",
   "execution_count": 123,
   "id": "2af27ea8-2c5c-47fe-9123-c48c889e5ece",
   "metadata": {},
   "outputs": [
    {
     "name": "stdout",
     "output_type": "stream",
     "text": [
      "[5, 1, 3]\n"
     ]
    }
   ],
   "source": [
    "# 1. Maximum Sum Subarray of Size K\n",
    "\n",
    "arr = [2, 1, 5, 1, 3, 2]\n",
    "k = 3\n",
    "# Output: 9 (subarray [5,1,3])\n",
    "\n",
    "# Input: arr = [2, 3, 4, 1, 5], k = 2\n",
    "# Output: 7 (subarray [3,4])\n",
    "\n",
    "def max_subarray(arr,k):\n",
    "    start = 0\n",
    "    max_size = sum(arr[:k])\n",
    "    longest_array = arr[:k]\n",
    "    for end in range(k,len(arr)):\n",
    "        if max_size < sum(arr[start:end]):\n",
    "            longest_array = arr[start:end]\n",
    "        start += 1\n",
    "        end +=1\n",
    "    return longest_array\n",
    "\n",
    "ans = max_subarray(arr,k)\n",
    "print(ans)\n"
   ]
  },
  {
   "cell_type": "code",
   "execution_count": 129,
   "id": "a786917b-58c2-4fcb-814e-0524e5deed30",
   "metadata": {},
   "outputs": [
    {
     "name": "stdout",
     "output_type": "stream",
     "text": [
      "4\n"
     ]
    }
   ],
   "source": [
    "# 4. Longest Substring with K Distinct Characters\n",
    "\n",
    "s = \"araaci\" \n",
    "k = 2\n",
    "# Output: 4 (substring \"araa\")\n",
    "\n",
    "def longest_sub(s,k):\n",
    "    start = 0\n",
    "    char_freq = {}\n",
    "    longest = 0\n",
    "    for end in range(len(s)):\n",
    "        char_freq[s[end]] = char_freq.get(s[end],0) + 1\n",
    "        while len(char_freq) > k:\n",
    "            char_freq[s[start]] -= 1\n",
    "            if char_freq[s[start]] == 0:\n",
    "                del char_freq[s[start]]\n",
    "            start += 1\n",
    "        longest = max(longest, end-start+1)\n",
    "    return longest\n",
    "\n",
    "ans = longest_sub(s,k)\n",
    "print(ans)"
   ]
  },
  {
   "cell_type": "code",
   "execution_count": 135,
   "id": "79a1d1ac-347c-406f-92d0-50dee96db0ff",
   "metadata": {},
   "outputs": [
    {
     "name": "stdout",
     "output_type": "stream",
     "text": [
      "3\n"
     ]
    }
   ],
   "source": [
    "# 5. Longest Substring Without Repeating Characters\n",
    "\n",
    "s = \"abcabcbb\"\n",
    "# Output: 3 (substring \"abc\")\n",
    "\n",
    "# Input: s = \"bbbbb\"\n",
    "# Output: 1 (substring \"b\")\n",
    "\n",
    "def longest_substring(s):\n",
    "    start = 0\n",
    "    longest = 0\n",
    "    char_set = set()\n",
    "    for end in range(len(s)):\n",
    "        while s[end] in char_set:\n",
    "            char_set.remove(s[start])\n",
    "            start += 1\n",
    "        longest = max(longest, end-start+1)\n",
    "        char_set.add(s[end])\n",
    "    return longest\n",
    "        \n",
    "\n",
    "ans = longest_substring(s)\n",
    "print(ans)"
   ]
  },
  {
   "cell_type": "code",
   "execution_count": 149,
   "id": "3dfd9bca-d6ea-4bc0-ab78-cf02a22d9024",
   "metadata": {},
   "outputs": [
    {
     "name": "stdout",
     "output_type": "stream",
     "text": [
      "[-1, -1, -7, -15, -15, 0]\n"
     ]
    }
   ],
   "source": [
    "# 2. First Negative Number in Every Window of Size K\n",
    "\n",
    "arr = [12, -1, -7, 8, -15, 30, 16, 28]\n",
    "k = 3\n",
    "# Output: [-1, -1, -7, -15, -15, 0]\n",
    "\n",
    "# Input: arr = [1, 2, 3, 4, 5], k = 2\n",
    "# Output: [0, 0, 0, 0]\n",
    "\n",
    "def first_negative(arr,k):\n",
    "    start = 0\n",
    "    negative_numbers = []\n",
    "    for end in range(k, len(arr)+1):\n",
    "        for i in range(start, end):\n",
    "            if arr[i] < 0:\n",
    "                negative_numbers.append(arr[i])\n",
    "                break\n",
    "        else:\n",
    "            negative_numbers.append(0)\n",
    "        start += 1\n",
    "\n",
    "    return negative_numbers\n",
    "\n",
    "print(first_negative(arr,k))\n",
    "        "
   ]
  },
  {
   "cell_type": "code",
   "execution_count": 175,
   "id": "ae0a22cd-6fe2-40de-a4a3-22b9dc20de12",
   "metadata": {},
   "outputs": [
    {
     "name": "stdout",
     "output_type": "stream",
     "text": [
      "2\n"
     ]
    }
   ],
   "source": [
    "# 7. Smallest Subarray with Given Sum ≥ S\n",
    "\n",
    "s = 7 \n",
    "arr = [2,1,5,2,3,2]\n",
    "\n",
    "def smallest_subarray(arr,s):\n",
    "    start = 0\n",
    "    smallest = float('inf')\n",
    "    window_sum = 0\n",
    "    for end in range(len(arr)):\n",
    "        window_sum += arr[end]\n",
    "        while window_sum >= s:\n",
    "            smallest = min(end-start+1, smallest)\n",
    "            window_sum -= arr[start]\n",
    "            start += 1\n",
    "    return smallest\n",
    "\n",
    "ans = smallest_subarray(arr,s)\n",
    "print(ans)"
   ]
  },
  {
   "cell_type": "code",
   "execution_count": 179,
   "id": "91ebfd44-d2a9-40a9-8bb7-cc206570f9f9",
   "metadata": {},
   "outputs": [
    {
     "name": "stdout",
     "output_type": "stream",
     "text": [
      "[3, 3, 5, 5, 6, 7]\n"
     ]
    }
   ],
   "source": [
    "# 3. Maximum of All Subarrays of Size K\n",
    "\n",
    "arr = [1,3,-1,-3,5,3,6,7]\n",
    "k = 3\n",
    "\n",
    "def max_of_subarrays(arr,k):\n",
    "    start = 0\n",
    "    final_array = []\n",
    "    for end in range(k, len(arr)+1):\n",
    "        final_array.append(max(arr[start:end]))\n",
    "        start +=1\n",
    "    return final_array\n",
    "\n",
    "ans = max_of_subarrays(arr,k)\n",
    "print(ans)\n",
    "# Output: [3,3,5,5,6,7]"
   ]
  },
  {
   "cell_type": "code",
   "execution_count": 225,
   "id": "ffff623a-1a84-4c0d-8d80-d7bbbd968900",
   "metadata": {},
   "outputs": [
    {
     "name": "stdout",
     "output_type": "stream",
     "text": [
      "BANC\n"
     ]
    }
   ],
   "source": [
    "# 8. Minimum Window Substring (Leetcode #76)\n",
    "from collections import Counter\n",
    "\n",
    "s = \"ADOBECODEBANC\"\n",
    "t = \"ABC\"\n",
    "# Output: \"BANC\"\n",
    "\n",
    "def min_window_substring(s,t):\n",
    "    if len(s) < len(t):\n",
    "        return \"\"\n",
    "    start = 0\n",
    "    min_start = 0\n",
    "    min_length = float(\"inf\")\n",
    "    tmap = Counter(t)\n",
    "    required = len(t)\n",
    "    for end in range(len(s)):\n",
    "        if s[end] in tmap:\n",
    "            tmap[s[end]] -= 1\n",
    "            if tmap[s[end]] >=0:\n",
    "                required -= 1\n",
    "        while required == 0:\n",
    "            if end-start+1 < min_length:\n",
    "                min_length = end-start+1\n",
    "                min_start = start\n",
    "            if s[start] in tmap:\n",
    "                tmap[s[start]] += 1\n",
    "                if tmap[s[start]] >0:\n",
    "                    required += 1\n",
    "            start += 1                             \n",
    "    return \"\" if min_length == float(\"inf\") else s[min_start:min_start+min_length] \n",
    "\n",
    "ans = min_window_substring(s,t)\n",
    "print(ans)"
   ]
  },
  {
   "cell_type": "code",
   "execution_count": 23,
   "id": "537ba75e-45c4-470e-ae60-61d0e26d451f",
   "metadata": {},
   "outputs": [
    {
     "name": "stdout",
     "output_type": "stream",
     "text": [
      "True\n",
      "False\n"
     ]
    }
   ],
   "source": [
    "# 9. Permutation in String (Leetcode #567)\n",
    "\n",
    "# Input: s1 = \"ab\", s2 = \"eidbaooo\"\n",
    "# Output: True (\"ba\" is a permutation of \"ab\")\n",
    "\n",
    "# Input: s1 = \"ab\", s2 = \"eidboaoo\"\n",
    "# Output: False\n",
    "\n",
    "def permutation(s1, s2):\n",
    "    s1counter = [0] * 26\n",
    "    s2counter = [0] * 26\n",
    "    for i in s1:\n",
    "        index = ord(i) - ord('a')\n",
    "        s1counter[index] += 1\n",
    "    for i in s2[:len(s1)]:\n",
    "        index = ord(i) - ord('a')\n",
    "        s2counter[index] += 1\n",
    "    if s1counter == s2counter:\n",
    "        return True\n",
    "    for i in range(len(s1), len(s2)):\n",
    "        cur = s2[i]\n",
    "        prev = s2[i-len(s1)]\n",
    "        s2counter[ord(cur) - ord('a')] += 1\n",
    "        s2counter[ord(prev) - ord('a')] -= 1\n",
    "        if s1counter == s2counter:\n",
    "            return True \n",
    "    return False\n",
    "    \n",
    "\n",
    "print(permutation(\"ab\", \"eidbaooo\"))\n",
    "print(permutation(\"ab\", \"eidbcaoo\"))\n",
    "    \n",
    "    \n",
    "    "
   ]
  },
  {
   "cell_type": "code",
   "execution_count": 5,
   "id": "c3aa6bd1-e751-4f2c-a491-037698393e46",
   "metadata": {},
   "outputs": [
    {
     "name": "stdout",
     "output_type": "stream",
     "text": [
      "7\n"
     ]
    }
   ],
   "source": [
    "x = [1,4,4,3,1,3,7]\n",
    "ans = 0\n",
    "for i in x:\n",
    "    ans = ans ^ i\n",
    "print(ans)"
   ]
  },
  {
   "cell_type": "code",
   "execution_count": 31,
   "id": "cd493d01-34b5-4f05-b43c-75dc6685f820",
   "metadata": {},
   "outputs": [
    {
     "data": {
      "text/plain": [
       "[24, 12, 8, 6]"
      ]
     },
     "execution_count": 31,
     "metadata": {},
     "output_type": "execute_result"
    }
   ],
   "source": [
    "# Product of array except self\n",
    "arr = [1,2,3,4] #output = [24,12,8,6]\n",
    "\n",
    "prefix = [1]*len(arr)\n",
    "for i in range(1,len(arr)):\n",
    "    prefix[i] = arr[i-1] * prefix[i-1]\n",
    "suffix = 1\n",
    "for i in range(len(arr)-2,-1,-1):\n",
    "    suffix *= arr[i+1]\n",
    "    prefix[i] *= suffix\n",
    "prefix"
   ]
  },
  {
   "cell_type": "code",
   "execution_count": 35,
   "id": "23b48280-d441-4fb5-9971-61ca303e3fa3",
   "metadata": {},
   "outputs": [
    {
     "name": "stdout",
     "output_type": "stream",
     "text": [
      "[1, 1, 2, 6]\n"
     ]
    },
    {
     "data": {
      "text/plain": [
       "[24, 12, 8, 6]"
      ]
     },
     "execution_count": 35,
     "metadata": {},
     "output_type": "execute_result"
    }
   ],
   "source": [
    "# Product of array except self\n",
    "arr = [1,2,3,4] #output = [24,12,8,6]\n",
    "\n",
    "prefix = [1]*len(arr)\n",
    "for i in range(1,len(arr)):\n",
    "    prefix[i] = prefix[i-1]*arr[i-1]\n",
    "suffix = 1\n",
    "print(prefix)\n",
    "for i in range(len(arr)-2,-1,-1):\n",
    "    suffix = suffix * arr[i+1]\n",
    "    prefix[i] *= suffix\n",
    "\n",
    "prefix\n",
    "    "
   ]
  },
  {
   "cell_type": "code",
   "execution_count": 46,
   "id": "c3d58e3f-00d2-4e26-baf5-1b58ac1dba98",
   "metadata": {},
   "outputs": [
    {
     "name": "stdout",
     "output_type": "stream",
     "text": [
      "1 3\n"
     ]
    }
   ],
   "source": [
    "arr = [1,3,5,7,9,10,13]\n",
    "target = 3\n",
    "\n",
    "start = 0\n",
    "end - len(arr)-1\n",
    "\n",
    "while (start<=end):\n",
    "    mid = (start+end)//2\n",
    "    if arr[mid] == target:\n",
    "        print(mid, arr[mid])\n",
    "        break\n",
    "    elif target > arr[mid]:\n",
    "        start = mid + 1\n",
    "    else:\n",
    "        end = mid - 1"
   ]
  }
 ],
 "metadata": {
  "kernelspec": {
   "display_name": "Python 3 (ipykernel)",
   "language": "python",
   "name": "python3"
  },
  "language_info": {
   "codemirror_mode": {
    "name": "ipython",
    "version": 3
   },
   "file_extension": ".py",
   "mimetype": "text/x-python",
   "name": "python",
   "nbconvert_exporter": "python",
   "pygments_lexer": "ipython3",
   "version": "3.12.4"
  }
 },
 "nbformat": 4,
 "nbformat_minor": 5
}
