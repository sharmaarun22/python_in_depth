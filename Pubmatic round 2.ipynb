{
 "cells": [
  {
   "cell_type": "code",
   "execution_count": 2,
   "metadata": {},
   "outputs": [
    {
     "data": {
      "text/plain": [
       "2"
      ]
     },
     "execution_count": 2,
     "metadata": {},
     "output_type": "execute_result"
    }
   ],
   "source": [
    "x = [1,1,1,2]\n",
    "k = 3\n",
    "sum = x[0]\n",
    "subArray = []\n",
    "sub_lst = []\n",
    "for i in range(len(x)):\n",
    "    sum = sum+x[i]\n",
    "    sub_lst = sub_lst.append(i)\n",
    "    if sum==3:\n",
    "        subArray.append(True)\n",
    "        sum=0\n",
    "    elif sum>3:\n",
    "        sum=0\n",
    "len(subArray)\n",
    "    "
   ]
  },
  {
   "cell_type": "code",
   "execution_count": 30,
   "metadata": {},
   "outputs": [
    {
     "name": "stdout",
     "output_type": "stream",
     "text": [
      "[[-1, 1]]\n",
      "[]\n",
      "[[-1], [-1]]\n",
      "[[-1, 1, -1, 2, 1]]\n"
     ]
    }
   ],
   "source": [
    "def sum_of_sub_list(l1, k1):\n",
    "    x = l1\n",
    "    k = k1\n",
    "    sum = 0\n",
    "    subArray = []\n",
    "    sub_lst = []\n",
    "    for i in range(0, len(x)):\n",
    "        for j in range(i, len(x)):\n",
    "            sub_lst.append(x[j])\n",
    "            sum = sum+x[j]    \n",
    "            if sum==k:\n",
    "                subArray.append(sub_lst)\n",
    "                sum=0\n",
    "                sub_lst = []\n",
    "                break\n",
    "            elif sum>k:\n",
    "                sum=0\n",
    "                sub_lst = []\n",
    "                break\n",
    "    print(subArray)\n",
    "    \n",
    "# sum_of_sub_list([1,1,1,2], 3)\n",
    "# sum_of_sub_list([0,0], 3)\n",
    "# sum_of_sub_list([0, 1], 3)\n",
    "# sum_of_sub_list([1,1,1], 0)\n",
    "# sum_of_sub_list([3,3,3], 3)\n",
    "sum_of_sub_list([-1,1,-1], 0)\n",
    "sum_of_sub_list([-1,-1,-1], 0)\n",
    "sum_of_sub_list([-1,1,-1], -1)\n",
    "sum_of_sub_list([-1,1,-1,2],2)"
   ]
  }
 ],
 "metadata": {
  "kernelspec": {
   "display_name": "Python 3",
   "language": "python",
   "name": "python3"
  },
  "language_info": {
   "codemirror_mode": {
    "name": "ipython",
    "version": 3
   },
   "file_extension": ".py",
   "mimetype": "text/x-python",
   "name": "python",
   "nbconvert_exporter": "python",
   "pygments_lexer": "ipython3",
   "version": "3.6.5"
  }
 },
 "nbformat": 4,
 "nbformat_minor": 2
}
