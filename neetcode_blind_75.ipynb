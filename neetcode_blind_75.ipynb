{
 "cells": [
  {
   "cell_type": "code",
   "execution_count": 9,
   "id": "69c84b65-28d1-41cb-ad7f-e20498802f29",
   "metadata": {},
   "outputs": [
    {
     "name": "stdout",
     "output_type": "stream",
     "text": [
      "True\n",
      "False\n"
     ]
    }
   ],
   "source": [
    "# https://leetcode.com/problems/contains-duplicate/\n",
    "\n",
    "class Solution:\n",
    "    def containsDuplicate(self, nums: list[int]) -> bool:\n",
    "        seen_nums = set()\n",
    "        for i in nums:\n",
    "            if i in seen_nums:\n",
    "                return True\n",
    "            seen_nums.add(i)\n",
    "        return False\n",
    "\n",
    "sol = Solution()\n",
    "print(sol.containsDuplicate(nums = [1,2,3,1])) #Output: true\n",
    "print(sol.containsDuplicate(nums = [1,2,3,4])) #Output: false"
   ]
  },
  {
   "cell_type": "code",
   "execution_count": 11,
   "id": "74ca5f60-1508-433e-abcd-0b6aa2d7c453",
   "metadata": {},
   "outputs": [
    {
     "name": "stdout",
     "output_type": "stream",
     "text": [
      "True\n",
      "False\n"
     ]
    }
   ],
   "source": [
    "# https://leetcode.com/problems/valid-anagram/description/\n",
    "\n",
    "class Solution:\n",
    "    def isAnagram(self, s: str, t: str) -> bool:\n",
    "        if len(s) != len(t):\n",
    "            return False \n",
    "        freq_dict = {}\n",
    "        for i in range(len(s)):\n",
    "            freq_dict[s[i]] = freq_dict.get(s[i], 0) + 1\n",
    "            freq_dict[t[i]] = freq_dict.get(t[i], 0) - 1\n",
    "        return all(count == 0 for count in freq_dict.values())\n",
    "\n",
    "sol = Solution()\n",
    "print(sol.isAnagram( s = \"anagram\", t = \"nagaram\")) #Output: true\n",
    "print(sol.isAnagram(s = \"rat\", t = \"car\")) #Output: false"
   ]
  },
  {
   "cell_type": "code",
   "execution_count": 17,
   "id": "431726af-eafd-46bd-9134-68cadaa97ad1",
   "metadata": {},
   "outputs": [
    {
     "name": "stdout",
     "output_type": "stream",
     "text": [
      "[0, 1]\n",
      "[1, 2]\n"
     ]
    }
   ],
   "source": [
    "# https://leetcode.com/problems/two-sum/description/\n",
    "\n",
    "class Solution:\n",
    "    def twoSum(self, nums: list[int], target: int) -> list[int]:\n",
    "        num_to_index = {}\n",
    "        for i, num in enumerate(nums):\n",
    "            complement = target - num\n",
    "            if complement in num_to_index:\n",
    "                return [num_to_index[complement], i]\n",
    "            num_to_index[num] = i\n",
    "\n",
    "sol = Solution()\n",
    "print(sol.twoSum( nums = [2,7,11,15], target = 9)) #Output: [0,1]\n",
    "print(sol.twoSum(nums = [3,2,4], target = 6)) #Output: [1,2]"
   ]
  },
  {
   "cell_type": "code",
   "execution_count": 35,
   "id": "ae81fc02-9de2-44af-a7dc-45151135dadf",
   "metadata": {},
   "outputs": [
    {
     "name": "stdout",
     "output_type": "stream",
     "text": [
      "[['eat', 'tea', 'ate'], ['tan', 'nat'], ['bat']]\n",
      "[['']]\n"
     ]
    }
   ],
   "source": [
    "# https://leetcode.com/problems/group-anagrams/\n",
    "\n",
    "from collections import defaultdict\n",
    "class Solution:\n",
    "    def groupAnagrams(self, strs: list[str]) -> list[list[str]]:\n",
    "        result = []\n",
    "        anagram_map = defaultdict(list)\n",
    "        for s in strs:\n",
    "            sorted_s = \"\".join(sorted(s))\n",
    "            anagram_map[sorted_s].append(s) \n",
    "        return list(anagram_map.values())\n",
    "\n",
    "sol = Solution()\n",
    "print(sol.groupAnagrams(strs = [\"eat\",\"tea\",\"tan\",\"ate\",\"nat\",\"bat\"])) #Output:[[\"bat\"],[\"nat\",\"tan\"],[\"ate\",\"eat\",\"tea\"]]\n",
    "print(sol.groupAnagrams(strs = [\"\"])) #Output: [[\"\"]]"
   ]
  },
  {
   "cell_type": "code",
   "execution_count": 39,
   "id": "ab3ff11a-7656-4bb1-bfbb-644f18f31480",
   "metadata": {},
   "outputs": [
    {
     "name": "stdout",
     "output_type": "stream",
     "text": [
      "[['eat', 'tea', 'ate'], ['tan', 'nat'], ['bat']]\n",
      "[['']]\n"
     ]
    }
   ],
   "source": [
    "# https://leetcode.com/problems/group-anagrams/\n",
    "# solution without sorting\n",
    "\n",
    "from collections import defaultdict\n",
    "class Solution:\n",
    "    def groupAnagrams(self, strs: list[str]) -> list[list[str]]:\n",
    "        result = []\n",
    "        anagram_map = defaultdict(list)\n",
    "        for s in strs:\n",
    "            char_freq = [0] * 26\n",
    "            for i in s:\n",
    "                index = ord(i) - ord(\"a\")\n",
    "                char_freq[index] += 1\n",
    "            key = tuple(char_freq)\n",
    "            anagram_map[key].append(s) \n",
    "        return list(anagram_map.values())\n",
    "\n",
    "sol = Solution()\n",
    "print(sol.groupAnagrams(strs = [\"eat\",\"tea\",\"tan\",\"ate\",\"nat\",\"bat\"])) #Output:[[\"bat\"],[\"nat\",\"tan\"],[\"ate\",\"eat\",\"tea\"]]\n",
    "print(sol.groupAnagrams(strs = [\"\"])) #Output: [[\"\"]]"
   ]
  },
  {
   "cell_type": "code",
   "execution_count": 74,
   "id": "885216f2-02c5-4922-8ef5-5fc5086c27e1",
   "metadata": {},
   "outputs": [
    {
     "name": "stdout",
     "output_type": "stream",
     "text": [
      "[1, 2]\n"
     ]
    }
   ],
   "source": [
    "# https://leetcode.com/problems/top-k-frequent-elements/\n",
    "\n",
    "def topKFrequent(nums, k):\n",
    "    freq_map = {}\n",
    "    for n in nums:\n",
    "        freq_map[n] = freq_map.get(n, 0) + 1   \n",
    "    tuples = sorted(freq_map.items(), key=lambda item: item[1], reverse = True)[:k]\n",
    "    return list([key for key,value in tuples])\n",
    "        \n",
    "print(topKFrequent([1,1,1,2,2,3], 2)) #output = [1,2]"
   ]
  },
  {
   "cell_type": "code",
   "execution_count": 88,
   "id": "2cdbe3ba-2605-408a-8186-bc39f2b4f2f7",
   "metadata": {},
   "outputs": [
    {
     "name": "stdout",
     "output_type": "stream",
     "text": [
      "[1, 2]\n"
     ]
    }
   ],
   "source": [
    "# https://leetcode.com/problems/top-k-frequent-elements/\n",
    "# using bucket sort\n",
    "\n",
    "def topKFrequent(nums, k):\n",
    "    freq_map = {}\n",
    "    n = len(nums)\n",
    "    top_k = []\n",
    "    buckets = [[] for _ in range(n + 1)]\n",
    "\n",
    "    # Build frequency map\n",
    "    for num in nums:\n",
    "        freq_map[num] = freq_map.get(num, 0) + 1\n",
    "\n",
    "    # Bucket elements by frequency\n",
    "    for num, freq in freq_map.items():\n",
    "        buckets[freq].append(num)\n",
    "\n",
    "    # Collect top k frequent elements\n",
    "    for bucket in reversed(buckets):\n",
    "        for num in bucket:\n",
    "            top_k.append(num)\n",
    "            if len(top_k) == k:\n",
    "                return top_k\n",
    "       \n",
    "print(topKFrequent([1,1,1,2,2,3], 2)) #output = [1,2]"
   ]
  },
  {
   "cell_type": "code",
   "execution_count": 156,
   "id": "1c8c98db-8f65-46ec-b9c3-4f63f51e4acd",
   "metadata": {},
   "outputs": [
    {
     "name": "stdout",
     "output_type": "stream",
     "text": [
      "6#Always4#love4#your4#life\n",
      "['Always', 'love', 'your', 'life']\n"
     ]
    }
   ],
   "source": [
    "# https://www.geeksforgeeks.org/problems/encode-and-decode-strings/1\n",
    "\n",
    "input = [\"Always\", \"love\", \"your\", \"life\"]\n",
    "\n",
    "class Codec:\n",
    "    def encode(self, list_of_strings):\n",
    "        \"\"\"Encodes a list of strings to a single string.\"\"\"\n",
    "        encoded_str = \"\"\n",
    "        for s in list_of_strings:\n",
    "            encoded_str = encoded_str + str(len(s)) + \"#\" + s\n",
    "        print(encoded_str)\n",
    "        return encoded_str\n",
    "\n",
    "    def decode(self, string):\n",
    "        \"\"\"Decodes a single string to a list of strings.\"\"\"\n",
    "        decoded_str_list = []\n",
    "        i = 0\n",
    "        while i < len(string):\n",
    "            j = i\n",
    "            while string[j] != \"#\":\n",
    "                j += 1\n",
    "            word_size = int(string[i: j])\n",
    "            word = string[j+1: j+1+word_size]\n",
    "            decoded_str_list.append(word)\n",
    "            i = j + word_size + 1\n",
    "        return decoded_str_list\n",
    "            \n",
    "            \n",
    "if __name__ == \"__main__\":\n",
    "    codec = Codec()\n",
    "    encoded_str = codec.encode(input)\n",
    "    decoded_str = codec.decode(encoded_str)\n",
    "    print(decoded_str)"
   ]
  },
  {
   "cell_type": "code",
   "execution_count": 166,
   "id": "ae94fdb7-e342-4b91-a061-28bb6bdfb16c",
   "metadata": {},
   "outputs": [
    {
     "name": "stdout",
     "output_type": "stream",
     "text": [
      "[1, 1, 2, 6]\n",
      "[24, 12, 8, 6]\n"
     ]
    }
   ],
   "source": [
    "# https://leetcode.com/problems/product-of-array-except-self/\n",
    "\n",
    "def productExceptSelf(nums):\n",
    "    n = len(nums)\n",
    "    prefix_product = [1] * n\n",
    "    for i in range(1, n-1):\n",
    "        prefix_product[i+1] = prefix_product[i] * nums[i]\n",
    "    print(prefix_product)\n",
    "\n",
    "    suffix = 1\n",
    "    for i in range(n-2,-1,-1):\n",
    "        suffix = suffix * nums[i+1]\n",
    "        prefix_product[i] = prefix_product[i] * suffix\n",
    "    return prefix_product\n",
    "\n",
    "\n",
    "print(productExceptSelf(nums = [1,2,3,4]))"
   ]
  },
  {
   "cell_type": "code",
   "execution_count": 170,
   "id": "23d61508-7597-4ea8-bcf4-098c1e7b267b",
   "metadata": {},
   "outputs": [
    {
     "name": "stdout",
     "output_type": "stream",
     "text": [
      "5\n",
      "0\n"
     ]
    }
   ],
   "source": [
    "# https://leetcode.com/problems/best-time-to-buy-and-sell-stock/\n",
    "\n",
    "class Solution:\n",
    "    def maxProfit(self, prices: list[int]) -> int:\n",
    "        max_profit = 0\n",
    "        min_price = float(\"inf\")\n",
    "        for price in prices:\n",
    "            if price < min_price:\n",
    "                min_price = price\n",
    "            else:\n",
    "                profit = price - min_price\n",
    "                max_profit = max(max_profit, profit)            \n",
    "        return max_profit\n",
    "\n",
    "sol = Solution()\n",
    "print(sol.maxProfit(prices = [7,1,5,3,6,4])) #Output:5\n",
    "print(sol.maxProfit(prices = [7,6,4,3,1])) #Output:0"
   ]
  },
  {
   "cell_type": "code",
   "execution_count": 176,
   "id": "0c0ef66b-67d5-44c6-beab-eec0b3478332",
   "metadata": {},
   "outputs": [
    {
     "name": "stdout",
     "output_type": "stream",
     "text": [
      "5\n",
      "0\n"
     ]
    }
   ],
   "source": [
    "# https://leetcode.com/problems/best-time-to-buy-and-sell-stock/\n",
    "# using 2 pointer\n",
    "\n",
    "class Solution:\n",
    "    def maxProfit(self, prices: list[int]) -> int:\n",
    "        max_profit = 0\n",
    "        left, right = 0, 1\n",
    "        while right < len(prices)-1:\n",
    "            if prices[right] < prices[left]:\n",
    "                left = right\n",
    "            else:\n",
    "                profit = prices[right] - prices[left]\n",
    "                max_profit = max(max_profit, profit)\n",
    "            right += 1\n",
    "        return max_profit\n",
    "\n",
    "sol = Solution()\n",
    "print(sol.maxProfit(prices = [7,1,5,3,6,4])) #Output:5\n",
    "print(sol.maxProfit(prices = [7,6,4,3,1])) #Output:0"
   ]
  },
  {
   "cell_type": "code",
   "execution_count": 178,
   "id": "429e2eed-4ade-47e8-bce4-6d8594550f6d",
   "metadata": {},
   "outputs": [
    {
     "name": "stdout",
     "output_type": "stream",
     "text": [
      "3\n",
      "1\n"
     ]
    }
   ],
   "source": [
    "# https://leetcode.com/problems/longest-substring-without-repeating-characters/description/\n",
    "\n",
    "def lengthOfLongestSubstring(s):\n",
    "    longest = 0\n",
    "    seen = set()\n",
    "    start = 0\n",
    "    for end in range(len(s)):\n",
    "        while s[end] in seen:\n",
    "            seen.remove(s[start])\n",
    "            start += 1\n",
    "        seen.add(s[end])\n",
    "        str_len = end - start + 1\n",
    "        longest = max(str_len, longest)\n",
    "    return longest\n",
    "        \n",
    "\n",
    "print(lengthOfLongestSubstring(s = \"abcabcbb\")) #output = 3\n",
    "print(lengthOfLongestSubstring(s = \"bbbbb\")) #output = 1"
   ]
  },
  {
   "cell_type": "code",
   "execution_count": 186,
   "id": "30fda3df-abe2-4a16-bff8-3fa9fd407582",
   "metadata": {},
   "outputs": [
    {
     "name": "stdout",
     "output_type": "stream",
     "text": [
      "4\n"
     ]
    }
   ],
   "source": [
    "# 9. Longest Repeating Character Replacement\n",
    "# Given a string s and an integer k, find the length of the longest substring that can be obtained by replacing at most k characters.\n",
    "# youtube link: https://youtu.be/gqXU1UyA8pk?si=PZNKxxiuqwNzINuQ\n",
    "\n",
    "from collections import Counter\n",
    "\n",
    "def character_replacement(s, k):\n",
    "    max_freq = 0\n",
    "    freq_map = Counter()\n",
    "    start = 0 \n",
    "    n = len(s)\n",
    "    max_window_size = 0\n",
    "    for end in range(n):\n",
    "        window_size = end - start + 1\n",
    "        freq_map[s[end]] += 1\n",
    "        max_freq = max(max_freq, freq_map[s[end]])\n",
    "        if window_size - max_freq <= k:\n",
    "            max_window_size = max(max_window_size, window_size)\n",
    "        else:\n",
    "            freq_map[s[start]] -= 1\n",
    "            start += 1\n",
    "    return max_window_size\n",
    "    \n",
    "    \n",
    "\n",
    "# Example usage:\n",
    "s = \"AABABBA\"\n",
    "k = 1\n",
    "print(character_replacement(s, k))  # Output: 4\n",
    "  "
   ]
  },
  {
   "cell_type": "code",
   "execution_count": 196,
   "id": "8497f5d2-5a85-4032-a387-82167e647817",
   "metadata": {},
   "outputs": [
    {
     "ename": "KeyboardInterrupt",
     "evalue": "",
     "output_type": "error",
     "traceback": [
      "\u001b[1;31m---------------------------------------------------------------------------\u001b[0m",
      "\u001b[1;31mKeyboardInterrupt\u001b[0m                         Traceback (most recent call last)",
      "Cell \u001b[1;32mIn[196], line 25\u001b[0m\n\u001b[0;32m     22\u001b[0m             start \u001b[38;5;241m+\u001b[39m\u001b[38;5;241m=\u001b[39m \u001b[38;5;241m1\u001b[39m\n\u001b[0;32m     23\u001b[0m     \u001b[38;5;28;01mreturn\u001b[39;00m smallest\n\u001b[1;32m---> 25\u001b[0m \u001b[38;5;28mprint\u001b[39m(minWindow(s \u001b[38;5;241m=\u001b[39m \u001b[38;5;124m\"\u001b[39m\u001b[38;5;124mADOBECODEBANC\u001b[39m\u001b[38;5;124m\"\u001b[39m, t \u001b[38;5;241m=\u001b[39m \u001b[38;5;124m\"\u001b[39m\u001b[38;5;124mABC\u001b[39m\u001b[38;5;124m\"\u001b[39m))\n",
      "Cell \u001b[1;32mIn[196], line 16\u001b[0m, in \u001b[0;36mminWindow\u001b[1;34m(s, t)\u001b[0m\n\u001b[0;32m     14\u001b[0m     \u001b[38;5;28;01mif\u001b[39;00m freq_map[char] \u001b[38;5;241m>\u001b[39m\u001b[38;5;241m=\u001b[39m \u001b[38;5;241m0\u001b[39m:\n\u001b[0;32m     15\u001b[0m         total \u001b[38;5;241m-\u001b[39m\u001b[38;5;241m=\u001b[39m \u001b[38;5;241m1\u001b[39m\n\u001b[1;32m---> 16\u001b[0m \u001b[38;5;28;01mwhile\u001b[39;00m total \u001b[38;5;241m==\u001b[39m \u001b[38;5;241m0\u001b[39m:\n\u001b[0;32m     17\u001b[0m     window \u001b[38;5;241m=\u001b[39m s[start: end\u001b[38;5;241m+\u001b[39m\u001b[38;5;241m1\u001b[39m]\n\u001b[0;32m     18\u001b[0m     \u001b[38;5;28;01mif\u001b[39;00m \u001b[38;5;28mlen\u001b[39m(window) \u001b[38;5;241m<\u001b[39m \u001b[38;5;28mlen\u001b[39m(smallest):\n",
      "\u001b[1;31mKeyboardInterrupt\u001b[0m: "
     ]
    }
   ],
   "source": [
    "from collections import Counter \n",
    "\n",
    "def minWindow(s: str, t: str) -> str:\n",
    "    if len(t) > len(s):\n",
    "        return \"\"\n",
    "    freq_map = Counter(t)\n",
    "    total = len(t)\n",
    "    start = 0\n",
    "    smallest = s\n",
    "    for end in range(len(s)):\n",
    "        char = s[end]\n",
    "        if char in freq_map:\n",
    "            freq_map[char] -= 1\n",
    "            if freq_map[char] >= 0:\n",
    "                total -= 1\n",
    "        while total == 0:\n",
    "            window = s[start: end+1]\n",
    "            if len(window) < len(smallest):\n",
    "                smallest = window\n",
    "            if start < end and s[start] in freq_map:\n",
    "                freq_map[s[start]] += 1\n",
    "            start += 1\n",
    "    return smallest\n",
    "        \n",
    "print(minWindow(s = \"ADOBECODEBANC\", t = \"ABC\")) #Output: \"BANC\"\n",
    "        "
   ]
  },
  {
   "cell_type": "code",
   "execution_count": null,
   "id": "ba112d5e-8517-4be2-8e16-405576e9de25",
   "metadata": {},
   "outputs": [],
   "source": []
  }
 ],
 "metadata": {
  "kernelspec": {
   "display_name": "Python 3 (ipykernel)",
   "language": "python",
   "name": "python3"
  },
  "language_info": {
   "codemirror_mode": {
    "name": "ipython",
    "version": 3
   },
   "file_extension": ".py",
   "mimetype": "text/x-python",
   "name": "python",
   "nbconvert_exporter": "python",
   "pygments_lexer": "ipython3",
   "version": "3.12.4"
  }
 },
 "nbformat": 4,
 "nbformat_minor": 5
}
