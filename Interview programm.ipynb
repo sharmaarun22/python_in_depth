{
 "cells": [
  {
   "cell_type": "code",
   "execution_count": 2,
   "metadata": {},
   "outputs": [
    {
     "data": {
      "text/plain": [
       "{1: 'a', 3: 'a'}"
      ]
     },
     "execution_count": 2,
     "metadata": {},
     "output_type": "execute_result"
    }
   ],
   "source": [
    "# print the items of the dictionary whose values are repeated\n",
    "from collections import Counter\n",
    "dict1 = {1: \"a\", 2: \"b\", 3: \"a\", 4: \"c\"}\n",
    "dict([item for item in dict1.items() if item[1] in [item[0] for item in Counter(dict1.values()).items() if item[1]>1]])"
   ]
  },
  {
   "cell_type": "code",
   "execution_count": 10,
   "metadata": {},
   "outputs": [
    {
     "data": {
      "text/plain": [
       "dict_items([('a', 2), ('b', 1), ('c', 1)])"
      ]
     },
     "execution_count": 10,
     "metadata": {},
     "output_type": "execute_result"
    }
   ],
   "source": [
    "l1 = dict1.values()\n",
    "c1 = Counter(l1)\n",
    "itemlst = c1.items()\n",
    "[i[0] for i in itemlst if i[1]>1]"
   ]
  },
  {
   "cell_type": "code",
   "execution_count": null,
   "metadata": {},
   "outputs": [],
   "source": [
    "# find if the number is prime\n",
    "\n",
    "x  = int(input(\"Enter the number: \"))\n",
    "y = list(filter(lambda i: x%i==0, range(2, x)))\n",
    "if len(y)==0 and x!=1:\n",
    "    print(\"prime\")\n",
    "else:\n",
    "    print(\"not prime\")  "
   ]
  },
  {
   "cell_type": "code",
   "execution_count": null,
   "metadata": {},
   "outputs": [],
   "source": [
    "# Filter out the ip addresses out of the string.\n",
    "# Expected Output: ['123.345.567.23', '23.58.56.98']\n",
    "\n",
    "x = \"123.345.567.23 Arun 23.58.56.98 Virsec 496lsdfghkjdjfhdf\"\n",
    "\n",
    "import re\n",
    "\n",
    "matcher = re.finditer(\"[\\d]{1,3}.[\\d]{1,3}.[\\d]{1,3}.[\\d]{1,3}\", x)\n",
    "[match.group() for match in matcher]"
   ]
  },
  {
   "cell_type": "code",
   "execution_count": null,
   "metadata": {},
   "outputs": [],
   "source": [
    "# From the below string, create a dictionary having \n",
    "# alphabets as keys and numeric values as values\n",
    "# expected output: {'ABC': '123', 'DEF': '111', 'XYZ': '121', 'P': '555'}\n",
    "\n",
    "x = \"ABC:123_DEF:111_XYZ:121_P:555\"\n",
    "\n",
    "x = x.split(\"_\")\n",
    "list_of_key_value = [tuple(i.split(\":\")) for i in x]\n",
    "dict(list_of_key_value)"
   ]
  },
  {
   "cell_type": "code",
   "execution_count": null,
   "metadata": {},
   "outputs": [],
   "source": [
    "# From the below string, create a dictionary having \n",
    "# alphabets as keys and numeric values as values\n",
    "# pair where key is not present should be discarded and should not be a part of the dictionary\n",
    "# Expected Output: {'ABC': 123, 'DEF': 111, 'XYZ': 121}\n",
    "\n",
    "x = \"ABC:123_:545_DEF:111_XYZ:121\"\n",
    "\n",
    "x = x.split(\"_\")\n",
    "list_of_tuples = [tuple(i.split(\":\")) for i in x if i.split(\":\")[0]!=\"\"]\n",
    "dict(list_of_tuples)"
   ]
  },
  {
   "cell_type": "code",
   "execution_count": null,
   "metadata": {},
   "outputs": [],
   "source": [
    "# Calculate the sum of the numbers present in the string\n",
    "#Expected Output: 123+23+2+46+45 = 239\n",
    "\n",
    "x = \"123arun23an2d46akku45\"\n",
    "import re\n",
    "matcher = re.finditer(\"[\\d]+\",x)\n",
    "sum([int(match.group()) for match in matcher])"
   ]
  },
  {
   "cell_type": "code",
   "execution_count": null,
   "metadata": {},
   "outputs": [],
   "source": []
  }
 ],
 "metadata": {
  "kernelspec": {
   "display_name": "Python 3",
   "language": "python",
   "name": "python3"
  },
  "language_info": {
   "codemirror_mode": {
    "name": "ipython",
    "version": 3
   },
   "file_extension": ".py",
   "mimetype": "text/x-python",
   "name": "python",
   "nbconvert_exporter": "python",
   "pygments_lexer": "ipython3",
   "version": "3.6.5"
  }
 },
 "nbformat": 4,
 "nbformat_minor": 2
}
