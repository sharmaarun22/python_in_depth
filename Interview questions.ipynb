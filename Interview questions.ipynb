{
 "cells": [
  {
   "cell_type": "code",
   "execution_count": 8,
   "id": "efff639f",
   "metadata": {},
   "outputs": [
    {
     "data": {
      "text/plain": [
       "[2, 3, 5, 7, 11, 13, 17, 19]"
      ]
     },
     "execution_count": 8,
     "metadata": {},
     "output_type": "execute_result"
    }
   ],
   "source": [
    "#Find out all the prime numbers less than 20\n",
    "#Logic is that either of break or else will execute\n",
    "prime_numbers = [2]\n",
    "for i in range(3,20):\n",
    "    for j in range(2, i+1//2):\n",
    "        if i%j==0:\n",
    "            break\n",
    "    else:\n",
    "        prime_numbers.append(i)\n",
    "        \n",
    "prime_numbers\n"
   ]
  },
  {
   "cell_type": "code",
   "execution_count": 11,
   "id": "bcd002cf",
   "metadata": {},
   "outputs": [
    {
     "name": "stdout",
     "output_type": "stream",
     "text": [
      "Enter the number: 6\n",
      "not prime\n"
     ]
    }
   ],
   "source": [
    "# find if the number is prime\n",
    "num = int(input(\"Enter the number: \"))\n",
    "l1 = list(filter(lambda x: num%x==0, range(2, int(num/2)+1)))\n",
    "if len(l1)==0 and num not in [0,1]:\n",
    "    print(\"prime\")\n",
    "else:\n",
    "    print(\"not prime\")"
   ]
  },
  {
   "cell_type": "code",
   "execution_count": 4,
   "id": "b633ce94",
   "metadata": {},
   "outputs": [
    {
     "data": {
      "text/plain": [
       "4"
      ]
     },
     "execution_count": 4,
     "metadata": {},
     "output_type": "execute_result"
    }
   ],
   "source": [
    "#List Comprehension examples\n",
    "\n",
    "l1 = [1,2,3,4]\n",
    "l2 = [10,20,30,40]\n",
    "\n",
    "[i+j for i,j in zip(l1,l2)]                        #without if-else\n",
    "[i+j for i,j in zip(l1,l2) if (i+j)%2==0]          #with if\n",
    "[0 if (i+j)%2==0 else i+j for i,j in zip(l1,l2)]   #with if-else\n"
   ]
  },
  {
   "cell_type": "code",
   "execution_count": 6,
   "id": "0a5e99f7",
   "metadata": {},
   "outputs": [
    {
     "data": {
      "text/plain": [
       "'gnihtemos'"
      ]
     },
     "execution_count": 6,
     "metadata": {},
     "output_type": "execute_result"
    }
   ],
   "source": [
    "#Reverse a string\n",
    "s = \"something\"\n",
    "s[::-1]"
   ]
  },
  {
   "cell_type": "code",
   "execution_count": 10,
   "id": "b4d6dc27",
   "metadata": {},
   "outputs": [
    {
     "name": "stdout",
     "output_type": "stream",
     "text": [
      "True\n",
      "False\n"
     ]
    }
   ],
   "source": [
    "#Find if the string is palindrome or not\n",
    "s1 = \"malayalam\"\n",
    "s2 = \"arun\"\n",
    "def palindrome(s):\n",
    "    return True if s==s[::-1] else False\n",
    "\n",
    "print(palindrome(s1))\n",
    "print(palindrome(s2))"
   ]
  },
  {
   "cell_type": "code",
   "execution_count": 29,
   "id": "e317c1cb",
   "metadata": {},
   "outputs": [
    {
     "name": "stdout",
     "output_type": "stream",
     "text": [
      "{'I': 4, 'feel': 11, 'a': 3, 'funny': 2, 'if': 1, 'you': 2, 'the': 2, 'will': 1}\n"
     ]
    },
    {
     "data": {
      "text/plain": [
       "['feel']"
      ]
     },
     "execution_count": 29,
     "metadata": {},
     "output_type": "execute_result"
    }
   ],
   "source": [
    "#Count the no. of ocurrences of words in a given string, and tell the word with highest no. of ocurrences.\n",
    "\n",
    "s = \"I feel a feel a funny feel a funny feel I feel if you feel the feel I feel I will feel the feel you feel\"\n",
    "dict = {}\n",
    "for i in s.split():\n",
    "    if i in dict:\n",
    "        dict[i]= dict[i]+1\n",
    "    else:\n",
    "        dict[i]= 1\n",
    "\n",
    "print(dict)      \n",
    "\n",
    "max_value = max(dict.values())\n",
    "[key for key in dict.keys() if dict[key]==max_value]\n",
    "     "
   ]
  },
  {
   "cell_type": "code",
   "execution_count": 51,
   "id": "efc4fdec",
   "metadata": {},
   "outputs": [
    {
     "name": "stdout",
     "output_type": "stream",
     "text": [
      "{'I': 4, 'feel': 8, 'a': 3, 'funny': 2, 'if': 1, 'you': 2, 'the': 2, 'will': 1}\n",
      "8\n"
     ]
    }
   ],
   "source": [
    "#Count the no. of ocurrences of words in a given string, and tell the word with highest no. of ocurrences.\n",
    "#if the string has comma and we want to remove all the words having comma from the result\n",
    "\n",
    "s = \"I feel a feel a funny feel, a funny feel I feel, if you feel the feel I feel, I will feel the feel you feel\"\n",
    "dict = {}\n",
    "s=list(filter(lambda x: x[-1]!=\",\", s.split()))\n",
    "for i in s:\n",
    "    if i in dict:\n",
    "        dict[i]= dict[i]+1\n",
    "    else:\n",
    "        dict[i]= 1\n",
    "\n",
    "print(dict)      \n",
    "max_value = max(dict.values())\n",
    "print(max_value)\n",
    "\n",
    "     "
   ]
  },
  {
   "cell_type": "code",
   "execution_count": 71,
   "id": "d76fde96",
   "metadata": {},
   "outputs": [
    {
     "name": "stdout",
     "output_type": "stream",
     "text": [
      "{'I': 4, 'feel': 11, 'a': 3, 'funny': 2, 'if': 1, 'you': 2, 'the': 2, 'will': 1}\n",
      "11\n"
     ]
    }
   ],
   "source": [
    "#Count the no. of ocurrences of words in a given string, and tell the word with highest no. of ocurrences.\n",
    "#if the string has comma and we want to remove the comma but include the word in the result\n",
    "\n",
    "s = \"I feel a feel a funny feel, a funny feel I feel, if you feel the feel I feel, I will feel the feel you feel\"\n",
    "dict = {}\n",
    "s = [i if i[-1]!=\",\" else i[:-1] for i in s.split() ]\n",
    "for i in s:\n",
    "    if i in dict:\n",
    "        dict[i]= dict[i]+1\n",
    "    else:\n",
    "        dict[i]= 1\n",
    "\n",
    "print(dict)      \n",
    "max_value = max(dict.values())\n",
    "print(max_value)\n",
    "\n",
    "     "
   ]
  },
  {
   "cell_type": "code",
   "execution_count": 4,
   "id": "4bbb28e5",
   "metadata": {},
   "outputs": [
    {
     "data": {
      "text/plain": [
       "[5, 5, 1, 5, 4, 4, 3]"
      ]
     },
     "execution_count": 4,
     "metadata": {},
     "output_type": "execute_result"
    }
   ],
   "source": [
    "# create a list of integers which specify the length of each word in a certain sentence,\n",
    "# but only if the word is not the word \"the\".\n",
    "# split - it splits every word in the string and saves it in a list\n",
    "\n",
    "s = \"the quick brown x jumps over the lazy dog\"\n",
    "\n",
    "[len(i) for i in s.split() if i != \"the\"]"
   ]
  },
  {
   "cell_type": "code",
   "execution_count": 6,
   "id": "610c5290",
   "metadata": {},
   "outputs": [
    {
     "name": "stdout",
     "output_type": "stream",
     "text": [
      "*\n",
      "**\n",
      "***\n",
      "****\n",
      "*****\n"
     ]
    }
   ],
   "source": [
    "# *\n",
    "# **\n",
    "# ***\n",
    "# ****\n",
    "# *****\n",
    "\n",
    "for i in range(1,6):\n",
    "    print(i*\"*\")"
   ]
  },
  {
   "cell_type": "code",
   "execution_count": 10,
   "id": "c80f6836",
   "metadata": {},
   "outputs": [
    {
     "name": "stdout",
     "output_type": "stream",
     "text": [
      "1\n",
      "21\n",
      "321\n",
      "4321\n",
      "54321\n"
     ]
    }
   ],
   "source": [
    "# 1\n",
    "# 21\n",
    "# 321\n",
    "# 4321\n",
    "# 54321\n",
    "\n",
    "for i in range(1,6):\n",
    "    for j in range(i):\n",
    "        print(i-j, end=\"\")\n",
    "    print(\"\")"
   ]
  },
  {
   "cell_type": "code",
   "execution_count": 1,
   "id": "aab871e2",
   "metadata": {},
   "outputs": [
    {
     "data": {
      "text/plain": [
       "[False, True, False, True, False]"
      ]
     },
     "execution_count": 1,
     "metadata": {},
     "output_type": "execute_result"
    }
   ],
   "source": [
    "# if number is even return True else False\n",
    "number = [1,2,3,4,5]\n",
    "[True if i%2==0 else False for i in number]"
   ]
  },
  {
   "cell_type": "code",
   "execution_count": 19,
   "id": "f8981f87",
   "metadata": {},
   "outputs": [
    {
     "name": "stdout",
     "output_type": "stream",
     "text": [
      "equal\n",
      "not equal\n",
      "equal\n",
      "not equal\n"
     ]
    }
   ],
   "source": [
    "# Find out if the dictionaries are equal \n",
    "d1 = {'ABC': '123', 'DEF': '111', 'XYZ': '121', 'P': '555'}\n",
    "d2 = {'DEF': '111', 'ABC': '123', 'XYZ': '121', 'P': '555'}\n",
    "d3 = {'ABC': '777', 'DEF': '111', 'XYZ': '121', 'P': '555'}\n",
    "d4 = {'ABC': '777', 'DEF': '111', 'P': '555', 'XYZ': '121'}\n",
    "\n",
    "def is_equal(D1, D2):\n",
    "    if len(D1)==len(D2):\n",
    "        for item in D1.items():\n",
    "            if item not in D2.items():\n",
    "                print(\"not equal\")\n",
    "                break\n",
    "        else:\n",
    "            print(\"equal\")\n",
    "\n",
    "    else:\n",
    "        print(\"not equal\")\n",
    "        \n",
    "is_equal(d1,d2)\n",
    "is_equal(d1,d3)\n",
    "is_equal(d4,d3)\n",
    "is_equal(d4,d2)  "
   ]
  },
  {
   "cell_type": "code",
   "execution_count": 15,
   "id": "7c644654",
   "metadata": {},
   "outputs": [
    {
     "name": "stdout",
     "output_type": "stream",
     "text": [
      "('lang', 'python')\n"
     ]
    }
   ],
   "source": [
    "# Right the comparator function to compare both the dictionaries if the two dicts are equal or not.\n",
    "# If they are not equal then your program should print the difference\n",
    "\n",
    "x = {\"name\": \"Arun\", \"age\": 26, \"skills\": {\"lang\": \"python\", \"profile\": \"QA\"}}\n",
    "y = {\"name\": \"Arun\", \"age\": 26, \"skills\": {\"lang\": \"java\", \"profile\": \"QA\"}}\n",
    "z = {\"name\": \"Arun\", \"age\": 26, \"skills\": {\"profile\": \"QA\",\"lang\": \"python\"}}\n",
    "\n",
    "def comparator(D1, D2):\n",
    "    \n",
    "    if len(D1) != len(D1):\n",
    "        print(\"Not equal because the length of the dictionaries is not same\")\n",
    "        return False\n",
    "    else:\n",
    "        for item in D1.items():\n",
    "            if item not in D2.items():\n",
    "                if type(item[1])==dict:\n",
    "                    return comparator(D1[item[0]], D2[item[0]])\n",
    "                else:\n",
    "                    return item\n",
    "            else:\n",
    "                continue\n",
    "        return True\n",
    "\n",
    "    \n",
    "                \n",
    "# print(comparator(x,z)) \n",
    "print(comparator(x,y)) \n",
    "    "
   ]
  },
  {
   "cell_type": "code",
   "execution_count": 21,
   "id": "b5d09010",
   "metadata": {},
   "outputs": [
    {
     "name": "stdout",
     "output_type": "stream",
     "text": [
      "lang of both the dictionaries is not same\n"
     ]
    }
   ],
   "source": [
    "# Right the comparator function to compare both the dictionaries if the two dicts are equal or not.\n",
    "# If they are not equal then your program should print the difference\n",
    "\n",
    "x = {\"name\": \"Arun\", \"age\": 26, \"skills\": {\"lang\": \"python\", \"profile\": \"QA\"}}\n",
    "y = {\"name\": \"Arun\", \"age\": 26, \"skills\": {\"lang\": \"java\", \"profile\": \"QA\"}}\n",
    "z = {\"name\": \"Arun\", \"age\": 26, \"skills\": {\"profile\": \"QA\",\"lang\": \"python\"}}\n",
    "\n",
    "def comparator(D1, D2):\n",
    "    \n",
    "    if len(D1) != len(D1):\n",
    "        print(\"Not equal because the length of the dictionaries is not same\")\n",
    "        return False\n",
    "    else:\n",
    "        for key,value in D1.items():\n",
    "            if (key,value) not in D2.items():\n",
    "                if type(value)==dict:\n",
    "                    return comparator(D1[key], D2[key])\n",
    "                else:\n",
    "                    return key\n",
    "            else:\n",
    "                continue\n",
    "        return True\n",
    "\n",
    "    \n",
    "                \n",
    "# print(comparator(x,z)) \n",
    "result = comparator(x,y)\n",
    "if result != True:\n",
    "    print(f\"{result} of both the dictionaries is not same\")"
   ]
  },
  {
   "cell_type": "code",
   "execution_count": 27,
   "id": "ba0d3df0",
   "metadata": {},
   "outputs": [
    {
     "name": "stdout",
     "output_type": "stream",
     "text": [
      "Sum using sum function is 239\n",
      "Sum using reduce function is 239\n"
     ]
    }
   ],
   "source": [
    "# Find the sum of the numbers present in string.\n",
    "# Ans is: 123 + 23 + 2 + 46 + 45 = 239\n",
    "\n",
    "import re\n",
    "from functools import reduce\n",
    "\n",
    "x = \"123arun23an2d46sagar45\"\n",
    "\n",
    "matcher = re.findall(\"[\\d]+\", x)\n",
    "matcher = [int(i) for i in matcher]\n",
    "\n",
    "sum1 = sum(matcher)\n",
    "sum2 = reduce(lambda x,y: x+y, matcher)\n",
    "\n",
    "print(\"Sum using sum function is {}\".format(sum1))\n",
    "print(\"Sum using reduce function is {}\".format(sum2))\n",
    "\n",
    "\n"
   ]
  },
  {
   "cell_type": "code",
   "execution_count": 47,
   "id": "be66777f",
   "metadata": {},
   "outputs": [
    {
     "name": "stdout",
     "output_type": "stream",
     "text": [
      "Enter a number: 5826132\n"
     ]
    },
    {
     "data": {
      "text/plain": [
       "True"
      ]
     },
     "execution_count": 47,
     "metadata": {},
     "output_type": "execute_result"
    }
   ],
   "source": [
    "# Write a method, which, when given a number,\n",
    "# returns true if the string has atleast 2 digits that\n",
    "# are consequent digits.\n",
    "# Ex: 147 returns a false\n",
    "# Ex: 3740576 returns a true since 7,6 are adjacent numbers\n",
    "# Ex: 475 returns a false since 4,5 are adjacent numbers,\n",
    "# but they are not present side by side.\n",
    "\n",
    "def is_consequent(n):\n",
    "    if len(str(n))==1:\n",
    "        return False\n",
    "    else:\n",
    "        n = str(n)\n",
    "        n1 = [int(i) for i in n]\n",
    "        for i in range(len(n)-1):\n",
    "            if n1[i]==n1[i+1]+1 or n1[i]==n1[i+1]-1:\n",
    "                return True\n",
    "        return False\n",
    "                \n",
    "        \n",
    "                \n",
    "    \n",
    "n = input(\"Enter a number: \")\n",
    "flag = is_consequent(n)\n",
    "flag"
   ]
  },
  {
   "cell_type": "code",
   "execution_count": 66,
   "id": "943359c0",
   "metadata": {},
   "outputs": [
    {
     "name": "stdout",
     "output_type": "stream",
     "text": [
      "Give amount: 6\n"
     ]
    },
    {
     "data": {
      "text/plain": [
       "[0, 1, 1, 2, 3, 5]"
      ]
     },
     "execution_count": 66,
     "metadata": {},
     "output_type": "execute_result"
    }
   ],
   "source": [
    "# Give the fabonacci series utpo the number\n",
    "\n",
    "n = int(input('Give amount: '))\n",
    "\n",
    "def fib(n):\n",
    "    a,b = 0,1\n",
    "    for i in range(n):\n",
    "        yield a\n",
    "        a,b = b,a+b\n",
    "        \n",
    "x = fib(n)\n",
    "[i for i in x]\n",
    "    \n",
    "    "
   ]
  },
  {
   "cell_type": "code",
   "execution_count": 75,
   "id": "a671ea84",
   "metadata": {},
   "outputs": [
    {
     "data": {
      "text/plain": [
       "Counter({1: 4, 2: 5, 3: 4, 6: 1, 4: 3, 5: 1, 'Akku': 2, '&': 1, 'Arun': 1})"
      ]
     },
     "execution_count": 75,
     "metadata": {},
     "output_type": "execute_result"
    }
   ],
   "source": [
    "# Count the number of ocurrences of each element\n",
    "\n",
    "from collections import Counter\n",
    "y = [1,2,3,6,4,2,1,3,1,2,4,5,3,2,4,2,3,1, \"Akku\", \"Akku\", \"&\", \"Arun\"]\n",
    "Counter(y)"
   ]
  },
  {
   "cell_type": "code",
   "execution_count": 92,
   "id": "c0850447",
   "metadata": {},
   "outputs": [
    {
     "name": "stdout",
     "output_type": "stream",
     "text": [
      "Counter({'a': 2, 'b': 1, 'c': 1})\n"
     ]
    },
    {
     "data": {
      "text/plain": [
       "{1: 'a', 3: 'a'}"
      ]
     },
     "execution_count": 92,
     "metadata": {},
     "output_type": "execute_result"
    }
   ],
   "source": [
    "# print the items of the dictionary whose values are repeated\n",
    "\n",
    "from collections import Counter\n",
    "\n",
    "dict1 = {1: \"a\", 2: \"b\", 3: \"a\", 4: \"c\"}\n",
    "# print(help(Counter))\n",
    "\n",
    "c = Counter(dict1.values())\n",
    "print(c)\n",
    "x = [item[0] for item in c.items() if item[1]>1]\n",
    "\n",
    "[j for i in x for j in dict1.items() if i==j[1]]\n",
    "\n",
    "# Above program can also be written as\n",
    "\n",
    "dict([item for item in dict1.items() if item[1] in [item[0] for item in Counter(dict1.values()).items() if item[1]>1]])\n"
   ]
  },
  {
   "cell_type": "markdown",
   "id": "2a9c7d0b",
   "metadata": {},
   "source": [
    "# File Handling"
   ]
  },
  {
   "cell_type": "code",
   "execution_count": 30,
   "id": "f30af01d",
   "metadata": {},
   "outputs": [
    {
     "name": "stdout",
     "output_type": "stream",
     "text": [
      "Whatever you do in this life is not legendary,\n",
      "\n",
      "Whatever you do in this life is not legendary,\n",
      "unless your friends are there to see it. happyFriendshipDay\n",
      "you do in this life\n",
      "Whatever you do in this life is not legendary,\n",
      "\n",
      "unless your friends are there to see it. happyFriendshipDay\n"
     ]
    }
   ],
   "source": [
    "import os\n",
    "\n",
    "# dir_path = \"C:\\\\Users\\\\Administrator\\\\Downloads\" # This will create a file in Downloads\n",
    "dir_path = \"\" # Default path is Jupyter home page only, so it will create a file there itself.\n",
    "\n",
    "class FileHandling:\n",
    "\n",
    "    def __init__(self, file_name):\n",
    "        self.file_name = os.path.join(dir_path, file_name)\n",
    "\n",
    "    def write_file(self):\n",
    "        with open(self.file_name, \"w+\") as fileToWrite:\n",
    "            string = \"Whatever you do in this life is not legendary,\\n\"\n",
    "            fileToWrite.write(string)\n",
    "\n",
    "    def append_file(self):\n",
    "        with open(self.file_name, \"a\") as file_to_append:\n",
    "            string = \"unless your friends are there to see it. happyFriendshipDay\"\n",
    "            file_to_append.write(string)\n",
    "\n",
    "    def read_lines_in_list(self):\n",
    "        with open(self.file_name, \"r+\") as fileToRead: # readlines() return list of lines\n",
    "            string = fileToRead.readlines()\n",
    "            return string\n",
    "\n",
    "    def read_single_line(self):\n",
    "        with open(self.file_name, \"r+\") as fileToRead:\n",
    "            string = fileToRead.readline() # readline() returns single line\n",
    "            print(string)\n",
    "\n",
    "    def read_whole_file(self):\n",
    "        with open(self.file_name, \"r+\") as fileToRead:\n",
    "            string = fileToRead.read()\n",
    "            print(string)\n",
    "\n",
    "    def read_upto(self, start_char, end_char):\n",
    "        with open(self.file_name, \"r+\") as fileToRead:\n",
    "            fileToRead.seek(start_char)\n",
    "            string = fileToRead.read(end_char)\n",
    "            print(string)\n",
    "            \n",
    "fh = FileHandling(\"file_handling_practice\")\n",
    "fh.write_file()\n",
    "fh.append_file()\n",
    "fh.read_single_line()\n",
    "fh.read_whole_file()\n",
    "fh.read_upto(9, 19)\n",
    "\n",
    "lines = fh.read_lines_in_list()\n",
    "for line in lines:\n",
    "    print(line)"
   ]
  },
  {
   "cell_type": "code",
   "execution_count": 45,
   "id": "d7019f8d",
   "metadata": {},
   "outputs": [
    {
     "name": "stdout",
     "output_type": "stream",
     "text": [
      "happyFriendshipDay\n"
     ]
    }
   ],
   "source": [
    "#Read the camelcase from the file created in above question\n",
    "\n",
    "import os, re\n",
    "\n",
    "dir_path = \"\"\n",
    "file = \"file_handling_practice\"\n",
    "\n",
    "file_name = os.path.join(dir_path, file)\n",
    "\n",
    "def read_file():\n",
    "    with open(file_name, \"r+\") as fh:\n",
    "        return fh.read()\n",
    "\n",
    "content = read_file()\n",
    "\n",
    "matcher = re.findall(\"[a-z]+[A-Z][a-z | A-Z]+\", content)\n",
    "for i in matcher:\n",
    "    print(i)\n",
    "    \n"
   ]
  },
  {
   "cell_type": "code",
   "execution_count": 53,
   "id": "122a2826",
   "metadata": {},
   "outputs": [
    {
     "name": "stdout",
     "output_type": "stream",
     "text": [
      "10\n",
      "14\n",
      "17\n"
     ]
    },
    {
     "data": {
      "text/plain": [
       "[10, 14, 17]"
      ]
     },
     "execution_count": 53,
     "metadata": {},
     "output_type": "execute_result"
    }
   ],
   "source": [
    "# program to count the number of elements which are greater than any of the elements on the right side of an array\n",
    "# and if it is lesser it should be replaced by -1\n",
    "\n",
    "l1 = [10,2,3,14,5,6,17,8,9] \n",
    "\n",
    "for i in enumerate(l1):\n",
    "    for j in l1[i[0]:]:\n",
    "        if i[1]>j:\n",
    "            print(i[1])\n",
    "            break\n",
    "\n",
    "# Above program can also be written as \n",
    "\n",
    "[b for a,b in enumerate(l1) if any([True for c in l1[a:] if b>c])] "
   ]
  },
  {
   "cell_type": "code",
   "execution_count": 60,
   "id": "496145c6",
   "metadata": {},
   "outputs": [
    {
     "data": {
      "text/plain": [
       "[1, 3, 5, 9]"
      ]
     },
     "execution_count": 60,
     "metadata": {},
     "output_type": "execute_result"
    }
   ],
   "source": [
    "# program to count the array elements that divide the sum of all other elements \n",
    "l1 = [1,2,3,4,5,6,7,8,9]\n",
    "\n",
    "[i for i in l1 if (sum(l1)-i)%i == 0]"
   ]
  },
  {
   "cell_type": "code",
   "execution_count": 34,
   "id": "8613afab",
   "metadata": {},
   "outputs": [
    {
     "data": {
      "text/plain": [
       "[(2, 1), (1, 2), (2, 3), (4, 4), (2, 5)]"
      ]
     },
     "execution_count": 34,
     "metadata": {},
     "output_type": "execute_result"
    }
   ],
   "source": [
    "# Write a Python program to get a list, sorted in increasing order by the last element in each tuple from a given list of non-empty tuples. Go to the editor\n",
    "# Expected Result : [(2, 1), (1, 2), (2, 3), (4, 4), (2, 5)]\n",
    "\n",
    "x = [(2, 5), (1, 2), (4, 4), (2, 3), (2, 1)]\n",
    "\n",
    "total = len(x)\n",
    "for i in range(total):\n",
    "    for j in range(i+1,total):\n",
    "        if x[i][1]>x[j][1]:\n",
    "            x[i],x[j] = x[j],x[i]\n",
    "\n",
    "x          "
   ]
  },
  {
   "cell_type": "code",
   "execution_count": 58,
   "id": "5842f6c0",
   "metadata": {},
   "outputs": [
    {
     "name": "stdout",
     "output_type": "stream",
     "text": [
      "total Paricipants are 3 namely Sachin, Vamshi and Rajesh\n",
      "Out of which Sachin spoken 1 times, Vamshi spoken 2 times and Rajesh spoken 1 times,\n"
     ]
    }
   ],
   "source": [
    "# Some friends are talking over the phone. Write the below call logs to the file. \n",
    "# Read the file and find out how many people are there on the call and who spoken how many times?\n",
    "\n",
    "\"\"\"\n",
    "Sachin: Hello\n",
    "Vamshi: Hi\n",
    "Rajesh: Hey\n",
    "Vamshi: How are you\n",
    "\n",
    "Output:\n",
    "Vamshi: 2\n",
    "Rajesh: 1\n",
    "Sachin: 1\n",
    "\n",
    "\"\"\"\n",
    " \n",
    "from collections import Counter\n",
    "\n",
    "with open(\"phone_logs\", \"w+\") as content:\n",
    "    content.write(\"Sachin: Hello\\n\")\n",
    "    content.write(\"Vamshi: Hi\\n\")\n",
    "    content.write(\"Rajesh: Hey\\n\")\n",
    "    content.write(\"Vamshi: How are you\\n\")\n",
    "    \n",
    "with open(\"phone_logs\", \"r+\") as content:\n",
    "    content = content.readlines()\n",
    "    \n",
    "tmp = [i.split(\":\")[0] for i in content]\n",
    "dict_log = Counter(tmp)\n",
    "total_participants = len(dict_log)\n",
    "names = list(dict_log.keys())\n",
    "\n",
    "print(f\"total Paricipants are {total_participants} namely {names[0]}, {names[1]} and {names[2]}\")\n",
    "print(f\"Out of which {names[0]} spoken {dict_log[names[0]]} times, {names[1]} spoken {dict_log[names[1]]} times and {names[2]} spoken {dict_log[names[2]]} times,\")\n"
   ]
  },
  {
   "cell_type": "code",
   "execution_count": 66,
   "id": "1734345c",
   "metadata": {},
   "outputs": [
    {
     "name": "stdout",
     "output_type": "stream",
     "text": [
      "Enter the lower limit: 10\n",
      "Enter the upper limit: 16\n",
      "\n",
      "\n",
      "10 is buzz\n",
      "12 is fizz\n",
      "15 is both fizz and buzz\n",
      "15 is buzz\n"
     ]
    }
   ],
   "source": [
    "# Ask the range of numbers from user i.e. the lower limit and the upper limit, then for all the numbers print the following output \n",
    "# fizz when number is divisible by 3 , buzz when  number is divisible by 5\n",
    "\n",
    "l = int(input(\"Enter the lower limit: \"))\n",
    "u = int(input(\"Enter the upper limit: \"))\n",
    "\n",
    "print(\"\\n\")\n",
    "\n",
    "for i in range(l,u):\n",
    "    if i%3==0:       \n",
    "        if i%5==0:\n",
    "            print(f\"{i} is both fizz and buzz\")\n",
    "        else:\n",
    "            print(f\"{i} is fizz\")\n",
    "            \n",
    "    if i%5==0:\n",
    "            print(f\"{i} is buzz\")\n"
   ]
  },
  {
   "cell_type": "code",
   "execution_count": null,
   "id": "36bc0414",
   "metadata": {},
   "outputs": [],
   "source": [
    "Note: Question is unknown\n",
    "\n",
    "x = [1,1,1,2]\n",
    "k = 3\n",
    "sum = x[0]\n",
    "subArray = []\n",
    "sub_lst = []\n",
    "for i in range(len(x)):\n",
    "    sum = sum+x[i]\n",
    "    sub_lst = sub_lst.append(i)\n",
    "    if sum==3:\n",
    "        subArray.append(True)\n",
    "        sum=0\n",
    "    elif sum>3:\n",
    "        sum=0\n",
    "len(subArray)"
   ]
  },
  {
   "cell_type": "code",
   "execution_count": null,
   "id": "178542c6",
   "metadata": {},
   "outputs": [],
   "source": [
    "Note: Question is unknown\n",
    "    \n",
    "def sum_of_sub_list(l1, k1):\n",
    "    x = l1\n",
    "    k = k1\n",
    "    sum = 0\n",
    "    subArray = []\n",
    "    sub_lst = []\n",
    "    for i in range(0, len(x)):\n",
    "        for j in range(i, len(x)):\n",
    "            sub_lst.append(x[j])\n",
    "            sum = sum+x[j]    \n",
    "            if sum==k:\n",
    "                subArray.append(sub_lst)\n",
    "                sum=0\n",
    "                sub_lst = []\n",
    "                break\n",
    "            elif sum>k:\n",
    "                sum=0\n",
    "                sub_lst = []\n",
    "                break\n",
    "    print(subArray)\n",
    "    \n",
    "# sum_of_sub_list([1,1,1,2], 3)\n",
    "# sum_of_sub_list([0,0], 3)\n",
    "# sum_of_sub_list([0, 1], 3)\n",
    "# sum_of_sub_list([1,1,1], 0)\n",
    "# sum_of_sub_list([3,3,3], 3)\n",
    "sum_of_sub_list([-1,1,-1], 0)\n",
    "sum_of_sub_list([-1,-1,-1], 0)\n",
    "sum_of_sub_list([-1,1,-1], -1)\n",
    "sum_of_sub_list([-1,1,-1,2],2)    "
   ]
  }
 ],
 "metadata": {
  "kernelspec": {
   "display_name": "Python 3 (ipykernel)",
   "language": "python",
   "name": "python3"
  },
  "language_info": {
   "codemirror_mode": {
    "name": "ipython",
    "version": 3
   },
   "file_extension": ".py",
   "mimetype": "text/x-python",
   "name": "python",
   "nbconvert_exporter": "python",
   "pygments_lexer": "ipython3",
   "version": "3.9.12"
  }
 },
 "nbformat": 4,
 "nbformat_minor": 5
}
