{
 "cells": [
  {
   "cell_type": "code",
   "execution_count": 12,
   "id": "efff639f",
   "metadata": {},
   "outputs": [
    {
     "name": "stdout",
     "output_type": "stream",
     "text": [
      "4\n",
      "6\n",
      "8\n",
      "9\n",
      "10\n",
      "12\n"
     ]
    }
   ],
   "source": [
    "#Find out all the prime numbers between 3 to 13\n",
    "#Logic is that either of break or else will execute\n",
    "for i in range(2, 14):\n",
    "    for j in range(2, i//2+1):\n",
    "        if i%j!=0:\n",
    "            break\n",
    "    else:\n",
    "        continue\n",
    "    print(i)"
   ]
  },
  {
   "cell_type": "code",
   "execution_count": 4,
   "id": "4bfbd3be",
   "metadata": {},
   "outputs": [
    {
     "data": {
      "text/plain": [
       "4"
      ]
     },
     "execution_count": 4,
     "metadata": {},
     "output_type": "execute_result"
    }
   ],
   "source": [
    "#List Comprehension examples without if-else, with if, with if-else\n",
    "\n",
    "l1 = [1,2,3,4]\n",
    "l2 = [10,20,30,40]\n",
    "\n",
    "[i+j for i,j in zip(l1,l2)]\n",
    "[i+j for i,j in zip(l1,l2) if (i+j)%2==0]\n",
    "[0 if (i+j)%2==0 else i+j for i,j in zip(l1,l2)]\n"
   ]
  },
  {
   "cell_type": "code",
   "execution_count": 6,
   "id": "8e5954bb",
   "metadata": {},
   "outputs": [
    {
     "data": {
      "text/plain": [
       "'gnihtemos'"
      ]
     },
     "execution_count": 6,
     "metadata": {},
     "output_type": "execute_result"
    }
   ],
   "source": [
    "#Reverse a string\n",
    "s = \"something\"\n",
    "s[::-1]"
   ]
  },
  {
   "cell_type": "code",
   "execution_count": 10,
   "id": "80cce3b5",
   "metadata": {},
   "outputs": [
    {
     "name": "stdout",
     "output_type": "stream",
     "text": [
      "True\n",
      "False\n"
     ]
    }
   ],
   "source": [
    "#Find if the string is palindrome or not\n",
    "s1 = \"malayalam\"\n",
    "s2 = \"arun\"\n",
    "def palindrome(s):\n",
    "    return True if s==s[::-1] else False\n",
    "\n",
    "print(palindrome(s1))\n",
    "print(palindrome(s2))"
   ]
  },
  {
   "cell_type": "code",
   "execution_count": 29,
   "id": "4eb9ec4f",
   "metadata": {},
   "outputs": [
    {
     "name": "stdout",
     "output_type": "stream",
     "text": [
      "{'I': 4, 'feel': 11, 'a': 3, 'funny': 2, 'if': 1, 'you': 2, 'the': 2, 'will': 1}\n"
     ]
    },
    {
     "data": {
      "text/plain": [
       "['feel']"
      ]
     },
     "execution_count": 29,
     "metadata": {},
     "output_type": "execute_result"
    }
   ],
   "source": [
    "#Count the no. of ocurrences of words in a given string, and tell the word with highest no. of ocurrences.\n",
    "from functools import reduce\n",
    "\n",
    "s = \"I feel a feel a funny feel a funny feel I feel if you feel the feel I feel I will feel the feel you feel\"\n",
    "dict = {}\n",
    "for i in s.split():\n",
    "    if i in dict:\n",
    "        dict[i]= dict[i]+1\n",
    "    else:\n",
    "        dict[i]= 1\n",
    "\n",
    "print(dict)      \n",
    "\n",
    "max_value = max(dict.values())\n",
    "[key for key in dict.keys() if dict[key]==max_value]\n",
    "     "
   ]
  },
  {
   "cell_type": "code",
   "execution_count": 51,
   "id": "512c78ca",
   "metadata": {},
   "outputs": [
    {
     "name": "stdout",
     "output_type": "stream",
     "text": [
      "{'I': 4, 'feel': 8, 'a': 3, 'funny': 2, 'if': 1, 'you': 2, 'the': 2, 'will': 1}\n",
      "8\n"
     ]
    }
   ],
   "source": [
    "#Count the no. of ocurrences of words in a given string, and tell the word with highest no. of ocurrences.\n",
    "#if the string has comma and we want to remove all the words having comma from the result\n",
    "from functools import reduce\n",
    "\n",
    "s = \"I feel a feel a funny feel, a funny feel I feel, if you feel the feel I feel, I will feel the feel you feel\"\n",
    "dict = {}\n",
    "s=list(filter(lambda x: x[-1]!=\",\", s.split()))\n",
    "for i in s:\n",
    "    if i in dict:\n",
    "        dict[i]= dict[i]+1\n",
    "    else:\n",
    "        dict[i]= 1\n",
    "\n",
    "print(dict)      \n",
    "max_value = max(dict.values())\n",
    "print(max_value)\n",
    "\n",
    "     "
   ]
  },
  {
   "cell_type": "code",
   "execution_count": 71,
   "id": "2a8747d2",
   "metadata": {},
   "outputs": [
    {
     "name": "stdout",
     "output_type": "stream",
     "text": [
      "{'I': 4, 'feel': 11, 'a': 3, 'funny': 2, 'if': 1, 'you': 2, 'the': 2, 'will': 1}\n",
      "11\n"
     ]
    }
   ],
   "source": [
    "#Count the no. of ocurrences of words in a given string, and tell the word with highest no. of ocurrences.\n",
    "#if the string has comma and we want to remove the comma but include the word in the result\n",
    "\n",
    "s = \"I feel a feel a funny feel, a funny feel I feel, if you feel the feel I feel, I will feel the feel you feel\"\n",
    "dict = {}\n",
    "s = [i if i[-1]!=\",\" else i[:-1] for i in s.split() ]\n",
    "for i in s:\n",
    "    if i in dict:\n",
    "        dict[i]= dict[i]+1\n",
    "    else:\n",
    "        dict[i]= 1\n",
    "\n",
    "print(dict)      \n",
    "max_value = max(dict.values())\n",
    "print(max_value)\n",
    "\n",
    "     "
   ]
  },
  {
   "cell_type": "code",
   "execution_count": null,
   "id": "5a79c494",
   "metadata": {},
   "outputs": [],
   "source": []
  }
 ],
 "metadata": {
  "kernelspec": {
   "display_name": "Python 3 (ipykernel)",
   "language": "python",
   "name": "python3"
  },
  "language_info": {
   "codemirror_mode": {
    "name": "ipython",
    "version": 3
   },
   "file_extension": ".py",
   "mimetype": "text/x-python",
   "name": "python",
   "nbconvert_exporter": "python",
   "pygments_lexer": "ipython3",
   "version": "3.9.12"
  }
 },
 "nbformat": 4,
 "nbformat_minor": 5
}
