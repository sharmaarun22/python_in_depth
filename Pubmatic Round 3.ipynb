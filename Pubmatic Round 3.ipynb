{
 "cells": [
  {
   "cell_type": "code",
   "execution_count": 29,
   "metadata": {},
   "outputs": [
    {
     "name": "stdout",
     "output_type": "stream",
     "text": [
      "lang\n",
      "{'lang': 'java', 'db': 'oracle'}\n",
      "('skills', {'lang': 'python', 'db': 'oracle'})\n"
     ]
    }
   ],
   "source": [
    "dict1 = {\"name\": \"arun\", \"age\": 26, \"profession\": \"QA\", \"skills\": {\"lang\": \"python\", \"db\": \"oracle\"}}\n",
    "dict2 = {\"name\": \"arun\", \"age\": 26, \"profession\": \"QA\", \"skills\": {\"lang\": \"java\", \"db\": \"oracle\"}}\n",
    "\n",
    "def dict_comparator(dict1, dict2):\n",
    "    for i in dict1.items():\n",
    "        if i in dict2.items():\n",
    "            if type(i[1])==dict:         \n",
    "                dict_comparator(i[1], dict2[i[0]])\n",
    "            else:\n",
    "                continue\n",
    "        else:\n",
    "            print(list(dict2[i[0]].items())[0][0])\n",
    "            print(dict2[i[0]])\n",
    "            print(i)\n",
    "            break\n",
    "    else:\n",
    "        print(\"Equal\")\n",
    "                \n",
    "\n",
    "dict_comparator(dict1, dict2)            \n",
    "    "
   ]
  }
 ],
 "metadata": {
  "kernelspec": {
   "display_name": "Python 3",
   "language": "python",
   "name": "python3"
  },
  "language_info": {
   "codemirror_mode": {
    "name": "ipython",
    "version": 3
   },
   "file_extension": ".py",
   "mimetype": "text/x-python",
   "name": "python",
   "nbconvert_exporter": "python",
   "pygments_lexer": "ipython3",
   "version": "3.6.5"
  }
 },
 "nbformat": 4,
 "nbformat_minor": 2
}
