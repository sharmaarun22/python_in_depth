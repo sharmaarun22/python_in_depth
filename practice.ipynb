{
 "cells": [
  {
   "cell_type": "code",
   "execution_count": 59,
   "metadata": {},
   "outputs": [
    {
     "data": {
      "text/plain": [
       "[10, 14, 17]"
      ]
     },
     "execution_count": 59,
     "metadata": {},
     "output_type": "execute_result"
    }
   ],
   "source": [
    "# program to count the number of elements which are greater than any of the elements on the right side of an array\n",
    "# and if it is lesser it should be replaced by -1\n",
    "\n",
    "l1 = [10,2,3,14,5,6,17,8,9] \n",
    "l2 = [j for i,j in enumerate(l1) if any([True for k in l1[i:] if j>k])]\n",
    "l2"
   ]
  },
  {
   "cell_type": "code",
   "execution_count": 8,
   "metadata": {},
   "outputs": [
    {
     "data": {
      "text/plain": [
       "[1, 3, 5, 9]"
      ]
     },
     "execution_count": 8,
     "metadata": {},
     "output_type": "execute_result"
    }
   ],
   "source": [
    "# program to count the array elements that divide the sum of all other elements \n",
    "l1 = [1,2,3,4,5,6,7,8,9]\n",
    "l2 = [i for i in l1 if (sum(l1)-i)%i==0]\n",
    "l2"
   ]
  },
  {
   "cell_type": "code",
   "execution_count": 54,
   "metadata": {},
   "outputs": [
    {
     "name": "stdout",
     "output_type": "stream",
     "text": [
      "value of skills is not equal\n"
     ]
    }
   ],
   "source": [
    "x = {\"name\": \"Arun\", \"age\": 26, \"skills\": {\"lang\": \"python\", \"profile\": \"QA\"}}\n",
    "y = {\"name\": \"Arun\", \"age\": 26, \"skills\": {\"lang\": \"java\", \"profile\": \"QA\"}}\n",
    "\n",
    "\n",
    "def comparator(x,y):\n",
    "    for key,value in x.items():\n",
    "        if all([key in y.keys, type(value)==dict]):\n",
    "            comparator(x[key], y[key])\n",
    "        if (key,value) not in y.items():\n",
    "            print(f\"value of {key} is not equal\")\n",
    "            break\n",
    "        else:\n",
    "            if type(value)==dict:\n",
    "                comparator(x[key], y[key])\n",
    "            else:\n",
    "                continue\n",
    "    else:\n",
    "        print(\"equal\")\n",
    "    \n",
    "\n",
    "comparator(x,y)"
   ]
  },
  {
   "cell_type": "code",
   "execution_count": 56,
   "metadata": {},
   "outputs": [
    {
     "name": "stdout",
     "output_type": "stream",
     "text": [
      "value of lang is not equal\n",
      "equal\n"
     ]
    }
   ],
   "source": [
    "x = {\"name\": \"Arun\", \"age\": 26, \"skills\": {\"lang\": \"python\", \"profile\": \"QA\"}}\n",
    "y = {\"name\": \"Arun\", \"age\": 26, \"skills\": {\"lang\": \"java\", \"profile\": \"QA\"}}\n",
    "\n",
    "\n",
    "def comparator(x,y):\n",
    "    for key,value in x.items():\n",
    "        if all([key in y.keys(), type(value)==dict]):\n",
    "            comparator(x[key], y[key])\n",
    "        else:           \n",
    "            if (key,value) not in y.items():\n",
    "                print(f\"value of {key} is not equal\")\n",
    "                break\n",
    "            else:\n",
    "                continue\n",
    "    else:\n",
    "        print(\"equal\")\n",
    "    \n",
    "\n",
    "comparator(x,y)"
   ]
  },
  {
   "cell_type": "code",
   "execution_count": 45,
   "metadata": {},
   "outputs": [
    {
     "name": "stdout",
     "output_type": "stream",
     "text": [
      "True\n"
     ]
    }
   ],
   "source": [
    "if type(x)==dict:\n",
    "    print(True)\n",
    "else:\n",
    "    print(False)"
   ]
  },
  {
   "cell_type": "code",
   "execution_count": 23,
   "metadata": {},
   "outputs": [
    {
     "name": "stdout",
     "output_type": "stream",
     "text": [
      "15th Sep 2018\n"
     ]
    }
   ],
   "source": [
    "# convert it into date format\n",
    "desired_output = \"15th Jan 2021\"\n",
    "x = 15012021\n",
    "\n",
    "import datetime\n",
    "\n",
    "x = datetime.datetime(2018, 9, 15)\n",
    "\n",
    "print(x.strftime(\"%dth %b %Y\"))"
   ]
  },
  {
   "cell_type": "code",
   "execution_count": 78,
   "metadata": {},
   "outputs": [
    {
     "data": {
      "text/plain": [
       "[(2, 1), (1, 2), (2, 3), (4, 4), (2, 5)]"
      ]
     },
     "execution_count": 78,
     "metadata": {},
     "output_type": "execute_result"
    }
   ],
   "source": [
    "# Write a Python program to get a list, sorted in increasing order by the last element in each tuple from a given list of non-empty tuples. Go to the editor\n",
    "x = [(2, 5), (1, 2), (4, 4), (2, 3), (2, 1)]\n",
    "# Expected Result : [(2, 1), (1, 2), (2, 3), (4, 4), (2, 5)]\n",
    "\n",
    "for i in range(len(x)):\n",
    "    for j in range(i+1,len(x)):\n",
    "        if x[i][1]>x[j][1]:\n",
    "            x[i],x[j]=x[j],x[i]\n",
    "x"
   ]
  },
  {
   "cell_type": "code",
   "execution_count": 83,
   "metadata": {},
   "outputs": [
    {
     "name": "stdout",
     "output_type": "stream",
     "text": [
      "1\n",
      "2\n",
      "3\n",
      "4\n",
      "2\n",
      "3\n",
      "4\n",
      "3\n",
      "4\n",
      "4\n"
     ]
    }
   ],
   "source": [
    "x = [(2, 5), (1, 2), (4, 4), (2, 3), (2, 1)]\n",
    "for i in range(len(x)):\n",
    "    for j in range(i+1, len(x)):\n",
    "        print(j)"
   ]
  }
 ],
 "metadata": {
  "kernelspec": {
   "display_name": "Python 3",
   "language": "python",
   "name": "python3"
  },
  "language_info": {
   "codemirror_mode": {
    "name": "ipython",
    "version": 3
   },
   "file_extension": ".py",
   "mimetype": "text/x-python",
   "name": "python",
   "nbconvert_exporter": "python",
   "pygments_lexer": "ipython3",
   "version": "3.6.5"
  }
 },
 "nbformat": 4,
 "nbformat_minor": 2
}
