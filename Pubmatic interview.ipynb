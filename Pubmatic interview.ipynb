{
 "cells": [
  {
   "cell_type": "code",
   "execution_count": 6,
   "metadata": {},
   "outputs": [
    {
     "data": {
      "text/plain": [
       "{'ABC': '123', 'DEF': '111', 'XYZ': '121', 'P': '555'}"
      ]
     },
     "execution_count": 6,
     "metadata": {},
     "output_type": "execute_result"
    }
   ],
   "source": [
    "import re\n",
    "dict1 = {}\n",
    "x = \"ABC:123_DEF:111_XYZ:121_P:555\"\n",
    "key_matcher = re.finditer(\"[\\d]{1,3}\", x)\n",
    "value_matcher = re.finditer('[A-Z]{1,3}', x)\n",
    "key_list = [key.group() for key in key_matcher]\n",
    "value_list = [value.group() for value in value_matcher]\n",
    "for key, value in zip(key_list, value_list):\n",
    "    dict1[value] = key\n",
    "dict1\n"
   ]
  },
  {
   "cell_type": "code",
   "execution_count": 18,
   "metadata": {},
   "outputs": [
    {
     "name": "stdout",
     "output_type": "stream",
     "text": [
      "{'ABC': '123', 'DEF': '111', 'XYZ': '121'}\n"
     ]
    }
   ],
   "source": [
    "x = \"ABC:123_:545_DEF:111_XYZ:121\"\n",
    "x = x.split(\"_\")\n",
    "dict2 = {}\n",
    "for i in x:\n",
    "    l1 = i.split(\":\")\n",
    "    if l1[0]==\"\" or l1[1]==\"\":\n",
    "        continue\n",
    "    else:\n",
    "        dict2[l1[0]]=l1[1]\n",
    "print(dict2)"
   ]
  },
  {
   "cell_type": "code",
   "execution_count": 29,
   "metadata": {},
   "outputs": [
    {
     "name": "stdout",
     "output_type": "stream",
     "text": [
      "not equal\n"
     ]
    }
   ],
   "source": [
    "if len(dict1)==len(dict2):\n",
    "    for i in dict1.items():\n",
    "        if i not in dict2.items():\n",
    "            print(\"not equal\")\n",
    "            break\n",
    "        else:\n",
    "            print(\"equal\")\n",
    "else:\n",
    "    print(\"not equal\")"
   ]
  },
  {
   "cell_type": "code",
   "execution_count": null,
   "metadata": {},
   "outputs": [],
   "source": [
    "cat \"filename\" | grep -i \"word\" | wc -l\n",
    "sar \n",
    "vmstat \n",
    "free -m\n",
    "free -g"
   ]
  },
  {
   "cell_type": "code",
   "execution_count": null,
   "metadata": {},
   "outputs": [],
   "source": [
    "x = [1,3,2,6,4,8,7,9]\n",
    "for i in range(len(x)):\n",
    "    for "
   ]
  },
  {
   "cell_type": "code",
   "execution_count": 1,
   "metadata": {},
   "outputs": [
    {
     "ename": "TypeError",
     "evalue": "zip argument #1 must support iteration",
     "output_type": "error",
     "traceback": [
      "\u001b[1;31m---------------------------------------------------------------------------\u001b[0m",
      "\u001b[1;31mTypeError\u001b[0m                                 Traceback (most recent call last)",
      "\u001b[1;32m<ipython-input-1-3d1b56d7a17d>\u001b[0m in \u001b[0;36m<module>\u001b[1;34m()\u001b[0m\n\u001b[1;32m----> 1\u001b[1;33m \u001b[0mzip\u001b[0m\u001b[1;33m(\u001b[0m\u001b[1;36m1\u001b[0m\u001b[1;33m,\u001b[0m\u001b[1;36m2\u001b[0m\u001b[1;33m)\u001b[0m\u001b[1;33m\u001b[0m\u001b[0m\n\u001b[0m",
      "\u001b[1;31mTypeError\u001b[0m: zip argument #1 must support iteration"
     ]
    }
   ],
   "source": []
  }
 ],
 "metadata": {
  "kernelspec": {
   "display_name": "Python 3",
   "language": "python",
   "name": "python3"
  },
  "language_info": {
   "codemirror_mode": {
    "name": "ipython",
    "version": 3
   },
   "file_extension": ".py",
   "mimetype": "text/x-python",
   "name": "python",
   "nbconvert_exporter": "python",
   "pygments_lexer": "ipython3",
   "version": "3.6.5"
  }
 },
 "nbformat": 4,
 "nbformat_minor": 2
}
