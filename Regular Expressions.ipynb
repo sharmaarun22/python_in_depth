{
 "cells": [
  {
   "cell_type": "markdown",
   "id": "7511c421",
   "metadata": {},
   "source": [
    "# Predefined Character classes:"
   ]
  },
  {
   "cell_type": "markdown",
   "id": "ec19bd20",
   "metadata": {},
   "source": [
    "\\s--->space character\n",
    "\\S-->Except space character\n",
    "\\d--> any digit\n",
    "\\D-->except digits\n",
    "\\w-->Any word character (alpha numeric character) [a-zA-Z0-9]\n",
    "\\W-->Any character except word(special characters) [^a-zA-Z0-9]\n",
    ". --->Every character\n"
   ]
  },
  {
   "cell_type": "markdown",
   "id": "4c6f7996",
   "metadata": {},
   "source": [
    "# Quantifiers:\n",
    "Quantifiers can be used to specify the number of occurrences to match"
   ]
  },
  {
   "cell_type": "markdown",
   "id": "2c77201a",
   "metadata": {},
   "source": [
    "a      -->exactly one 'a'\n",
    "a+     -->atleast one 'a'\n",
    "a*     -->any number of a's including zero number also\n",
    "a?     -->atmost one a (either one a or zero number of a's)\n",
    "a{n}   -->Exactly n number of a's\n",
    "a{m, n}-->Minimum m number of a's and maximum n number of a's\n",
    "a^     -->Starts with a\n",
    "a$     -->Ends with a"
   ]
  },
  {
   "cell_type": "markdown",
   "id": "bc92ebe4",
   "metadata": {},
   "source": [
    "# Methods"
   ]
  },
  {
   "cell_type": "markdown",
   "id": "f54e9e44",
   "metadata": {},
   "source": [
    "match()     - match at the beginning\n",
    "fullmatch() - exact match of the source and target\n",
    "finditer()  - find ocurrences and index\n",
    "findall()   - list of all the matches\n",
    "search()    - returns the first ocurrence"
   ]
  },
  {
   "cell_type": "code",
   "execution_count": null,
   "id": "be877fbb",
   "metadata": {},
   "outputs": [],
   "source": [
    "import re"
   ]
  },
  {
   "cell_type": "code",
   "execution_count": 4,
   "id": "6972452f",
   "metadata": {},
   "outputs": [
    {
     "name": "stdout",
     "output_type": "stream",
     "text": [
      "match is : the, index is 8\n",
      "match is : the, index is 25\n"
     ]
    }
   ],
   "source": [
    "import re\n",
    "matcher = re.finditer(\"the\", \"what is there problem is then\")\n",
    "for match in matcher:\n",
    "    print(\"match is : {}, index is {}\".format(match.group(), match.start()))"
   ]
  },
  {
   "cell_type": "code",
   "execution_count": 14,
   "id": "42f16c7f",
   "metadata": {},
   "outputs": [
    {
     "data": {
      "text/plain": [
       "['arun@gmail.com', 'sagar@hotmail.com']"
      ]
     },
     "execution_count": 14,
     "metadata": {},
     "output_type": "execute_result"
    }
   ],
   "source": [
    "# Find the emailIds in the string\n",
    "\n",
    "l = \"arun@gmail.comsomethinglike34535 sagar@hotmail.com\"\n",
    "matcher = re.findall(\"[\\w]+@[\\w]+.com\", l)\n",
    "matcher"
   ]
  },
  {
   "cell_type": "code",
   "execution_count": 16,
   "id": "4f849746",
   "metadata": {},
   "outputs": [
    {
     "data": {
      "text/plain": [
       "['123.345.567.23', '23.58.56.98']"
      ]
     },
     "execution_count": 16,
     "metadata": {},
     "output_type": "execute_result"
    }
   ],
   "source": [
    "#Find the ip addresses from the string\n",
    "\n",
    "import re\n",
    "\n",
    "x = \"123.345.567.23 Arun 23.58.56.98 Akku 496lsdfghkjdjfhdf\"\n",
    "matcher = re.findall(\"[\\d]{1,3}.[\\d]{1,3}.[\\d]{1,3}.[\\d]{1,3}\", x)\n",
    "matcher"
   ]
  },
  {
   "cell_type": "code",
   "execution_count": 20,
   "id": "06e83d5f",
   "metadata": {},
   "outputs": [
    {
     "data": {
      "text/plain": [
       "{'ABC': '123', 'DEF': '111', 'XYZ': '121', 'P': '555'}"
      ]
     },
     "execution_count": 20,
     "metadata": {},
     "output_type": "execute_result"
    }
   ],
   "source": [
    "# In the given string key value pairs are given colon sperated, created a dictionary with them.\n",
    "\n",
    "import re\n",
    "\n",
    "x = \"ABC:123_DEF:111_XYZ:121_P:555\"\n",
    "x = x.split(\"_\")\n",
    "dict = {}\n",
    "for i in x:\n",
    "    key_value = i.split(\":\")\n",
    "    dict[key_value[0]] = key_value[1]\n",
    "\n",
    "dict"
   ]
  },
  {
   "cell_type": "code",
   "execution_count": 22,
   "id": "8e82e5b8",
   "metadata": {},
   "outputs": [
    {
     "data": {
      "text/plain": [
       "{'ABC': '123', 'DEF': '111', 'XYZ': '121', 'P': '555'}"
      ]
     },
     "execution_count": 22,
     "metadata": {},
     "output_type": "execute_result"
    }
   ],
   "source": [
    "# Solve the above question with regex\n",
    "\n",
    "import re\n",
    "\n",
    "x = \"ABC:123_DEF:111_XYZ:121_P:555\"\n",
    "dict = {}\n",
    "matcher = re.finditer(\"[A-Z]+:[\\d]+\", x)\n",
    "for match in matcher:\n",
    "    key_value = match.group().split(\":\")\n",
    "    dict[key_value[0]] = key_value[1]\n",
    "    \n",
    "dict"
   ]
  },
  {
   "cell_type": "code",
   "execution_count": null,
   "id": "67de4abe",
   "metadata": {},
   "outputs": [],
   "source": [
    "#One more solution to above question, but the solution is not recommended\n",
    "\n",
    "import re\n",
    "\n",
    "x = \"ABC:123_DEF:111_XYZ:121_P:555\"\n",
    "\n",
    "dict1 = {}\n",
    "x = \"ABC:123_DEF:111_XYZ:121_P:555\"\n",
    "key_matcher = re.finditer(\"[\\d]{1,3}\", x)\n",
    "value_matcher = re.finditer('[A-Z]{1,3}', x)\n",
    "key_list = [key.group() for key in key_matcher]\n",
    "value_list = [value.group() for value in value_matcher]\n",
    "\n",
    "for key, value in zip(key_list, value_list):\n",
    "    dict1[value] = key\n",
    "    \n",
    "dict1"
   ]
  }
 ],
 "metadata": {
  "kernelspec": {
   "display_name": "Python 3 (ipykernel)",
   "language": "python",
   "name": "python3"
  },
  "language_info": {
   "codemirror_mode": {
    "name": "ipython",
    "version": 3
   },
   "file_extension": ".py",
   "mimetype": "text/x-python",
   "name": "python",
   "nbconvert_exporter": "python",
   "pygments_lexer": "ipython3",
   "version": "3.9.12"
  }
 },
 "nbformat": 4,
 "nbformat_minor": 5
}
