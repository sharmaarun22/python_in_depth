{
 "cells": [
  {
   "cell_type": "code",
   "execution_count": 21,
   "id": "9d5ff41c-7da0-435f-bc70-58a1563303a6",
   "metadata": {},
   "outputs": [
    {
     "name": "stdout",
     "output_type": "stream",
     "text": [
      "True\n",
      "True\n",
      "False\n"
     ]
    }
   ],
   "source": [
    "# Check if the number is armstrong number\n",
    "\n",
    "def is_armstrong(n):\n",
    "    num_of_digits = len(str(n))\n",
    "    total = 0\n",
    "    original_num = n\n",
    "    while n > 0:\n",
    "        last_digit = n % 10\n",
    "        total += last_digit ** num_of_digits\n",
    "        n = n // 10\n",
    "        \n",
    "    return total == original_num\n",
    "        \n",
    "print(is_armstrong(153))\n",
    "print(is_armstrong(1634))\n",
    "print(is_armstrong(235))"
   ]
  },
  {
   "cell_type": "markdown",
   "id": "aeffc8db-832c-435b-bc4e-0c8255403cad",
   "metadata": {},
   "source": [
    "<!-- Recursion -->"
   ]
  },
  {
   "cell_type": "code",
   "execution_count": 31,
   "id": "29b724d4-f293-4723-9cc7-bc400f6bb9e2",
   "metadata": {},
   "outputs": [
    {
     "name": "stdout",
     "output_type": "stream",
     "text": [
      "[1, 15, 3, 5]\n",
      "[1, 20, 2, 10, 4, 5]\n",
      "[1, 19]\n",
      "[1, 36, 2, 18, 3, 12, 4, 9, 6]\n"
     ]
    }
   ],
   "source": [
    "# Return the factors of the given number\n",
    "\n",
    "def get_factors(n):\n",
    "    factors = []\n",
    "    for i in range(1, int(n ** 0.5)+1):\n",
    "        if n%i == 0:\n",
    "            factors.append(i)\n",
    "            if n//i != i:  #agar ye nahi hoga toh 36 input pe 6 do baar aa jayega\n",
    "                factors.append(n//i) \n",
    "    return factors\n",
    "\n",
    "print(get_factors(15))\n",
    "print(get_factors(20))\n",
    "print(get_factors(19))\n",
    "print(get_factors(36))"
   ]
  },
  {
   "cell_type": "code",
   "execution_count": 33,
   "id": "97154a2e-9977-46ca-ba5c-d8d647df1b78",
   "metadata": {},
   "outputs": [
    {
     "name": "stdout",
     "output_type": "stream",
     "text": [
      "Basic structure of Recursion\n",
      "Basic structure of Recursion\n",
      "Basic structure of Recursion\n"
     ]
    }
   ],
   "source": [
    "def recursion(n):\n",
    "    if not n:  #exit condition\n",
    "        return\n",
    "    print(\"Basic structure of Recursion\") #core job\n",
    "    recursion(n-1) #approaching exit condition\n",
    "\n",
    "recursion(3)"
   ]
  },
  {
   "cell_type": "code",
   "execution_count": 35,
   "id": "4278b2cc-9453-4cbf-a78d-7e4166bf86bb",
   "metadata": {},
   "outputs": [
    {
     "name": "stdout",
     "output_type": "stream",
     "text": [
      "1\n",
      "2\n",
      "3\n",
      "4\n",
      "5\n"
     ]
    }
   ],
   "source": [
    "# print the numbers 1-5 using backtracking\n",
    "\n",
    "def back_tracking(n):\n",
    "    if not n:\n",
    "        return\n",
    "    back_tracking(n-1)\n",
    "    print(n)\n",
    "\n",
    "back_tracking(5)"
   ]
  },
  {
   "cell_type": "code",
   "execution_count": 39,
   "id": "103643fa-9129-49e4-b859-81e49c461507",
   "metadata": {},
   "outputs": [
    {
     "name": "stdout",
     "output_type": "stream",
     "text": [
      "5\n",
      "4\n",
      "3\n",
      "2\n",
      "1\n"
     ]
    }
   ],
   "source": [
    "# print the numbers 5-1 using head recursion\n",
    "\n",
    "def head_rercursion(n):\n",
    "    if not n:\n",
    "        return\n",
    "    print(n)\n",
    "    head_rercursion(n-1)\n",
    "\n",
    "head_rercursion(5)"
   ]
  },
  {
   "cell_type": "code",
   "execution_count": 43,
   "id": "0192196d-52b5-41b9-af14-070c1661ab61",
   "metadata": {},
   "outputs": [
    {
     "name": "stdout",
     "output_type": "stream",
     "text": [
      "Sum is 55\n"
     ]
    }
   ],
   "source": [
    "# Calculate the sum of n numbers using recursion\n",
    "\n",
    "def get_sum(n, sum):\n",
    "    if not n:\n",
    "        print(f\"Sum is {sum}\")\n",
    "        return \n",
    "    get_sum(n-1, sum+n)\n",
    "\n",
    "get_sum(10, 0)"
   ]
  },
  {
   "cell_type": "code",
   "execution_count": null,
   "id": "d95502fc-ba51-4d41-a5cc-feb751928e6c",
   "metadata": {},
   "outputs": [],
   "source": [
    "# Above are all parameterized recursion, where we don't return everytime, we just return at the exit condition after printing result.\n",
    "# Below are the functional recursion, where we print the result outside the funtion. There we have to return 2 times, one at the exit condition\n",
    "# and other one is the recursion call itself like below example of factorial"
   ]
  },
  {
   "cell_type": "code",
   "execution_count": 61,
   "id": "62b4ad32-d948-411e-bbd0-0cac32c868a0",
   "metadata": {},
   "outputs": [
    {
     "name": "stdout",
     "output_type": "stream",
     "text": [
      "120\n"
     ]
    }
   ],
   "source": [
    "# Calculate factorial 5 using functional recursion\n",
    "\n",
    "def get_factorial(n):\n",
    "    if n == 1:\n",
    "        return 1\n",
    "    return n * get_factorial(n-1) \n",
    "\n",
    "print(get_factorial(5))"
   ]
  },
  {
   "cell_type": "code",
   "execution_count": 69,
   "id": "a53f4d8a-c3fc-4220-88b9-ad4d2b319480",
   "metadata": {},
   "outputs": [
    {
     "name": "stdout",
     "output_type": "stream",
     "text": [
      "[1, 2, 6, 5, 4, 3, 7, 8, 9]\n"
     ]
    }
   ],
   "source": [
    "# Reverse the subarray in an array using recursion\n",
    "\n",
    "arr = [1,2,3,4,5,6,7,8,9]\n",
    "left, right = 2,5\n",
    "expected_output = [1,2,6,5,4,3,7,8,9]\n",
    "\n",
    "def reverse_arr(arr, left, right):\n",
    "    if left >= right:\n",
    "        return arr\n",
    "    arr[left],arr[right] = arr[right],arr[left]\n",
    "    return reverse_arr(arr, left+1, right-1)\n",
    "\n",
    "print(reverse_arr(arr, left, right))"
   ]
  },
  {
   "cell_type": "code",
   "execution_count": 89,
   "id": "c5d164c6-1b70-4833-ba75-8abc12573fc8",
   "metadata": {},
   "outputs": [
    {
     "name": "stdout",
     "output_type": "stream",
     "text": [
      "True\n",
      "True\n",
      "False\n"
     ]
    }
   ],
   "source": [
    "# Check if the string is palindrome using recursion\n",
    "\n",
    "def check_palindrome(s):\n",
    "    l, r = 0, len(s)-1\n",
    "    def is_palindrome(s, l, r):\n",
    "        if l >= r:\n",
    "            return True\n",
    "        elif s[l] != s[r]:\n",
    "            return False\n",
    "        return is_palindrome(s, l+1, r-1)\n",
    "    return is_palindrome(s, l, r)\n",
    "\n",
    "print(check_palindrome(\"nitin\"))\n",
    "print(check_palindrome(\"madam\"))\n",
    "print(check_palindrome(\"arun\"))"
   ]
  },
  {
   "cell_type": "code",
   "execution_count": 119,
   "id": "5255dddc-e0fe-4b9d-8315-5fcc1ac6a372",
   "metadata": {},
   "outputs": [
    {
     "name": "stdout",
     "output_type": "stream",
     "text": [
      "0\n",
      "1\n",
      "1\n",
      "2\n",
      "3\n",
      "5\n",
      "8\n",
      "13\n",
      "21\n",
      "34\n",
      "55\n"
     ]
    }
   ],
   "source": [
    "# Print the fibonacci series till number\n",
    "\n",
    "def fibonacci_wrapper(n):\n",
    "    def get_fibonacci(i,a,b,n):\n",
    "        if i == n:\n",
    "            return\n",
    "        print(a)\n",
    "        get_fibonacci(i+1, b, a+b, n)\n",
    "\n",
    "    get_fibonacci(0, 0, 1, n+1)\n",
    "        \n",
    "fibonacci_wrapper(10)"
   ]
  },
  {
   "cell_type": "markdown",
   "id": "3ca1be0e-c7a6-4d06-978a-eca15eea4a49",
   "metadata": {},
   "source": [
    "<!-- Advanced recursion -->"
   ]
  },
  {
   "cell_type": "code",
   "execution_count": 7,
   "id": "18cbfc30-d533-4929-92cf-11fd12493ee3",
   "metadata": {},
   "outputs": [
    {
     "name": "stdout",
     "output_type": "stream",
     "text": [
      "[[5, 9, 7], [5, 9], [5, 7], [5], [9, 7], [9], [7], []]\n"
     ]
    }
   ],
   "source": [
    "# Find all the sub sequences of an array\n",
    "nums = [5,9,7]\n",
    "\n",
    "def get_all(nums):\n",
    "    result = []\n",
    "    \n",
    "    def solve(index, subset):\n",
    "        if index >= len(nums):\n",
    "            result.append(subset.copy())\n",
    "            return\n",
    "        # Include current element\n",
    "        subset.append(nums[index])\n",
    "        solve(index + 1, subset)\n",
    "        # Exclude current element\n",
    "        subset.pop()\n",
    "        solve(index + 1, subset)\n",
    "\n",
    "    solve(0, [])\n",
    "    return result\n",
    "\n",
    "# Test\n",
    "print(get_all([5, 9, 7]))"
   ]
  },
  {
   "cell_type": "code",
   "execution_count": 11,
   "id": "162b6c3e-b905-43e5-ad19-3091b916d90f",
   "metadata": {},
   "outputs": [
    {
     "name": "stdout",
     "output_type": "stream",
     "text": [
      "[[5, 4], [9]]\n"
     ]
    }
   ],
   "source": [
    "# Find all the subsequences whose sum equal to target\n",
    "# bruteforce\n",
    "\n",
    "def find_subsequences_with_sum(nums, target):\n",
    "    result = []\n",
    "    \n",
    "    def recursion_func(index, subset, target):\n",
    "        if index >= len(nums):\n",
    "            if sum(subset) == target:\n",
    "                result.append(subset.copy())\n",
    "            return\n",
    "        subset.append(nums[index])\n",
    "        recursion_func(index+1, subset, target)\n",
    "        subset.pop()\n",
    "        recursion_func(index+1, subset, target)\n",
    "\n",
    "    recursion_func(0, [], target)\n",
    "    return result\n",
    "\n",
    "print(find_subsequences_with_sum([5,9,4], 9))"
   ]
  },
  {
   "cell_type": "code",
   "execution_count": 29,
   "id": "c991e8eb-c460-4949-8b95-f0ff38dfce4e",
   "metadata": {},
   "outputs": [
    {
     "name": "stdout",
     "output_type": "stream",
     "text": [
      "[[5, 4], [9]]\n"
     ]
    }
   ],
   "source": [
    "# Find all the subsequences whose sum equal to target\n",
    "# optimal\n",
    "\n",
    "def find_subsequences_with_sum(nums, target):\n",
    "    result = []\n",
    "    total = 0\n",
    "    \n",
    "    def recursion_func(index, subset, total):\n",
    "        if total == target:\n",
    "            result.append(subset.copy())\n",
    "            return\n",
    "        elif total > target:\n",
    "            return\n",
    "        if index >= len(nums):\n",
    "            return\n",
    "        subset.append(nums[index])\n",
    "        total += nums[index]\n",
    "        recursion_func(index+1, subset, total)\n",
    "        total -= subset.pop()\n",
    "        recursion_func(index+1, subset, total)\n",
    "\n",
    "    recursion_func(0, [], total)\n",
    "    return result\n",
    "\n",
    "print(find_subsequences_with_sum([5,9,4], 9))"
   ]
  },
  {
   "cell_type": "code",
   "execution_count": 51,
   "id": "591283ba-8f56-46d0-8ecf-25d3246afcee",
   "metadata": {},
   "outputs": [
    {
     "name": "stdout",
     "output_type": "stream",
     "text": [
      "True\n"
     ]
    }
   ],
   "source": [
    "# Check if subsequence with sum equal to k exists\n",
    "\n",
    "def back_track(nums, target):\n",
    "    is_exist = False\n",
    "\n",
    "    def recursion(index, total):\n",
    "        nonlocal is_exist\n",
    "        if total == target:\n",
    "            is_exist = True\n",
    "            return\n",
    "        if total > target or index >= len(nums) or is_exist:\n",
    "            return\n",
    "        recursion(index + 1, total + nums[index])  # include\n",
    "        recursion(index + 1, total)                # exclude\n",
    "\n",
    "    recursion(0, 0)\n",
    "    return is_exist\n",
    "\n",
    "print(back_track([5,9,4], 9))"
   ]
  },
  {
   "cell_type": "code",
   "execution_count": 65,
   "id": "49140a97-b162-483a-bd6a-99747a5aa442",
   "metadata": {},
   "outputs": [
    {
     "name": "stdout",
     "output_type": "stream",
     "text": [
      "6\n"
     ]
    }
   ],
   "source": [
    "# Count all subsequences with sum equals k\n",
    "\n",
    "def back_track(nums, target):\n",
    "    total = 0\n",
    "    \n",
    "    def recursion(index, total):\n",
    "        if total == target:\n",
    "            return 1\n",
    "        if total > target or index >= len(nums):\n",
    "            return 0\n",
    "\n",
    "        p = recursion(index+1, total+nums[index])\n",
    "        np = recursion(index+1, total)\n",
    "        return p+np\n",
    "\n",
    "    count = recursion(0, 0)\n",
    "    return count\n",
    "\n",
    "print(back_track([5,9,4,3,3,3,6], 9))"
   ]
  },
  {
   "cell_type": "code",
   "execution_count": 95,
   "id": "93c69c6a-3f64-4963-8fef-1e93556abcad",
   "metadata": {},
   "outputs": [
    {
     "name": "stdout",
     "output_type": "stream",
     "text": [
      "['000', '001', '010', '100', '101']\n"
     ]
    }
   ],
   "source": [
    "# https://www.geeksforgeeks.org/problems/generate-all-binary-strings/1\n",
    "\n",
    "def get_binary_strings(n):\n",
    "    result = []\n",
    "    def back_track(index, bit, flag):\n",
    "        if index >= n:\n",
    "            result.append(bit)\n",
    "            return\n",
    "        back_track(index + 1, bit + \"0\", True) \n",
    "        if flag:\n",
    "            back_track(index + 1, bit + \"1\", False)\n",
    "\n",
    "    back_track(0, \"\", True)\n",
    "    return result\n",
    "        \n",
    "print(get_binary_strings(3))"
   ]
  },
  {
   "cell_type": "code",
   "execution_count": 137,
   "id": "035f56e2-06d5-4d24-951d-6739cfa01c97",
   "metadata": {},
   "outputs": [
    {
     "name": "stdout",
     "output_type": "stream",
     "text": [
      "['((()))', '(()())', '(())()', '()(())', '()()()']\n"
     ]
    }
   ],
   "source": [
    "# https://leetcode.com/problems/generate-parentheses/\n",
    "# Conditions of balanced parentheses:\n",
    "#     open brackets should not be greater than n\n",
    "#     closing brackets should not be greater than open brackets\n",
    "#     total brackets should not be greater than 2n\n",
    "\n",
    "def generate_parentheses(n):\n",
    "    result = []\n",
    "    def recursion(subset, open_used, close_used):\n",
    "        if len(subset) >= 2*n:                      # total brackets should not be greater than 2n\n",
    "            result.append(\"\".join(subset))\n",
    "        if open_used < n:                           # open brackets should not be greater than n\n",
    "            subset.append(\"(\")\n",
    "            recursion(subset, open_used + 1, close_used)\n",
    "            subset.pop()\n",
    "        if close_used < open_used:                  # closing brackets should not be greater than open brackets\n",
    "            subset.append(\")\")\n",
    "            recursion(subset, open_used, close_used + 1)\n",
    "            subset.pop()\n",
    "\n",
    "    recursion([],0,0)\n",
    "    return result\n",
    "\n",
    "print(generate_parentheses(3))"
   ]
  },
  {
   "cell_type": "code",
   "execution_count": 157,
   "id": "39503b75-b922-403b-b6df-4c5e4d567940",
   "metadata": {},
   "outputs": [
    {
     "name": "stdout",
     "output_type": "stream",
     "text": [
      "[[2, 2, 3], [7]]\n"
     ]
    }
   ],
   "source": [
    "# https://leetcode.com/problems/combination-sum/description/\n",
    "\n",
    "def combination_sum(nums, target):\n",
    "    result = []\n",
    "    def recursion(index, subset, sum_total):\n",
    "        if sum_total == target:\n",
    "            result.append(subset.copy())\n",
    "            return\n",
    "        if sum_total > target or index >= len(nums):\n",
    "            return\n",
    "        subset.append(nums[index])\n",
    "        recursion(index, subset, sum_total+nums[index]) #we are not doing index+1 because each value can be picked multiple times\n",
    "        subset.pop()\n",
    "        recursion(index+1, subset, sum_total) #here we are doing index+1 because what sense will it make to not pick each value multiple times\n",
    "\n",
    "    recursion(0, [], 0)\n",
    "    return result\n",
    "\n",
    "print(combination_sum([2,3,6,7], 7))"
   ]
  },
  {
   "cell_type": "code",
   "execution_count": 197,
   "id": "7663d611-78f5-4f37-bfc5-23e999e409aa",
   "metadata": {},
   "outputs": [
    {
     "name": "stdout",
     "output_type": "stream",
     "text": [
      "[[1, 1, 6], [1, 2, 5], [1, 7], [2, 6]]\n",
      "[[1, 2, 2], [5]]\n"
     ]
    }
   ],
   "source": [
    "# https://leetcode.com/problems/combination-sum-ii/description/\n",
    "\n",
    "def combinationSum2(nums, target):\n",
    "    result = []\n",
    "    nums.sort()\n",
    "    def recursion(index, subset, total):\n",
    "        if total == 0:\n",
    "            result.append(subset.copy())\n",
    "            return\n",
    "        if total < 0:\n",
    "            return\n",
    "        for i in range(index, len(nums)):  # To remove duplicates\n",
    "            if i > index and nums[i] == nums[i-1]:\n",
    "                continue\n",
    "            subset.append(nums[i])\n",
    "            recursion(i+1, subset, total-nums[i])\n",
    "            subset.pop()\n",
    "\n",
    "    recursion(0,[],target)\n",
    "    return result\n",
    "\n",
    "print(combinationSum2(nums = [10,1,2,7,6,1,5], target = 8))\n",
    "print(combinationSum2(nums = [2,5,2,1,2], target = 5))"
   ]
  },
  {
   "cell_type": "code",
   "execution_count": 203,
   "id": "2cfea5ea-fd3e-452e-8b04-6e999b47b191",
   "metadata": {},
   "outputs": [
    {
     "name": "stdout",
     "output_type": "stream",
     "text": [
      "[17, 14, 8, 5, 12, 9, 3, 0]\n"
     ]
    }
   ],
   "source": [
    "# Return the list of total sums possible for all subsequences of an array\n",
    "\n",
    "def subsetSum(nums):\n",
    "    result = []\n",
    "    def recursion(index, total):\n",
    "        if index >= len(nums):\n",
    "            result.append(total)\n",
    "            return\n",
    "        recursion(index+1, total+nums[index])\n",
    "        recursion(index+1, total)\n",
    "\n",
    "    recursion(0, 0)\n",
    "    return result\n",
    "\n",
    "print(subsetSum([5,9,3]))"
   ]
  },
  {
   "cell_type": "code",
   "execution_count": 213,
   "id": "7c2d4e9f-a0d4-42ee-9f2a-e78bc8b39b33",
   "metadata": {},
   "outputs": [
    {
     "name": "stdout",
     "output_type": "stream",
     "text": [
      "[[1, 2, 6], [1, 3, 5], [2, 3, 4]]\n",
      "[[1, 2, 4]]\n"
     ]
    }
   ],
   "source": [
    "# https://leetcode.com/problems/combination-sum-iii/\n",
    "# on my own, better version in next cell\n",
    "\n",
    "def combinationSum3(k, n):\n",
    "    result = []\n",
    "    def recursion(i, subset, total):\n",
    "        if total == n and len(subset) == k and subset not in result:\n",
    "            result.append(subset.copy())\n",
    "        if i > 9 or total > n or len(subset) > k:\n",
    "            return\n",
    "\n",
    "        subset.append(i)\n",
    "        recursion(i+1, subset, total+i)\n",
    "        subset.pop()\n",
    "        recursion(i+1, subset, total)\n",
    "\n",
    "    recursion(1, [], 0)\n",
    "    return result\n",
    "\n",
    "print(combinationSum3(3, 9)) # Output: [[1,2,6],[1,3,5],[2,3,4]]\n",
    "print(combinationSum3(3, 7)) # Output: [[1, 2, 4]]"
   ]
  },
  {
   "cell_type": "code",
   "execution_count": 215,
   "id": "d880b999-978a-43bb-954d-12d2364932a2",
   "metadata": {},
   "outputs": [
    {
     "name": "stdout",
     "output_type": "stream",
     "text": [
      "[[1, 2, 6], [1, 3, 5], [2, 3, 4]]\n",
      "[[1, 2, 4]]\n"
     ]
    }
   ],
   "source": [
    "# https://leetcode.com/problems/combination-sum-iii/\n",
    "# better\n",
    "\n",
    "def combinationSum3(k, n):\n",
    "    result = []\n",
    "\n",
    "    def backtrack(start, path, total):\n",
    "        # Base case: valid combination\n",
    "        if len(path) == k and total == n:\n",
    "            result.append(path.copy())\n",
    "            return\n",
    "        # Prune invalid cases\n",
    "        if len(path) > k or total > n:\n",
    "            return\n",
    "\n",
    "        # Try next numbers from 'start' to 9\n",
    "        for i in range(start, 10):  # Numbers 1 to 9 inclusive  #We used for loop because we want to pick only start k baad wale no.s wrna duplicate ate\n",
    "            path.append(i)\n",
    "            backtrack(i + 1, path, total + i)\n",
    "            path.pop()\n",
    "\n",
    "    backtrack(1, [], 0)\n",
    "    return result\n",
    "\n",
    "print(combinationSum3(3, 9)) # Output: [[1,2,6],[1,3,5],[2,3,4]]\n",
    "print(combinationSum3(3, 7)) # Output: [[1, 2, 4]]"
   ]
  },
  {
   "cell_type": "code",
   "execution_count": 237,
   "id": "d6bcf1d2-b83b-45b6-aec0-08f39781fca3",
   "metadata": {},
   "outputs": [
    {
     "name": "stdout",
     "output_type": "stream",
     "text": [
      "['AD', 'AE', 'AF', 'BD', 'BE', 'BF', 'CD', 'CE', 'CF']\n"
     ]
    }
   ],
   "source": [
    "# https://leetcode.com/problems/letter-combinations-of-a-phone-number/description/\n",
    "\n",
    "def letterCombinations(digit_str):\n",
    "    result = []\n",
    "    keypad_map = {\n",
    "    '2': 'ABC',\n",
    "    '3': 'DEF',\n",
    "    '4': 'GHI',\n",
    "    '5': 'JKL',\n",
    "    '6': 'MNO',\n",
    "    '7': 'PQRS', # Four letters\n",
    "    '8': 'TUV',\n",
    "    '9': 'WXYZ', # Four letters\n",
    "    }\n",
    "    \n",
    "    def backtrack(index, path):\n",
    "        if len(path) == len(digit_str):\n",
    "            result.append(\"\".join(path))\n",
    "            return\n",
    "        if len(path) > len(digit_str):\n",
    "            return\n",
    "\n",
    "        for char in keypad_map[digit_str[index]]:\n",
    "            path.append(char)\n",
    "            backtrack(index+1, path)\n",
    "            path.pop()\n",
    "\n",
    "    backtrack(0, [])\n",
    "    return result\n",
    "\n",
    "print(letterCombinations(\"23\")) # output: [\"ad\",\"ae\",\"af\",\"bd\",\"be\",\"bf\",\"cd\",\"ce\",\"cf\"]\n",
    "\n",
    "# Takeaways\n",
    "\n",
    "# pehle 2 option hote the select karo ya mat karo toh we used to call \n",
    "#         subset.append(i)\n",
    "#         recursion(i+1, subset, total+i)\n",
    "#         subset.pop()\n",
    "#         recursion(i+1, subset, total)\n",
    "# but if we have multiple options to choose like in this example or the above one, \n",
    "# why not to use for loop and iterate over all the possible values and call recursion for those values"
   ]
  },
  {
   "cell_type": "code",
   "execution_count": 253,
   "id": "eb6d673d-4caf-4bf6-8fa1-088d84eb0d16",
   "metadata": {},
   "outputs": [
    {
     "name": "stdout",
     "output_type": "stream",
     "text": [
      "True\n",
      "True\n",
      "False\n",
      "True\n",
      "False\n"
     ]
    }
   ],
   "source": [
    "# https://leetcode.com/problems/valid-parentheses/\n",
    "\n",
    "def isValid(s: str) -> bool:\n",
    "    bracket_map = {\n",
    "    \")\": \"(\",\n",
    "    \"]\": \"[\",\n",
    "    \"}\": \"{\"\n",
    "    }\n",
    "    stack = []\n",
    "    for i in s:\n",
    "        if i in bracket_map.values(): #open mile toh stack mein dalo\n",
    "            stack.append(i)\n",
    "        else:\n",
    "            if not stack:  #jab closing bracket mile tab stack empty nahi hona chahiye, iska mtlb hai ki bina open k hi diret closing mil gaya\n",
    "                return False\n",
    "            if bracket_map[i] != stack[-1]: #jab closing bracket mile toh uska jodidar stack ka last element hona chahiye\n",
    "                return False\n",
    "            else:                         # valid closing mile toh uske jodidar yani ki last element in stack ko bahar nikal do\n",
    "                stack.pop()\n",
    "    return not stack                      # agar stack empty hai mtlb jitne open mile utne hi closing mile wo bhi sahi order mein toh return True\n",
    "\n",
    "print(isValid(s = \"()\"))\n",
    "print(isValid(s = \"()[]{}\"))\n",
    "print(isValid(s = \"(]\"))\n",
    "print(isValid(s = \"([])\"))\n",
    "print(isValid(s = \"([)]\"))"
   ]
  }
 ],
 "metadata": {
  "kernelspec": {
   "display_name": "Python 3 (ipykernel)",
   "language": "python",
   "name": "python3"
  },
  "language_info": {
   "codemirror_mode": {
    "name": "ipython",
    "version": 3
   },
   "file_extension": ".py",
   "mimetype": "text/x-python",
   "name": "python",
   "nbconvert_exporter": "python",
   "pygments_lexer": "ipython3",
   "version": "3.12.4"
  }
 },
 "nbformat": 4,
 "nbformat_minor": 5
}
