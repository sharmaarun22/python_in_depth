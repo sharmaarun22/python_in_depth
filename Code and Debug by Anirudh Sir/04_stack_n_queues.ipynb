{
 "cells": [
  {
   "cell_type": "code",
   "execution_count": null,
   "id": "07fc0a02-38ca-4791-84c5-42f68218aec6",
   "metadata": {},
   "outputs": [],
   "source": [
    "# https://leetcode.com/problems/valid-parentheses/\n",
    "\n",
    "def isValid(s: str) -> bool:\n",
    "    bracket_map = {\n",
    "    \")\": \"(\",\n",
    "    \"]\": \"[\",\n",
    "    \"}\": \"{\"\n",
    "    }\n",
    "    stack = []\n",
    "    for i in s:\n",
    "        if i in bracket_map.values(): #open mile toh stack mein dalo\n",
    "            stack.append(i)\n",
    "        else:\n",
    "            if not stack:  #jab closing bracket mile tab stack empty nahi hona chahiye, iska mtlb hai ki bina open k hi diret closing mil gaya\n",
    "                return False\n",
    "            if bracket_map[i] != stack[-1]: #jab closing bracket mile toh uska jodidar stack ka last element hona chahiye\n",
    "                return False\n",
    "            else:                         # valid closing mile toh uske jodidar yani ki last element in stack ko bahar nikal do\n",
    "                stack.pop()\n",
    "    return not stack                      # agar stack empty hai mtlb jitne open mile utne hi closing mile wo bhi sahi order mein toh return True\n",
    "\n",
    "print(isValid(s = \"()\"))\n",
    "print(isValid(s = \"()[]{}\"))\n",
    "print(isValid(s = \"(]\"))\n",
    "print(isValid(s = \"([])\"))\n",
    "print(isValid(s = \"([)]\"))"
   ]
  }
 ],
 "metadata": {
  "kernelspec": {
   "display_name": "Python 3 (ipykernel)",
   "language": "python",
   "name": "python3"
  },
  "language_info": {
   "codemirror_mode": {
    "name": "ipython",
    "version": 3
   },
   "file_extension": ".py",
   "mimetype": "text/x-python",
   "name": "python",
   "nbconvert_exporter": "python",
   "pygments_lexer": "ipython3",
   "version": "3.12.4"
  }
 },
 "nbformat": 4,
 "nbformat_minor": 5
}
