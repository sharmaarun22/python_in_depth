{
 "cells": [
  {
   "cell_type": "code",
   "execution_count": 1,
   "id": "27cf8b95-0ea9-43de-b2dd-33b3f5e6b3c8",
   "metadata": {},
   "outputs": [
    {
     "data": {
      "text/plain": [
       "[1, 2, 3, 4, 5, 6, 7, 8]"
      ]
     },
     "execution_count": 1,
     "metadata": {},
     "output_type": "execute_result"
    }
   ],
   "source": [
    "# 1.Selection sort: Find the mininum and swap the value with ith index\n",
    "\n",
    "def selection_sort(nums):\n",
    "    n = len(nums)\n",
    "    for i in range(n):\n",
    "        min_index = i\n",
    "        for j in range(i+1, n):\n",
    "            if nums[j] < nums[min_index]:\n",
    "                min_index = j\n",
    "        nums[i], nums[min_index] = nums[min_index], nums[i]\n",
    "    return nums\n",
    "\n",
    "selection_sort([1,4,2,6,3,8,5,7])"
   ]
  },
  {
   "cell_type": "code",
   "execution_count": 11,
   "id": "f9d83a74-d65b-4bde-b9a8-cc780a27b078",
   "metadata": {},
   "outputs": [
    {
     "data": {
      "text/plain": [
       "[1, 2, 3, 4, 5, 6, 7, 8]"
      ]
     },
     "execution_count": 11,
     "metadata": {},
     "output_type": "execute_result"
    }
   ],
   "source": [
    "# 2.Bubble sort: adjacent swaps\n",
    "\n",
    "def bubble_sort(nums):\n",
    "    n = len(nums)\n",
    "    for i in range(n):\n",
    "        swapped = False\n",
    "        for j in range(1, n-i):\n",
    "            if nums[j] < nums[j-1]:\n",
    "                nums[j-1], nums[j] = nums[j], nums[j-1]\n",
    "                swapped = True\n",
    "        if not swapped:\n",
    "            return nums\n",
    "    return nums\n",
    "\n",
    "bubble_sort([1,4,2,6,3,8,5,7])"
   ]
  },
  {
   "cell_type": "code",
   "execution_count": 15,
   "id": "bb7f45fd-1d8a-487a-ad2f-732888abacc7",
   "metadata": {},
   "outputs": [
    {
     "data": {
      "text/plain": [
       "[1, 2, 3, 4, 5, 6, 7, 8]"
      ]
     },
     "execution_count": 15,
     "metadata": {},
     "output_type": "execute_result"
    }
   ],
   "source": [
    "# 3.Insertion sort: grow sorted list by inserting elements like cards\n",
    "\n",
    "def insertion_sort(nums):\n",
    "    n = len(nums)\n",
    "    for i in range(1, n):\n",
    "        j = i-1\n",
    "        key = nums[i]\n",
    "        while j >= 0 and nums[j] > key:\n",
    "            nums[j+1] = nums[j]\n",
    "            j -= 1\n",
    "        nums[j+1] = key\n",
    "    return nums\n",
    "        \n",
    "\n",
    "insertion_sort([1,4,6,2,3,8,5,7])"
   ]
  },
  {
   "cell_type": "code",
   "execution_count": 31,
   "id": "fde02e0d-6feb-4493-8813-7d66a127f97c",
   "metadata": {},
   "outputs": [
    {
     "data": {
      "text/plain": [
       "[1, 2, 3, 4, 5, 6, 7, 8]"
      ]
     },
     "execution_count": 31,
     "metadata": {},
     "output_type": "execute_result"
    }
   ],
   "source": [
    "# 4.Merge Sort: Divide by mid using recursion till last element and then keep merging sorted arrays\n",
    "# Time complexity: O(nlog n)\n",
    "\n",
    "def merge_sorted_arrays(left_array, right_array):\n",
    "        i,j = 0,0\n",
    "        sorted_array = []\n",
    "        while i < len(left_array) and j < len(right_array):\n",
    "            if left_array[i] <= right_array[j]:\n",
    "                sorted_array.append(left_array[i])\n",
    "                i += 1\n",
    "            else:\n",
    "                sorted_array.append(right_array[j])\n",
    "                j += 1\n",
    "        while  i < len(left_array):\n",
    "            sorted_array.append(left_array[i])\n",
    "            i += 1\n",
    "        while j < len(right_array):\n",
    "            sorted_array.append(right_array[j])\n",
    "            j += 1   \n",
    "        return sorted_array\n",
    "\n",
    "def merge_sort(nums):\n",
    "    if len(nums) <= 1:\n",
    "        return nums\n",
    "    mid = len(nums) // 2\n",
    "    left_array, right_array = nums[:mid], nums[mid:]\n",
    "    left_sorted_array = merge_sort(left_array)\n",
    "    right_sorted_array = merge_sort(right_array)\n",
    "    return merge_sorted_arrays(left_sorted_array, right_sorted_array)\n",
    "\n",
    "\n",
    "merge_sort([1,4,6,2,3,8,5,7])"
   ]
  },
  {
   "cell_type": "code",
   "execution_count": 51,
   "id": "c909f1e0-37d7-4218-8e32-d830e2833da5",
   "metadata": {},
   "outputs": [
    {
     "data": {
      "text/plain": [
       "[1, 2, 3, 4, 5, 6, 7, 8]"
      ]
     },
     "execution_count": 51,
     "metadata": {},
     "output_type": "execute_result"
    }
   ],
   "source": [
    "# 5.Quick sort: Calculate the pivot index and keep calling merge sort for left and right of pivot using recursion\n",
    "# best and average time complexity: O(nlog n)\n",
    "# worst time complexity: O(n**2)\n",
    "\n",
    "def partition(nums, low, high):\n",
    "    pivot = nums[low]\n",
    "    i,j = low,high\n",
    "    while i < j:\n",
    "        while i <= high-1 and nums[i] <= pivot:\n",
    "            i += 1\n",
    "        while j >= low+1 and nums[j] >= pivot:\n",
    "            j -= 1\n",
    "        if i < j:\n",
    "            nums[i], nums[j] = nums[j], nums[i]\n",
    "    nums[j], nums[low] = nums[low], nums[j]\n",
    "    return j\n",
    "        \n",
    "        \n",
    "def quick_sort(nums, low, high):\n",
    "    if low < high:\n",
    "        partition_index = partition(nums, low, high)\n",
    "        quick_sort(nums, low, partition_index-1)\n",
    "        quick_sort(nums, partition_index+1, high)\n",
    "    return nums\n",
    "\n",
    "def quick_sort_wrapper(nums):\n",
    "    return quick_sort(nums, 0, len(nums)-1)\n",
    "\n",
    "quick_sort_wrapper([3,4,6,2,1,8,5,7])"
   ]
  }
 ],
 "metadata": {
  "kernelspec": {
   "display_name": "Python 3 (ipykernel)",
   "language": "python",
   "name": "python3"
  },
  "language_info": {
   "codemirror_mode": {
    "name": "ipython",
    "version": 3
   },
   "file_extension": ".py",
   "mimetype": "text/x-python",
   "name": "python",
   "nbconvert_exporter": "python",
   "pygments_lexer": "ipython3",
   "version": "3.12.4"
  }
 },
 "nbformat": 4,
 "nbformat_minor": 5
}
