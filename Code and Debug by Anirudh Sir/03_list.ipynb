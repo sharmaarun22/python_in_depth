{
 "cells": [
  {
   "cell_type": "code",
   "execution_count": 5,
   "id": "c11fb8ab-ca2e-47a5-8d1b-7d3115df229e",
   "metadata": {},
   "outputs": [
    {
     "name": "stdout",
     "output_type": "stream",
     "text": [
      "8 7\n"
     ]
    }
   ],
   "source": [
    "# Find the second largest element in the list\n",
    "\n",
    "arr = [1,2,8,4,5,6,7]\n",
    "largest = float(\"-inf\")\n",
    "second = float(\"-inf\")\n",
    "\n",
    "for i in arr:\n",
    "    if i > largest:\n",
    "        second = largest\n",
    "        largest = i\n",
    "    elif i > second and i < largest:\n",
    "        second = i\n",
    "print(largest, second)      "
   ]
  },
  {
   "cell_type": "code",
   "execution_count": 9,
   "id": "4fae1026-7ff3-4f1c-a3c9-bcae33078beb",
   "metadata": {},
   "outputs": [
    {
     "name": "stdout",
     "output_type": "stream",
     "text": [
      "True\n",
      "False\n"
     ]
    }
   ],
   "source": [
    "# Check if array is sorted\n",
    "\n",
    "def is_sorted(arr):\n",
    "    sorted = True\n",
    "    for i in range(1, len(arr)):\n",
    "        if arr[i-1] > arr[i]:\n",
    "            sorted = False\n",
    "            break\n",
    "    return sorted\n",
    "\n",
    "print(is_sorted([1,2,3,4,5,6]))\n",
    "print(is_sorted([1,9,8,4,5,6]))"
   ]
  },
  {
   "cell_type": "code",
   "execution_count": 69,
   "id": "d2815edd-593e-4556-9087-a7690c20db82",
   "metadata": {},
   "outputs": [
    {
     "data": {
      "text/plain": [
       "[1, 2, 3, 4, 5, 6, 7, 8]"
      ]
     },
     "execution_count": 69,
     "metadata": {},
     "output_type": "execute_result"
    }
   ],
   "source": [
    "# Remove duplicates from the sorted array in place\n",
    "\n",
    "arr = [1,1,4,6,3,7,3,5,7,5,2,1,4,8]\n",
    "\n",
    "def remove_duplicate(arr):\n",
    "    if len(arr) <= 1:\n",
    "        return arr\n",
    "    i,j = 0,1\n",
    "    arr.sort()\n",
    "    while j < len(arr):\n",
    "        if arr[i] != arr[j]:\n",
    "            i += 1\n",
    "            arr[i], arr[j] = arr[j], arr[i]\n",
    "        j += 1\n",
    "    return arr[:i+1]\n",
    "\n",
    "remove_duplicate(arr)"
   ]
  },
  {
   "cell_type": "code",
   "execution_count": 81,
   "id": "cd307d5d-2eb0-4a7b-ba1c-f53a3ae57b5e",
   "metadata": {},
   "outputs": [
    {
     "data": {
      "text/plain": [
       "[7, 1, 2, 3, 4, 5, 6]"
      ]
     },
     "execution_count": 81,
     "metadata": {},
     "output_type": "execute_result"
    }
   ],
   "source": [
    "# Right rotate an array by one place\n",
    "\n",
    "arr = [1,2,3,4,5,6,7]\n",
    "\n",
    "tmp = arr[-1]\n",
    "for i in range(len(arr)-2, -1, -1):\n",
    "    arr[i+1] = arr[i]\n",
    "arr[0] = tmp\n",
    "arr"
   ]
  },
  {
   "cell_type": "code",
   "execution_count": 113,
   "id": "449822db-aa68-4275-906c-c4dfc70d230d",
   "metadata": {},
   "outputs": [
    {
     "data": {
      "text/plain": [
       "[6, 7, 1, 2, 3, 4, 5]"
      ]
     },
     "execution_count": 113,
     "metadata": {},
     "output_type": "execute_result"
    }
   ],
   "source": [
    "# Rotate array to right by k places\n",
    "\n",
    "def rotate_array_by_k(arr, k):\n",
    "    def reverse_array(tmp_arr, left, right):\n",
    "        i,j = left,right\n",
    "        while i < j:\n",
    "            tmp_arr[i], tmp_arr[j] = tmp_arr[j], tmp_arr[i]\n",
    "            i += 1\n",
    "            j -= 1\n",
    "        return tmp_arr\n",
    "\n",
    "    n = len(arr)\n",
    "    reverse_array(arr, 0, n-k-1)\n",
    "    reverse_array(arr, n-k, n-1)\n",
    "    reverse_array(arr, 0, n-1)\n",
    "    return arr\n",
    "\n",
    "arr = [1,2,3,4,5,6,7]\n",
    "rotate_array_by_k(arr, 2)"
   ]
  },
  {
   "cell_type": "code",
   "execution_count": 129,
   "id": "3484f9ed-6908-475e-bd3e-1e8ee46126d5",
   "metadata": {},
   "outputs": [
    {
     "data": {
      "text/plain": [
       "[1, 2, 3, 4, 5, 6, 7, 8, 0, 0, 0, 0, 0, 0]"
      ]
     },
     "execution_count": 129,
     "metadata": {},
     "output_type": "execute_result"
    }
   ],
   "source": [
    "# Move all the zeroes in the list to end \n",
    "# on my own, better solution in next cell\n",
    "arr = [1,0,2,3,0,4,0,5,6,7,0,8,0,9]\n",
    "\n",
    "\n",
    "def left_rotate(arr, left):\n",
    "    tmp = arr[left]\n",
    "    for i in range(left+1, len(arr)-1):\n",
    "        arr[i-1] = arr[i]\n",
    "    arr[-1] = tmp\n",
    "\n",
    "j = 0\n",
    "while j < len(arr):\n",
    "    if arr[j] == 0:\n",
    "         left_rotate(arr, j)   \n",
    "    j += 1\n",
    "arr"
   ]
  },
  {
   "cell_type": "code",
   "execution_count": 143,
   "id": "30daca18-9a29-45d5-94ce-c69e8f07ab23",
   "metadata": {},
   "outputs": [
    {
     "data": {
      "text/plain": [
       "[1, 2, 3, 4, 5, 6, 7, 8, 9, 0, 0, 0, 0, 0]"
      ]
     },
     "execution_count": 143,
     "metadata": {},
     "output_type": "execute_result"
    }
   ],
   "source": [
    "# Move all the zeroes in the list to end \n",
    "\n",
    "arr = [1,0,2,3,0,4,0,5,6,7,0,8,0,9]\n",
    "\n",
    "i,j = 0,1\n",
    "while arr[i] != 0:\n",
    "    i += 1\n",
    "j = i+1\n",
    "while j < len(arr):\n",
    "    if arr[j] != 0:\n",
    "        arr[i], arr[j] = arr[j], arr[i]\n",
    "        i += 1\n",
    "    j += 1\n",
    "\n",
    "arr"
   ]
  },
  {
   "cell_type": "code",
   "execution_count": 192,
   "id": "ab926bde-63c4-47d3-8f58-7094dd1fe573",
   "metadata": {},
   "outputs": [
    {
     "data": {
      "text/plain": [
       "[1, 2, 3, 4, 5, 6, 7, 8, 9, 10]"
      ]
     },
     "execution_count": 192,
     "metadata": {},
     "output_type": "execute_result"
    }
   ],
   "source": [
    "# Merge 2 sorted arrays without duplicates\n",
    "\n",
    "arr1 = [1,1,3,5,7,7,9,9]\n",
    "arr2 = [2,4,4,6,8,8,10]\n",
    "\n",
    "def merge_sorted_arrays(left_array, right_array):\n",
    "        i,j = 0,0\n",
    "        sorted_array = []\n",
    "        while i < len(left_array) and j < len(right_array):\n",
    "            if left_array[i] <= right_array[j]:\n",
    "                if len(sorted_array) == 0 or sorted_array[-1] != left_array[i]:\n",
    "                    sorted_array.append(left_array[i])\n",
    "                i += 1\n",
    "            else:\n",
    "                if len(sorted_array) == 0 or sorted_array[-1] != right_array[j]:\n",
    "                    sorted_array.append(right_array[j])\n",
    "                j += 1\n",
    "        while  i < len(left_array):\n",
    "            if len(sorted_array) == 0 or sorted_array[-1] != left_array[i]:\n",
    "                sorted_array.append(left_array[i])\n",
    "            i += 1\n",
    "        while j < len(right_array):\n",
    "            if len(sorted_array) == 0 or sorted_array[-1] != right_array[j]:\n",
    "                sorted_array.append(right_array[j])\n",
    "            j += 1 \n",
    "        return sorted_array\n",
    "\n",
    "merge_sorted_arrays(arr1, arr2)\n",
    "\n",
    "#Takeaways:\n",
    "# In statements like \"if len(sorted_array) == 0 or sorted_array[-1] != right_array[j]:\"\n",
    "# always remember pehle kaunsi condition ayegi"
   ]
  },
  {
   "cell_type": "code",
   "execution_count": 196,
   "id": "d4d886f6-d3ce-40f3-8944-6a984a4b913b",
   "metadata": {},
   "outputs": [
    {
     "name": "stdout",
     "output_type": "stream",
     "text": [
      "2\n",
      "2\n",
      "8\n"
     ]
    }
   ],
   "source": [
    "# https://leetcode.com/problems/missing-number/\n",
    "# not the optimal one, better code in next cell\n",
    "\n",
    "def missingNumber(arr):\n",
    "    n = len(arr)\n",
    "    freq_map = {}\n",
    "    for i in range(n+1):\n",
    "        freq_map[i] = 0\n",
    "    for i in arr:\n",
    "        freq_map[i] = 1\n",
    "    for k,v in freq_map.items():\n",
    "        if not v:\n",
    "            return k\n",
    "\n",
    "print(missingNumber([3,0,1]))\n",
    "print(missingNumber([0,1]))\n",
    "print(missingNumber([9,6,4,2,3,5,7,0,1]))"
   ]
  },
  {
   "cell_type": "code",
   "execution_count": 198,
   "id": "d1fd2e9d-7be4-40ff-b294-0339d20bcc32",
   "metadata": {},
   "outputs": [
    {
     "name": "stdout",
     "output_type": "stream",
     "text": [
      "2\n",
      "2\n",
      "8\n"
     ]
    }
   ],
   "source": [
    "# https://leetcode.com/problems/missing-number/\n",
    "\n",
    "def missingNumber(arr):\n",
    "    n = len(arr)\n",
    "    cur_sum = sum(arr)\n",
    "    expected_sum = (n * (n+1))//2\n",
    "    return expected_sum - cur_sum\n",
    "    \n",
    "\n",
    "print(missingNumber([3,0,1]))\n",
    "print(missingNumber([0,1]))\n",
    "print(missingNumber([9,6,4,2,3,5,7,0,1]))"
   ]
  },
  {
   "cell_type": "code",
   "execution_count": 200,
   "id": "5e774c6a-1c8d-4c83-a14a-4b47333c5a5d",
   "metadata": {},
   "outputs": [
    {
     "data": {
      "text/plain": [
       "4"
      ]
     },
     "execution_count": 200,
     "metadata": {},
     "output_type": "execute_result"
    }
   ],
   "source": [
    "# Find max consecutive ones\n",
    "\n",
    "nums = [1,1,0,1,0,1,1,1,1,0,1,1]\n",
    "max_occur = 0\n",
    "current_occur = 0\n",
    "for i in nums:\n",
    "    if i == 1:\n",
    "        current_occur += 1\n",
    "    else:\n",
    "        max_occur = max(current_occur, max_occur)\n",
    "        current_occur = 0\n",
    "\n",
    "max_occur"
   ]
  },
  {
   "cell_type": "code",
   "execution_count": 204,
   "id": "6d34ef5e-0794-4342-bd32-aa9ca1fae63d",
   "metadata": {},
   "outputs": [
    {
     "data": {
      "text/plain": [
       "6"
      ]
     },
     "execution_count": 204,
     "metadata": {},
     "output_type": "execute_result"
    }
   ],
   "source": [
    "# Maximum subarray sum\n",
    "\n",
    "nums = [-2,1,-3,4,-1,2,1,-5,4]\n",
    "\n",
    "cur_sum, max_sum = float(\"-inf\"),float(\"-inf\")\n",
    "i = 0\n",
    "while i < len(nums):\n",
    "    if cur_sum < 0:\n",
    "        cur_sum = 0\n",
    "    cur_sum += nums[i]\n",
    "    i += 1\n",
    "    max_sum = max(max_sum, cur_sum)\n",
    "max_sum"
   ]
  },
  {
   "cell_type": "code",
   "execution_count": 222,
   "id": "d24d71da-1116-492e-82b7-fbf32ba83cff",
   "metadata": {},
   "outputs": [
    {
     "data": {
      "text/plain": [
       "7"
      ]
     },
     "execution_count": 222,
     "metadata": {},
     "output_type": "execute_result"
    }
   ],
   "source": [
    "# Best time to buy and sell a stock\n",
    "\n",
    "prices = [7,2,1,5,6,4,8]\n",
    "\n",
    "min_price = float(\"inf\")\n",
    "max_profit = float(\"-inf\")\n",
    "for price in prices:\n",
    "    if price < min_price:\n",
    "        min_price = price\n",
    "    else:\n",
    "        profit = price - min_price\n",
    "        max_profit = max(max_profit, profit)\n",
    "\n",
    "max_profit"
   ]
  },
  {
   "cell_type": "code",
   "execution_count": 248,
   "id": "965c593b-42c9-4113-a1fc-9447c2e2eacb",
   "metadata": {},
   "outputs": [
    {
     "data": {
      "text/plain": [
       "[1, -5, 2, -6, 3, -7, 4, -8, 9, 10, 11]"
      ]
     },
     "execution_count": 248,
     "metadata": {},
     "output_type": "execute_result"
    }
   ],
   "source": [
    "# Arrange positive and negative numbers alternatively\n",
    "# on my own - not a optimal one, better solution in next cell\n",
    "\n",
    "arr = [1,2,3,4,-5,-6,-7,-8,9,10,11]\n",
    "\n",
    "i,j = 0,0\n",
    "result = []\n",
    "\n",
    "while i <= len(arr) and j < len(arr):\n",
    "    while arr[i] <= 0:\n",
    "        i += 1\n",
    "    if i <= len(arr):\n",
    "        result.append(arr[i])\n",
    "    while j < len(arr) and arr[j] >= 0:\n",
    "        j += 1\n",
    "    if j < len(arr):\n",
    "        result.append(arr[j])\n",
    "    i += 1\n",
    "    j += 1\n",
    "\n",
    "while i <= len(arr)-1:\n",
    "    result.append(arr[i])\n",
    "    i += 1\n",
    "while j <= len(arr)-1:\n",
    "    result.append(arr[j])\n",
    "    j += 1\n",
    "\n",
    "result"
   ]
  },
  {
   "cell_type": "code",
   "execution_count": 250,
   "id": "898ee387-e903-47c4-8b35-05c04e8a15b5",
   "metadata": {},
   "outputs": [
    {
     "data": {
      "text/plain": [
       "[1, -5, 2, -6, 3, -7, 4, -8]"
      ]
     },
     "execution_count": 250,
     "metadata": {},
     "output_type": "execute_result"
    }
   ],
   "source": [
    "# Arrange positive and negative numbers alternatively\n",
    "arr = [1,2,3,4,-5,-6,-7,-8]\n",
    "\n",
    "result = [0] * len(arr)\n",
    "p,n = 0,1\n",
    "\n",
    "for i in arr:\n",
    "    if i > 0 :\n",
    "        result[p] = i\n",
    "        p += 2\n",
    "    else:\n",
    "        result[n] = i\n",
    "        n += 2\n",
    "\n",
    "result\n"
   ]
  },
  {
   "cell_type": "code",
   "execution_count": 278,
   "id": "40c94e83-8e45-48bd-8622-05f47c5951f7",
   "metadata": {},
   "outputs": [
    {
     "data": {
      "text/plain": [
       "4"
      ]
     },
     "execution_count": 278,
     "metadata": {},
     "output_type": "execute_result"
    }
   ],
   "source": [
    "# Find the max consecutive numbers\n",
    "# not the optimal one, better solution in next cell\n",
    "\n",
    "arr = [1,99,101,1,1,98,100,2,3,5,6,9,99]\n",
    "arr.sort()\n",
    "cur_count = 1\n",
    "max_count = 1\n",
    "for i in range(1, len(arr)):\n",
    "    if arr[i] == arr[i-1]+1:\n",
    "        cur_count += 1\n",
    "        max_count = max(cur_count, max_count)\n",
    "    elif  arr[i] == arr[i-1]: #if duplicate then ignore, and continue with the loop without doing anything\n",
    "        continue\n",
    "    else:\n",
    "        cur_count = 1\n",
    "\n",
    "max_count"
   ]
  },
  {
   "cell_type": "code",
   "execution_count": 294,
   "id": "25457096-c961-49d2-82c2-e8230a826fbd",
   "metadata": {},
   "outputs": [
    {
     "data": {
      "text/plain": [
       "4"
      ]
     },
     "execution_count": 294,
     "metadata": {},
     "output_type": "execute_result"
    }
   ],
   "source": [
    "# Find the max consecutive numbers\n",
    "# optimal\n",
    "\n",
    "arr = [1,99,101,1,1,98,100,2,3,5,6,9,99]\n",
    "num_set = set(arr)\n",
    "count = 1\n",
    "max_count = 0\n",
    "\n",
    "for i in num_set:\n",
    "    if i-1 in num_set:\n",
    "        continue\n",
    "    num = i\n",
    "    while num+1 in num_set:\n",
    "        count += 1\n",
    "        num += 1\n",
    "    max_count = max(max_count, count)\n",
    "    count = 1\n",
    "\n",
    "max_count"
   ]
  },
  {
   "cell_type": "code",
   "execution_count": 33,
   "id": "54cb2832-0077-4575-950c-c37f495fd26b",
   "metadata": {},
   "outputs": [
    {
     "name": "stdout",
     "output_type": "stream",
     "text": [
      "2\n",
      "1\n",
      "4\n",
      "6\n"
     ]
    }
   ],
   "source": [
    "# https://leetcode.com/problems/search-insert-position/\n",
    "# Need to understand the lower bound and upper bound for this\n",
    "\n",
    "def searchInsert(nums, target):\n",
    "    low = 0\n",
    "    high = len(nums) - 1\n",
    "    lower_bound = len(nums)\n",
    "    while low <= high:\n",
    "        mid  = (low+high) // 2\n",
    "        if nums[mid] >= target:\n",
    "            high = mid - 1\n",
    "            lower_bound = mid\n",
    "        else:\n",
    "            low = mid + 1\n",
    "    return lower_bound\n",
    "\n",
    "print(searchInsert(nums = [1,3,5,6], target = 5)) # Output: 2\n",
    "print(searchInsert(nums = [1,3,5,6], target = 2)) # Output: 1\n",
    "print(searchInsert(nums = [1,3,5,6], target = 7)) # Output: 4\n",
    "print(searchInsert(nums = [0,1,2,3,4,5,7,8,9], target = 6)) # Output: 6"
   ]
  },
  {
   "cell_type": "code",
   "execution_count": 43,
   "id": "b20655a3-eb5d-45ee-9d46-2888cbd3d4f1",
   "metadata": {},
   "outputs": [
    {
     "name": "stdout",
     "output_type": "stream",
     "text": [
      "[6, -1]\n",
      "[-1, 2]\n",
      "[5, 7]\n",
      "[6, 6]\n"
     ]
    }
   ],
   "source": [
    "# Floor and Ceil in sorted array\n",
    "# Basically ceil ek tarah ka upper bound hi toh hai\n",
    "def floor_and_ceil(nums, target):\n",
    "    low = 0\n",
    "    high = len(nums)-1\n",
    "    floor = -1\n",
    "    ceil = -1\n",
    "    while low <= high:\n",
    "        mid = (low+high) // 2\n",
    "        if nums[mid] == target:\n",
    "            return [target, target]\n",
    "        elif nums[mid] > target:\n",
    "            high = mid - 1\n",
    "            ceil = nums[mid]\n",
    "        else:\n",
    "            low = mid + 1\n",
    "            floor = nums[mid]\n",
    "    return [floor, ceil]\n",
    "\n",
    "print(floor_and_ceil(nums = [1,3,5,6], target = 7)) # Output: floor=6, ceil=-1\n",
    "print(floor_and_ceil(nums = [2,3,5,6], target = 1)) # Output: floor=-1, ceil=2\n",
    "print(floor_and_ceil(nums = [0,1,2,3,4,5,7,8,9], target = 6)) # Output: floor=5, ceil=7\n",
    "print(floor_and_ceil(nums = [0,1,2,3,4,5,6,7,8,9], target = 6)) # Output: floor=6, ceil=6"
   ]
  },
  {
   "cell_type": "code",
   "execution_count": 67,
   "id": "5cd9d5e1-075d-4194-8e47-ab02c2673ee7",
   "metadata": {},
   "outputs": [
    {
     "name": "stdout",
     "output_type": "stream",
     "text": [
      "[2, 3]\n"
     ]
    }
   ],
   "source": [
    "# First and last occurence of a number in an array\n",
    "\n",
    "def first_and_last(nums, target):\n",
    "    def lower_bound(nums, target):\n",
    "        lb = -1\n",
    "        low, high = 0, len(nums)-1\n",
    "        while low <= high:\n",
    "            mid = (low+high) // 2\n",
    "            if nums[mid] >= target:\n",
    "                if nums[mid] == target:\n",
    "                    lb = mid\n",
    "                high = mid-1\n",
    "            else:\n",
    "                low = mid+1\n",
    "        return lb\n",
    "\n",
    "    def upper_bound(nums, target):\n",
    "        ub = -1\n",
    "        low, high = 0, len(nums)-1\n",
    "        while low <= high:\n",
    "            mid = (low+high) // 2\n",
    "            if nums[mid] > target:\n",
    "                high = mid-1\n",
    "            else:\n",
    "                if nums[mid] == target:\n",
    "                    ub = mid\n",
    "                low = mid+1\n",
    "        return ub\n",
    "\n",
    "    return [lower_bound(nums, target), upper_bound(nums, target)]\n",
    "\n",
    "print(first_and_last(nums = [1,2,3,3,4,5,6], target = 3))   "
   ]
  },
  {
   "cell_type": "code",
   "execution_count": 71,
   "id": "04314372-8289-4180-93ca-7055f5d2cee5",
   "metadata": {},
   "outputs": [
    {
     "name": "stdout",
     "output_type": "stream",
     "text": [
      "Total occurences of the target are 4\n"
     ]
    }
   ],
   "source": [
    "# Count the occurences of a number in an array\n",
    "\n",
    "def lower_bound(nums, target):\n",
    "    low, high = 0, len(nums)-1\n",
    "    lb = -1\n",
    "    while low <= high:\n",
    "        mid = (low+high) // 2\n",
    "        if nums[mid] >= target:\n",
    "            high = mid-1\n",
    "            if nums[mid] == target:\n",
    "                lb = mid\n",
    "        else:\n",
    "            low = mid+1\n",
    "    return lb\n",
    "\n",
    "def upper_bound(nums, target):\n",
    "    low, high = 0, len(nums)-1\n",
    "    ub = -1\n",
    "    while low <= high:\n",
    "        mid = (low+high) // 2\n",
    "        if nums[mid] > target:\n",
    "            high = mid-1\n",
    "        else:\n",
    "            if nums[mid] == target:\n",
    "                ub = mid\n",
    "            low = mid+1\n",
    "    return ub\n",
    "\n",
    "def count_occurences(nums, target):\n",
    "    lb = lower_bound(nums, target)\n",
    "    ub = upper_bound(nums, target)\n",
    "    return ub-lb+1\n",
    "\n",
    "print(f\"Total occurences of the target are {count_occurences(nums = [1,2,3,3,3,3,4,5,6], target = 3)}\")"
   ]
  },
  {
   "cell_type": "code",
   "execution_count": 87,
   "id": "0fbfadcd-0566-4dd7-83b2-e6263fb2d5f5",
   "metadata": {},
   "outputs": [
    {
     "name": "stdout",
     "output_type": "stream",
     "text": [
      "left array is sorted\n",
      "left array is sorted\n",
      "1\n"
     ]
    }
   ],
   "source": [
    "##### Binary search in rotated array\n",
    "\n",
    "def search_in_rotated(nums, target):\n",
    "    low, high = 0, len(nums)-1\n",
    "    while low <= high:\n",
    "        mid = (low+high) // 2\n",
    "        if target == nums[mid]:\n",
    "            return mid\n",
    "\n",
    "        if nums[low] <= nums[mid]:\n",
    "            print(\"left array is sorted\")\n",
    "            if nums[low] <= target < nums[mid] : #don't just check target is smaller or greater than mid but also check if it lies b/w lower and upper \n",
    "                high = mid - 1\n",
    "            else:\n",
    "                low = mid + 1\n",
    "        else:\n",
    "            print(\"right array is sorted\")\n",
    "            if nums[mid] < target <= nums[high]: #don't just check target is smaller or greater than mid but also check if it lies b/w lower and upper \n",
    "                low = mid + 1\n",
    "            else:\n",
    "                high = mid - 1\n",
    "    return -1\n",
    "\n",
    "print(search_in_rotated(nums = [4,5,6,1,2,3], target = 5))\n"
   ]
  },
  {
   "cell_type": "code",
   "execution_count": 143,
   "id": "4555806c-b991-498d-bcd3-eccbc5a2e9a8",
   "metadata": {},
   "outputs": [
    {
     "name": "stdout",
     "output_type": "stream",
     "text": [
      "True\n"
     ]
    }
   ],
   "source": [
    "##### Return True if element exists in rotated array with duplicates\n",
    "\n",
    "def is_exist(nums, target):\n",
    "    low, high = 0, len(nums)-1\n",
    "    while low <= high:\n",
    "        mid = low + (high - low) // 2\n",
    "        if nums[mid] == target:\n",
    "            return True\n",
    "            \n",
    "        # Handle duplicates: nums[low] == nums[mid] == nums[high]\n",
    "        if nums[low] == nums[mid] == nums[high]:\n",
    "            low += 1\n",
    "            high -= 1\n",
    "            \n",
    "        # Left half is sorted\n",
    "        elif nums[mid] >= nums[low]:\n",
    "            if nums[low] <= target < nums[mid]:\n",
    "                high = mid - 1\n",
    "            else:\n",
    "                low = mid + 1\n",
    "        # Right half is sorted\n",
    "        else:\n",
    "            if nums[mid] < target <= nums[high]:\n",
    "                low = mid + 1\n",
    "            else:\n",
    "                high = mid - 1\n",
    "    return False\n",
    "\n",
    "print(is_exist(nums = [7,7,7,7,7,7,7,1,2,3,4,5,7,7], target = 1))"
   ]
  },
  {
   "cell_type": "code",
   "execution_count": 162,
   "id": "4aacfbea-c3bc-4eaa-b0d9-433f5148e489",
   "metadata": {},
   "outputs": [
    {
     "name": "stdout",
     "output_type": "stream",
     "text": [
      "0\n"
     ]
    }
   ],
   "source": [
    "# Find minimum in rotated sorted array\n",
    "\n",
    "def find_min(nums):\n",
    "    low, high = 0, len(nums)-1\n",
    "    final_min = float(\"inf\")\n",
    "\n",
    "    while low <= high:\n",
    "        mid = low + (high - low) // 2   \n",
    "        #left array is sorted\n",
    "        if nums[low] <= nums[mid]:\n",
    "            cur_min = nums[low]\n",
    "            final_min = min(final_min, cur_min)\n",
    "            low = mid + 1\n",
    "        #right array is sorted\n",
    "        else:\n",
    "            cur_min = nums[mid]\n",
    "            final_min = min(final_min, cur_min)\n",
    "            high = mid - 1\n",
    "    return final_min\n",
    "\n",
    "print(find_min([4,5,6,7,0,1,2]))"
   ]
  }
 ],
 "metadata": {
  "kernelspec": {
   "display_name": "Python 3 (ipykernel)",
   "language": "python",
   "name": "python3"
  },
  "language_info": {
   "codemirror_mode": {
    "name": "ipython",
    "version": 3
   },
   "file_extension": ".py",
   "mimetype": "text/x-python",
   "name": "python",
   "nbconvert_exporter": "python",
   "pygments_lexer": "ipython3",
   "version": "3.12.4"
  }
 },
 "nbformat": 4,
 "nbformat_minor": 5
}
