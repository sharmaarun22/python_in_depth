{
 "cells": [
  {
   "cell_type": "code",
   "execution_count": null,
   "metadata": {},
   "outputs": [],
   "source": [
    "Sachin: Hello\n",
    "Vamshi: Hi\n",
    "Rajesh: Hey\n",
    "Vamshi: How are you\n",
    "\n",
    "Output:\n",
    "Vamshi: 2\n",
    "Rajesh: 1\n",
    "Sachin: 1    "
   ]
  },
  {
   "cell_type": "code",
   "execution_count": null,
   "metadata": {},
   "outputs": [],
   "source": [
    "from collections import Counter\n",
    "with open(\"path_to_file\", \"r+\") as fh:\n",
    "    content = fh.readlines()\n",
    "content_dict = content.Counter()\n",
    "dict[\"Vamshi\"]\n",
    "dict[\"Rajesh\"]\n",
    "dict[\"Sachin\"]"
   ]
  },
  {
   "cell_type": "code",
   "execution_count": null,
   "metadata": {},
   "outputs": [],
   "source": [
    "import re \n",
    "names = re.finditer(\"[a-zA-Z]/+:\", content)\n",
    "for names in content:\n",
    "    content.group()\n"
   ]
  },
  {
   "cell_type": "code",
   "execution_count": 12,
   "metadata": {},
   "outputs": [
    {
     "name": "stdout",
     "output_type": "stream",
     "text": [
      "m\n",
      " \n",
      "n\n",
      "a\n"
     ]
    }
   ],
   "source": [
    "from collections import Counter\n",
    "x = \"My name is Arun\"\n",
    "x = x.lower()\n",
    "freq = Counter(x)\n",
    "for value in freq.items():\n",
    "    if value[1]>1:\n",
    "        print(value[0])"
   ]
  },
  {
   "cell_type": "code",
   "execution_count": 10,
   "metadata": {},
   "outputs": [
    {
     "name": "stdout",
     "output_type": "stream",
     "text": [
      "97 65\n"
     ]
    }
   ],
   "source": [
    "ord(\"a\")-ord(\"A\")\n",
    "print(ord(\"a\"), ord(\"A\"))"
   ]
  },
  {
   "cell_type": "code",
   "execution_count": 13,
   "metadata": {},
   "outputs": [
    {
     "ename": "SyntaxError",
     "evalue": "invalid syntax (<ipython-input-13-62c06a2e982f>, line 5)",
     "output_type": "error",
     "traceback": [
      "\u001b[1;36m  File \u001b[1;32m\"<ipython-input-13-62c06a2e982f>\"\u001b[1;36m, line \u001b[1;32m5\u001b[0m\n\u001b[1;33m    [\"fizz\" if i%3==0 elif if i%5==0 \"buzz\" for i in range(lower_end, upper_end)]\u001b[0m\n\u001b[1;37m                         ^\u001b[0m\n\u001b[1;31mSyntaxError\u001b[0m\u001b[1;31m:\u001b[0m invalid syntax\n"
     ]
    }
   ],
   "source": [
    "# Write a program to get following output,  \n",
    "# fizz when number is divisible by 3 , buzz when  number is divisible by 5\n",
    "lower_end = int(input(\"Enter the lower input\"))\n",
    "upper_end = int(input(\"Enter the upper input\"))\n"
   ]
  }
 ],
 "metadata": {
  "kernelspec": {
   "display_name": "Python 3",
   "language": "python",
   "name": "python3"
  },
  "language_info": {
   "codemirror_mode": {
    "name": "ipython",
    "version": 3
   },
   "file_extension": ".py",
   "mimetype": "text/x-python",
   "name": "python",
   "nbconvert_exporter": "python",
   "pygments_lexer": "ipython3",
   "version": "3.6.5"
  }
 },
 "nbformat": 4,
 "nbformat_minor": 2
}
