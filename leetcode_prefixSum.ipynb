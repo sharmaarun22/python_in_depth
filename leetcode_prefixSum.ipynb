{
 "cells": [
  {
   "cell_type": "code",
   "execution_count": 1,
   "id": "0ac1323c-4d8f-4a18-8022-6e1f2f5e5d61",
   "metadata": {},
   "outputs": [
    {
     "name": "stdout",
     "output_type": "stream",
     "text": [
      "Hello\n"
     ]
    }
   ],
   "source": [
    "# 1.\n",
    "# https://leetcode.com/problems/subarray-sum-equals-k/description/\n",
    "# incorrect code, corrected one is in next cell, fmap is not initialized correctly\n",
    "\n",
    "def subarraySum(nums, k):\n",
    "    n = len(nums)\n",
    "    ps = [0] * n\n",
    "    ps[0] = nums[0]\n",
    "    count = 0\n",
    "    fmap = {}\n",
    "    for i in range(1, n):\n",
    "        ps[i] = ps[i-1] + nums[i]\n",
    "    for j in range(n):\n",
    "        value = ps[j] - k\n",
    "        if ps[j] == k:\n",
    "            count += 1\n",
    "        if value in fmap:\n",
    "            count += fmap[value]\n",
    "        fmap[ps[j]] = fmap.get(ps[j], 0) + 1\n",
    "    return count\n",
    "            \n",
    "print(subarraySum(nums = [1,1,1], k = 2)) #Output: 2\n",
    "print(subarraySum(nums = [1,2,3], k = 3)) #Output: 2\n",
    "print(subarraySum(nums = [9,4,0,20,3,10,5], k = 33)) #Output: 3"
   ]
  },
  {
   "cell_type": "code",
   "execution_count": 40,
   "id": "abf8cd1b-15f0-453c-81c9-ab474e53852b",
   "metadata": {},
   "outputs": [
    {
     "name": "stdout",
     "output_type": "stream",
     "text": [
      "2\n",
      "2\n",
      "3\n",
      "4\n"
     ]
    }
   ],
   "source": [
    "# 1.\n",
    "# https://leetcode.com/problems/subarray-sum-equals-k/description/\n",
    "# corrected chatgpt version\n",
    "\n",
    "def subarraySum(nums, k):\n",
    "    count = 0\n",
    "    ps = 0\n",
    "    fmap = {0: 1}  # Initialize to handle subarrays starting at index 0\n",
    "\n",
    "    for num in nums:\n",
    "        ps += num\n",
    "        count += fmap.get(ps - k, 0)\n",
    "        fmap[ps] = fmap.get(ps, 0) + 1\n",
    "\n",
    "    return count\n",
    "\n",
    "print(subarraySum([1,1,1], k=2))        # ✅ 2\n",
    "print(subarraySum([1,2,3], k=3))        # ✅ 2\n",
    "print(subarraySum([9,4,0,20,3,10,5], 33)) # ✅ 3\n",
    "print(subarraySum([3,4,7,2,-3,1,4,2], 7)) # ✅ 4\n",
    "\n",
    "# Takeaway\n",
    "# Always initialize fmap = {0: 1} if working with frequency map in prefix sum problems\n",
    "# see if we can directly loop over values instead of range\n",
    "# see if <if condtion> can be avoided using fmap.get(ps - k, 0)\n",
    "# seperate array to maintain ps is not needed"
   ]
  },
  {
   "cell_type": "code",
   "execution_count": 10,
   "id": "3a5a6d7c-c727-4733-bcf0-2d79137890fb",
   "metadata": {},
   "outputs": [
    {
     "name": "stdout",
     "output_type": "stream",
     "text": [
      "4\n",
      "2\n"
     ]
    }
   ],
   "source": [
    "# 2.\n",
    "# 325. Maximum Size Subarray Sum Equals K\n",
    "\n",
    "def max_subarray_len(nums, k):\n",
    "    n = len(nums)\n",
    "    ps = 0\n",
    "    index_value_map = {}\n",
    "    max_len = 0\n",
    "    for j in range(n):\n",
    "        ps = nums[j] + ps\n",
    "        if k == ps:\n",
    "            max_len = max(max_len, j+1)\n",
    "        value = ps - k\n",
    "        if value in index_value_map:\n",
    "            cur_len = j - index_value_map[value] + 1\n",
    "            max_len = max(cur_len, max_len)\n",
    "        if ps not in index_value_map:   #this is because, we want the minimum index for longest length, toh baad wala j already appeared j se bada hi hoga toh kyu hi insert krna\n",
    "            index_value_map[ps] = j\n",
    "    return max_len\n",
    "        \n",
    "\n",
    "print(max_subarray_len(nums = [1, -1, 5, -2, 3], k = 3)) # Expected output: 4\n",
    "print(max_subarray_len(nums = [1, 2, 3], k = 3)) # Expected output: 2"
   ]
  },
  {
   "cell_type": "code",
   "execution_count": 36,
   "id": "5a4b55ed-2d04-4f59-a6bd-bba90dcf085f",
   "metadata": {},
   "outputs": [
    {
     "name": "stdout",
     "output_type": "stream",
     "text": [
      "7\n",
      "0\n"
     ]
    }
   ],
   "source": [
    "# 3.\n",
    "# https://leetcode.com/problems/subarray-sums-divisible-by-k/description/\n",
    "\n",
    "def subarraysDivByK(nums, k):\n",
    "    count = 0\n",
    "    rem_freq_map = {0: 1}\n",
    "    ps = 0\n",
    "    \n",
    "    for num in nums:\n",
    "        ps += num\n",
    "        rem = ps % k\n",
    "        \n",
    "        # Handle negative remainders correctly\n",
    "        if rem < 0:\n",
    "            rem += k\n",
    "        \n",
    "        count += rem_freq_map.get(rem, 0)\n",
    "        rem_freq_map[rem] = rem_freq_map.get(rem, 0) + 1\n",
    "        \n",
    "    return count\n",
    "\n",
    "# Test cases\n",
    "print(subarraysDivByK(nums = [4,5,0,-2,-3,1], k = 5))  # Output: 7\n",
    "print(subarraysDivByK(nums = [5], k = 9))              # Output: 0"
   ]
  },
  {
   "cell_type": "code",
   "execution_count": 50,
   "id": "8605e816-5d9e-4415-a8b1-3c6895d94d1a",
   "metadata": {},
   "outputs": [
    {
     "name": "stdout",
     "output_type": "stream",
     "text": [
      "True\n",
      "True\n",
      "False\n"
     ]
    }
   ],
   "source": [
    "# 4.\n",
    "# https://leetcode.com/problems/continuous-subarray-sum/description/\n",
    "\n",
    "def checkSubarraySum(nums, k):\n",
    "    ps = 0\n",
    "    rem_index_map = {0: -1}\n",
    "    for index, num in enumerate(nums):\n",
    "        ps += num\n",
    "        rem = ps % k\n",
    "        if rem in rem_index_map:\n",
    "            if index - rem_index_map[rem] > 1:\n",
    "                return True\n",
    "        rem_index_map[rem] = index\n",
    "    return False\n",
    "\n",
    "\n",
    "print(checkSubarraySum(nums = [23,2,4,6,7], k = 6))  # Output: true\n",
    "print(checkSubarraySum(nums = [23,2,6,4,7], k = 6))  # Output: true\n",
    "print(checkSubarraySum(nums = [23,2,6,4,7], k = 13))  # Output: false"
   ]
  },
  {
   "cell_type": "code",
   "execution_count": 68,
   "id": "78e4e143-512e-41e7-b765-0b913d39639b",
   "metadata": {},
   "outputs": [
    {
     "name": "stdout",
     "output_type": "stream",
     "text": [
      "4\n"
     ]
    }
   ],
   "source": [
    "# https://leetcode.com/problems/binary-subarrays-with-sum/description/\n",
    "\n",
    "def numSubarraysWithSum(nums, goal):\n",
    "    n = len(nums)\n",
    "    total = 0\n",
    "    ps = 0\n",
    "    for j in nums:\n",
    "        ps += j\n",
    "    return total\n",
    "\n",
    "\n",
    "print(numSubarraysWithSum(nums = [1,0,1,0,1], goal = 2))\n",
    "# print(numSubarraysWithSum(nums = [0,0,0,0,0], goal = 0))"
   ]
  }
 ],
 "metadata": {
  "kernelspec": {
   "display_name": "Python 3 (ipykernel)",
   "language": "python",
   "name": "python3"
  },
  "language_info": {
   "codemirror_mode": {
    "name": "ipython",
    "version": 3
   },
   "file_extension": ".py",
   "mimetype": "text/x-python",
   "name": "python",
   "nbconvert_exporter": "python",
   "pygments_lexer": "ipython3",
   "version": "3.12.4"
  }
 },
 "nbformat": 4,
 "nbformat_minor": 5
}
