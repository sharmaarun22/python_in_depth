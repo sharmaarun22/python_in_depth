{
 "cells": [
  {
   "cell_type": "code",
   "execution_count": 11,
   "id": "bb408ce8-d401-412f-bca5-59abe0860221",
   "metadata": {},
   "outputs": [
    {
     "name": "stdout",
     "output_type": "stream",
     "text": [
      "2 1\n"
     ]
    }
   ],
   "source": [
    "#1 https://leetcode.com/problems/two-sum/description/\n",
    "nums = [2,7,11,15] \n",
    "target = 9\n",
    "\n",
    "# nums = [3,2,4] \n",
    "# target = 6\n",
    "\n",
    "compliments = {}\n",
    "for i in range(len(nums)):\n",
    "    compliment = target - nums[i]\n",
    "    if compliment not in compliments:\n",
    "        compliments[nums[i]] = i\n",
    "    else:\n",
    "        print(i, compliments[compliment])"
   ]
  },
  {
   "cell_type": "code",
   "execution_count": 21,
   "id": "0a83f221-b22a-43e2-90b8-b681ef64f888",
   "metadata": {},
   "outputs": [
    {
     "name": "stdout",
     "output_type": "stream",
     "text": [
      "3\n"
     ]
    }
   ],
   "source": [
    "#2 https://leetcode.com/problems/longest-substring-without-repeating-characters/\n",
    "s = \"abcabcbb\"\n",
    "# s = \"bbbbb\"\n",
    "# s = \"pwwkew\"\n",
    "\n",
    "\n",
    "char_set = set()\n",
    "max_length = 0\n",
    "left = 0\n",
    "\n",
    "for right in range(len(s)):\n",
    "    while s[right] in char_set:\n",
    "        char_set.remove(s[left])\n",
    "        left +=1\n",
    "    char_set.add(s[right])\n",
    "    max_length = max(max_length, right-left+1)\n",
    "\n",
    "print(max_length)\n",
    "\n",
    "\"\"\"\n",
    "Time Complexity:\n",
    "Each character is added and removed from the set at most once, so the time complexity is O(n), where n is the length of the string.\n",
    "\n",
    "Space Complexity:\n",
    "The char_set stores at most O(k), where k is the size of the unique characters in the string.\n",
    "\"\"\""
   ]
  },
  {
   "cell_type": "code",
   "execution_count": 29,
   "id": "5840fd62-d442-452d-bc85-2ea437d24a43",
   "metadata": {},
   "outputs": [
    {
     "name": "stdout",
     "output_type": "stream",
     "text": [
      "9\n"
     ]
    }
   ],
   "source": [
    "#3 Maximum Sum Subarray of Size K\n",
    "# Find the maximum sum of any contiguous subarray of size k.\n",
    "\n",
    "def max_sum_subarray_of_size_k(arr, k):\n",
    "    if len(arr) < k:\n",
    "        return -1  # If the array is smaller than k, return -1\n",
    "\n",
    "    max_sum = 0\n",
    "    window_sum = 0\n",
    "    window_start = 0\n",
    "\n",
    "    for window_end in range(len(arr)):\n",
    "        # Add the next element to the window sum\n",
    "        window_sum += arr[window_end]\n",
    "\n",
    "        # Check if the window has reached size k\n",
    "        if window_end >= k - 1:\n",
    "            max_sum = max(max_sum, window_sum)  # Update the maximum sum\n",
    "            window_sum -= arr[window_start]    # Slide the window by removing the first element\n",
    "            window_start += 1                  # Move the start of the window\n",
    "\n",
    "    return max_sum\n",
    "\n",
    "# Example usage:\n",
    "arr = [2, 1, 5, 1, 3, 2]\n",
    "k = 3\n",
    "print(max_sum_subarray_of_size_k(arr, k))  # Output: 9"
   ]
  },
  {
   "cell_type": "code",
   "execution_count": 85,
   "id": "f8e6e3c6-3db9-4141-a01f-8017eabee5eb",
   "metadata": {},
   "outputs": [
    {
     "name": "stdout",
     "output_type": "stream",
     "text": [
      "2\n"
     ]
    }
   ],
   "source": [
    "#4 Smallest Subarray with a Given Sum\n",
    "# Find the length of the smallest contiguous subarray whose sum is greater than or equal to S. Return 0 if no such subarray exists.\n",
    "\n",
    "def smallest_subarray_with_given_sum(S, arr):\n",
    "    window_sum = 0\n",
    "    min_length = float('inf')\n",
    "    window_start = 0\n",
    "\n",
    "    for window_end in range(len(arr)):\n",
    "        # Add the current element to the window sum\n",
    "        window_sum += arr[window_end]\n",
    "\n",
    "        # Shrink the window as long as the sum is >= S\n",
    "        while window_sum >= S:\n",
    "            # Update the minimum length of the subarray\n",
    "            min_length = min(min_length, window_end - window_start + 1)\n",
    "            # Remove the element at window_start from the sum\n",
    "            window_sum -= arr[window_start]\n",
    "            # Move the window start forward\n",
    "            window_start += 1\n",
    "\n",
    "    # If no valid subarray is found, return 0\n",
    "    return min_length if min_length != float('inf') else 0\n",
    "\n",
    "# Example usage:\n",
    "S = 7\n",
    "arr = [2, 1, 5, 2, 3, 2]\n",
    "print(smallest_subarray_with_given_sum(S, arr))  # Output: 2\n"
   ]
  },
  {
   "cell_type": "code",
   "execution_count": 101,
   "id": "45c1225f-e4c8-4dfb-b3d2-f8472e39e591",
   "metadata": {},
   "outputs": [
    {
     "name": "stdout",
     "output_type": "stream",
     "text": [
      "3\n"
     ]
    }
   ],
   "source": [
    "#5 Longest Substring with At Most K Distinct Characters\n",
    "# Find the length of the longest substring with at most k distinct characters.\n",
    "\n",
    "def longest_substring_with_k_distinct(s, k):\n",
    "    if k == 0 or not s:\n",
    "        return 0\n",
    "\n",
    "    char_frequency = {}  # Dictionary to track character frequency\n",
    "    window_start = 0\n",
    "    max_length = 0\n",
    "\n",
    "    for window_end in range(len(s)):\n",
    "        # Add the current character to the frequency map\n",
    "        right_char = s[window_end]\n",
    "        char_frequency[right_char] = char_frequency.get(right_char, 0) + 1\n",
    "\n",
    "        # Shrink the window until we have no more than 'k' distinct characters\n",
    "        while len(char_frequency) > k:\n",
    "            left_char = s[window_start]\n",
    "            char_frequency[left_char] -= 1\n",
    "            if char_frequency[left_char] == 0:\n",
    "                del char_frequency[left_char]  # Remove the character completely\n",
    "            window_start += 1  # Move the window start forward\n",
    "\n",
    "        # Update the maximum length of the substring\n",
    "        max_length = max(max_length, window_end - window_start + 1)\n",
    "\n",
    "    return max_length\n",
    "\n",
    "# Example usage:\n",
    "s = \"eceba\"\n",
    "k = 2\n",
    "print(longest_substring_with_k_distinct(s, k))  # Output: 3\n"
   ]
  },
  {
   "cell_type": "code",
   "execution_count": 1,
   "id": "ba4b8ca9-619b-4216-9cf8-0c2bf6e5160f",
   "metadata": {},
   "outputs": [
    {
     "name": "stdout",
     "output_type": "stream",
     "text": [
      "7\n"
     ]
    }
   ],
   "source": [
    "# 6. Maximum Consecutive Ones III\n",
    "# Given a binary array nums, you can flip at most k 0s to 1s. Find the length of the longest contiguous subarray containing only 1s.\n",
    "\n",
    "def longest_ones(nums, k):\n",
    "    window_start = 0\n",
    "    max_length = 0\n",
    "    zeros_count = 0\n",
    "\n",
    "    for window_end in range(len(nums)):\n",
    "        # Expand the window and count zeros\n",
    "        if nums[window_end] == 0:\n",
    "            zeros_count += 1\n",
    "\n",
    "        # Shrink the window if zeros exceed k\n",
    "        while zeros_count > k:\n",
    "            if nums[window_start] == 0:\n",
    "                zeros_count -= 1\n",
    "            window_start += 1\n",
    "\n",
    "        # Update the maximum length\n",
    "        max_length = max(max_length, window_end - window_start + 1)\n",
    "\n",
    "    return max_length\n",
    "\n",
    "# Example usage:\n",
    "nums = [1, 1, 1, 0, 0, 1, 1, 0, 1, 1, 1]\n",
    "k = 2\n",
    "print(longest_ones(nums, k))  # Output: 7\n"
   ]
  },
  {
   "cell_type": "code",
   "execution_count": 17,
   "id": "5fb5717c-551b-4d7b-b597-7753d828e1c5",
   "metadata": {},
   "outputs": [
    {
     "name": "stdout",
     "output_type": "stream",
     "text": [
      "True\n"
     ]
    }
   ],
   "source": [
    "# 7. Permutation in String\n",
    "# Given two strings s1 and s2, return true if s2 contains a permutation of s1. In other words, check if one of s1's permutations is a substring of s2.\n",
    "\n",
    "from collections import Counter\n",
    "\n",
    "def check_inclusion(s1, s2):\n",
    "    if len(s1) > len(s2):\n",
    "        return False\n",
    "\n",
    "    s1_count = Counter(s1)  # Frequency of characters in s1\n",
    "    window_count = Counter()  # Frequency of characters in the current window\n",
    "    start = 0\n",
    "\n",
    "    for end in range(len(s2)):\n",
    "        # Add the current character to the window\n",
    "        window_count[s2[end]] += 1\n",
    "\n",
    "        # Compare the current window with the target s1_count\n",
    "        if (end - start + 1) == len(s1):\n",
    "            if window_count == s1_count:\n",
    "                return True\n",
    "\n",
    "            # Remove the character that is left out of the window\n",
    "            left_char = s2[start]\n",
    "            if window_count[left_char] == 1:\n",
    "                del window_count[left_char]\n",
    "            else:\n",
    "                window_count[left_char] -= 1\n",
    "            start += 1  # Move the start pointer after shrinking the window\n",
    "\n",
    "    return False\n",
    "\n",
    "# Example usage:\n",
    "s1 = \"ab\"\n",
    "s2 = \"eidbaooo\"\n",
    "print(check_inclusion(s1, s2))  # Output: True\n"
   ]
  },
  {
   "cell_type": "code",
   "execution_count": 21,
   "id": "228e72e0-3ae3-4919-b785-bf5537f53474",
   "metadata": {},
   "outputs": [
    {
     "name": "stdout",
     "output_type": "stream",
     "text": [
      "[0, 6]\n"
     ]
    }
   ],
   "source": [
    "# 8. Find All Anagrams in a String\n",
    "# Given two strings s and p, return the starting indices of all the anagrams of p in s.\n",
    "\n",
    "from collections import Counter\n",
    "\n",
    "\n",
    "s2 = \"cbaebabacd\"\n",
    "s1 = \"abc\"\n",
    "anagrams = []\n",
    "start = 0\n",
    "s1_count = Counter(s1)\n",
    "s2_count = Counter()\n",
    "\n",
    "for end in range(len(s2)):\n",
    "    s2_count[s2[end]] += 1\n",
    "\n",
    "    if (end-start+1) == len(s1):\n",
    "        if s1_count == s2_count:\n",
    "            anagrams.append(start)\n",
    "\n",
    "        start_char = s2[start]\n",
    "        if s2_count[start_char] == 1:\n",
    "            del s2_count[start_char]\n",
    "        else:\n",
    "            s2_count[start_char] -= 1\n",
    "        start += 1\n",
    "\n",
    "print(anagrams)\n",
    "    "
   ]
  },
  {
   "cell_type": "code",
   "execution_count": 23,
   "id": "a0881703-e295-4056-9d19-5b426cb4b90f",
   "metadata": {},
   "outputs": [
    {
     "data": {
      "text/plain": [
       "4"
      ]
     },
     "execution_count": 23,
     "metadata": {},
     "output_type": "execute_result"
    }
   ],
   "source": [
    "# 9. Longest Repeating Character Replacement\n",
    "# Given a string s and an integer k, find the length of the longest substring that can be obtained by replacing at most k characters.\n",
    "# youtube link: https://youtu.be/gqXU1UyA8pk?si=PZNKxxiuqwNzINuQ\n",
    "\n",
    "from collections import Counter\n",
    "\n",
    "def character_replacement(s, k):\n",
    "    from collections import Counter\n",
    "    \n",
    "    char_count = Counter()\n",
    "    max_length = 0\n",
    "    max_freq = 0\n",
    "    start = 0\n",
    "\n",
    "    for end in range(len(s)):\n",
    "        # Include the current character in the window\n",
    "        char_count[s[end]] += 1\n",
    "        # Update the count of the most frequent character in the window\n",
    "        max_freq = max(max_freq, char_count[s[end]])\n",
    "        \n",
    "        # Check if the current window is valid\n",
    "        window_size = end - start + 1\n",
    "        if window_size - max_freq > k:\n",
    "            # Shrink the window\n",
    "            char_count[s[start]] -= 1\n",
    "            start += 1\n",
    "\n",
    "        # Update the maximum length of a valid window\n",
    "        max_length = max(max_length, end - start + 1)\n",
    "    \n",
    "    return max_length\n",
    "\n",
    "# Example usage:\n",
    "s = \"AABABBA\"\n",
    "k = 1\n",
    "print(character_replacement(s, k))  # Output: 4\n",
    "  "
   ]
  }
 ],
 "metadata": {
  "kernelspec": {
   "display_name": "Python 3 (ipykernel)",
   "language": "python",
   "name": "python3"
  },
  "language_info": {
   "codemirror_mode": {
    "name": "ipython",
    "version": 3
   },
   "file_extension": ".py",
   "mimetype": "text/x-python",
   "name": "python",
   "nbconvert_exporter": "python",
   "pygments_lexer": "ipython3",
   "version": "3.12.4"
  }
 },
 "nbformat": 4,
 "nbformat_minor": 5
}
