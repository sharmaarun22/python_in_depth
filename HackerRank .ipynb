{
 "cells": [
  {
   "cell_type": "code",
   "execution_count": 1,
   "metadata": {},
   "outputs": [
    {
     "name": "stdout",
     "output_type": "stream",
     "text": [
      "3\n",
      "6\n",
      "7\n",
      "[(0, 0), (0, 1), (0, 2), (0, 3), (0, 4), (0, 5), (0, 6), (1, 0), (1, 1), (1, 2), (1, 3), (1, 4), (1, 5), (2, 0), (2, 1), (2, 2), (2, 3), (2, 4), (2, 6), (3, 0), (3, 1), (3, 2), (3, 3), (3, 5), (3, 6)]\n"
     ]
    }
   ],
   "source": [
    "#list comprehension\n",
    "\n",
    "x = int ( input()) \n",
    "y = int ( input()) \n",
    "n = int ( input()) \n",
    "z=[(i,j) for i in range(x+1) for j in range (y+1) if ((i+j) !=n)]\n",
    "print(z)"
   ]
  },
  {
   "cell_type": "code",
   "execution_count": 32,
   "metadata": {},
   "outputs": [
    {
     "data": {
      "text/plain": [
       "['s']"
      ]
     },
     "execution_count": 32,
     "metadata": {},
     "output_type": "execute_result"
    }
   ],
   "source": [
    "my_names=['arun','abhi','sagar']\n",
    "list(filter(None,list(map(lambda x: x[0] if len(x) % 2 != 0 else False, my_names))))\n"
   ]
  },
  {
   "cell_type": "code",
   "execution_count": 22,
   "metadata": {},
   "outputs": [
    {
     "name": "stdout",
     "output_type": "stream",
     "text": [
      "arun\n"
     ]
    }
   ],
   "source": []
  },
  {
   "cell_type": "code",
   "execution_count": 4,
   "metadata": {},
   "outputs": [
    {
     "name": "stdout",
     "output_type": "stream",
     "text": [
      "True\n",
      "False\n"
     ]
    }
   ],
   "source": []
  },
  {
   "cell_type": "code",
   "execution_count": 13,
   "metadata": {},
   "outputs": [
    {
     "name": "stdout",
     "output_type": "stream",
     "text": [
      "Enter the number \n",
      "4\n",
      "Enter the  numbers : \n",
      "1 2 3 4\n",
      "['1', '2', '3', '4']\n",
      "[1, 2, 3, 4]\n",
      "3\n"
     ]
    }
   ],
   "source": [
    "#finding out the second highest score\n",
    "#imp: map function\n",
    "\n",
    "n=int(input('Enter the number \\n'))\n",
    "a=input('Enter the  numbers : \\n')\n",
    "list1=a.split()\n",
    "print(list1)\n",
    "list2=list(map(int, list1))\n",
    "print(list2)\n",
    "x=sorted(list1)\n",
    "print(x[-2])"
   ]
  },
  {
   "cell_type": "code",
   "execution_count": null,
   "metadata": {},
   "outputs": [],
   "source": [
    "print('hello')"
   ]
  },
  {
   "cell_type": "code",
   "execution_count": null,
   "metadata": {},
   "outputs": [],
   "source": []
  },
  {
   "cell_type": "code",
   "execution_count": 24,
   "metadata": {},
   "outputs": [
    {
     "name": "stdout",
     "output_type": "stream",
     "text": [
      "Enter the no. of students: \n",
      "3\n",
      "Enter the name : \n",
      "arun\n",
      "Enter the marks : \n",
      "9\n",
      "Enter the name : \n",
      "avh\n",
      "Enter the marks : \n",
      "2\n",
      "Enter the name : \n",
      "sagar\n",
      "Enter the marks : \n",
      "6\n",
      "[('arun', 9.0), ('avh', 2.0), ('sagar', 6.0)]\n",
      "[('avh', 2.0), ('sagar', 6.0), ('arun', 9.0)]\n"
     ]
    }
   ],
   "source": [
    "#NESTED LIST\n",
    "\n",
    "#Given the names and grades for each student in a Physics class of  students,\n",
    "#store them in a nested list and print the name(s) of any student(s) having the second lowest grade.\n",
    "#imp: sort with key\n",
    "\n",
    "def sortSecond(val): \n",
    "    return val[1]\n",
    "\n",
    "n=int(input('Enter the no. of students: \\n'))\n",
    "marks=[]\n",
    "name=[]\n",
    "for i in range(n):\n",
    "    name.append((input('Enter the name : \\n')))\n",
    "    marks.append(float(input('Enter the marks : \\n')))\n",
    "record=list(zip(name, marks))\n",
    "print(record)\n",
    "record.sort(key=sortSecond)\n",
    "print(record)\n"
   ]
  },
  {
   "cell_type": "code",
   "execution_count": null,
   "metadata": {},
   "outputs": [],
   "source": [
    "n=int(input('Enter the number : \\n'))\n",
    "data=[]\n",
    "data1=[]\n",
    "for x in range(n):\n",
    "    data.append(input('Enter the name and marks for 3 subjects : \\n'))\n",
    "for x in data:\n",
    "    data1.append(list(map(int, x.split()))\n",
    "data1    "
   ]
  },
  {
   "cell_type": "code",
   "execution_count": null,
   "metadata": {},
   "outputs": [],
   "source": [
    "\"\"\"You have a record of  students. Each record contains the \n",
    "student's name, and their percent marks in Maths, Physics and Chemistry.\n",
    "The marks can be floating values. The user enters some integer  followed by the names and \n",
    "marks for students. You are required to save the record in a dictionary data type.\n",
    "The user then enters a student's name. Output the average percentage marks obtained by that student, \n",
    "correct to two decimal places.\"\"\"\n",
    "\n",
    "Class average:\n",
    "    n=int(input('Enter the number : \\n'))\n",
    "    \n",
    "\n",
    "    \n",
    "    "
   ]
  },
  {
   "cell_type": "code",
   "execution_count": 6,
   "metadata": {},
   "outputs": [
    {
     "name": "stdout",
     "output_type": "stream",
     "text": [
      "Enter the number : \n",
      "3\n",
      "Enter the name and marks of three subjects: \n",
      "arun 3 6 3\n",
      "Enter the name and marks of three subjects: \n",
      "abhi 9 5 8\n",
      "Enter the name and marks of three subjects: \n",
      "sagar 2 5 3\n",
      "['3', '6', '3']\n",
      "['9', '5', '8']\n",
      "['2', '5', '3']\n",
      "{'arun': {'Maths': 3, 'Physics': 6, 'Chemistry': 3}, 'abhi': {'Maths': 3, 'Physics': 6, 'Chemistry': 3}, 'sagar': {'Maths': 9, 'Physics': 5, 'Chemistry': 8}}\n",
      "Enter the name : \n",
      "arun\n",
      "Average of marks of arun is 4.00\n"
     ]
    }
   ],
   "source": [
    "\"\"\"You have a record of  students. Each record contains the \n",
    "student's name, and their percent marks in Maths, Physics and Chemistry.\n",
    "The marks can be floating values. The user enters some integer  followed by the names and \n",
    "marks for students. You are required to save the record in a dictionary data type.\n",
    "The user then enters a student's name. Output the average percentage marks obtained by that student, \n",
    "correct to two decimal places.\"\"\"\n",
    "\n",
    "def avg(name1, dict_final):\n",
    "    y=dict_final.get(name1)\n",
    "    return sum(y.values())/3\n",
    "\n",
    "n=int(input('Enter the number : \\n'))\n",
    "data=[]\n",
    "name=[]\n",
    "score=[]\n",
    "subjects=['Maths', 'Physics', 'Chemistry']\n",
    "Dictionary=[]\n",
    "for x in range (n):\n",
    "    data.append(input('Enter the name and marks of three subjects: \\n'))\n",
    "for x in data:\n",
    "    y=x.split()\n",
    "    name.append(y[0])\n",
    "    y.pop(0)\n",
    "    print(y)\n",
    "    score.append(list(map(int,y)))\n",
    "    for x in score:\n",
    "        sub_dict=dict(zip(subjects, x))\n",
    "        Dictionary.append(sub_dict)\n",
    "\n",
    "z=dict(zip(name,Dictionary))\n",
    "print(z)\n",
    "\n",
    "sname=input('Enter the name : \\n')\n",
    "if sname in z:\n",
    "    average=avg(sname, z)\n",
    "    print('Average of marks of %s is %0.2f' % (sname, average))\n",
    "else:\n",
    "    print('Name is not there in the records')\n"
   ]
  },
  {
   "cell_type": "code",
   "execution_count": 7,
   "metadata": {},
   "outputs": [
    {
     "name": "stdout",
     "output_type": "stream",
     "text": [
      "['w', 'W', 'W', '.', 'h', 'A', 'C', 'K', 'E', 'R', 'r', 'A', 'N', 'K', '.', 'C', 'O', 'M']\n",
      "wWW.hACKERrANK.COM\n"
     ]
    }
   ],
   "source": [
    "strng='Www.HackerRank.com'\n",
    "strng1=[]\n",
    "for x in strng:\n",
    "    if x.isupper():\n",
    "        strng1.append(x.lower())\n",
    "    elif x.islower():\n",
    "        strng1.append(x.upper())\n",
    "    else:\n",
    "        strng1.append(x)\n",
    "print(strng1)        \n",
    "c=''.join(strng1)       \n",
    "print(c)\n",
    "        "
   ]
  },
  {
   "cell_type": "code",
   "execution_count": 15,
   "metadata": {},
   "outputs": [
    {
     "name": "stdout",
     "output_type": "stream",
     "text": [
      "arunsharma\n",
      "arun\n",
      "1\n"
     ]
    }
   ],
   "source": [
    "string, substring = (input().strip(), input().strip())\n",
    "print(sum([ 1 for i in range(len(string)-len(substring)+1) if string[i:i+len(substring)] == substring]))  \n",
    "        \n",
    "        \n",
    "        \n",
    "    \n"
   ]
  },
  {
   "cell_type": "code",
   "execution_count": 36,
   "metadata": {},
   "outputs": [
    {
     "name": "stdout",
     "output_type": "stream",
     "text": [
      "Deposit Accepted\n",
      "Withdraw Accepted\n",
      "<class '__main__.Bank'>\n",
      "Withdraw Accepted\n"
     ]
    }
   ],
   "source": [
    "class Bank:\n",
    "    \n",
    "    def __init__(self, owner, balance):\n",
    "        self.owner = owner\n",
    "        self.balance = balance\n",
    "        \n",
    "    def deposit(self, deposit):\n",
    "        self.deposit1  = deposit\n",
    "        self.balance += deposit\n",
    "        print(\"Deposit Accepted\")\n",
    "        \n",
    "    def withdraw(self, withdraw):\n",
    "        self.withdraw1 = withdraw\n",
    "        if(self.balance > self.withdraw1):\n",
    "            self.balance = self.balance -  self.withdraw1\n",
    "            print(\"Withdraw Accepted\") \n",
    "        else:\n",
    "            print(\"Insufficient Funds.\") \n",
    "        \n",
    "acct1 = Bank('Aasif',500)\n",
    "acct1.deposit(50)\n",
    "acct1.withdraw(100)\n",
    "print(type(acct1))\n",
    "acct1.withdraw(50)\n",
    "#print(type(acct1.withdraw))"
   ]
  },
  {
   "cell_type": "code",
   "execution_count": 20,
   "metadata": {},
   "outputs": [],
   "source": [
    "acct1 = Bank('Aasif',500)\n",
    "acct1.deposit(50)\n",
    "acct1.withdraw(100)"
   ]
  },
  {
   "cell_type": "code",
   "execution_count": null,
   "metadata": {},
   "outputs": [],
   "source": []
  }
 ],
 "metadata": {
  "kernelspec": {
   "display_name": "Python 3",
   "language": "python",
   "name": "python3"
  },
  "language_info": {
   "codemirror_mode": {
    "name": "ipython",
    "version": 3
   },
   "file_extension": ".py",
   "mimetype": "text/x-python",
   "name": "python",
   "nbconvert_exporter": "python",
   "pygments_lexer": "ipython3",
   "version": "3.6.5"
  }
 },
 "nbformat": 4,
 "nbformat_minor": 2
}
