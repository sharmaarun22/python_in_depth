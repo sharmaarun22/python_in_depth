{
 "cells": [
  {
   "cell_type": "code",
   "execution_count": 17,
   "id": "64702363-8c58-46ee-a261-b123126731a6",
   "metadata": {},
   "outputs": [
    {
     "data": {
      "text/plain": [
       "6"
      ]
     },
     "execution_count": 17,
     "metadata": {},
     "output_type": "execute_result"
    }
   ],
   "source": [
    "# Question1: https://leetcode.com/problems/maximum-subarray/description/\n",
    "# bruteforce\n",
    "nums = [-2,1,-3,4,-1,2,1,-5,4]\n",
    "Output: 6\n",
    "# Explanation: The subarray [4,-1,2,1] has the largest sum 6.\n",
    "final_sum = 0\n",
    "\n",
    "for i in range(len(nums)):\n",
    "    for j in range(i+1, len(nums)+1):\n",
    "        # print(nums[i:j])\n",
    "        local_sum = sum(nums[i:j])\n",
    "        if local_sum > final_sum:\n",
    "            final_sum = local_sum\n",
    "\n",
    "final_sum\n",
    "        "
   ]
  },
  {
   "cell_type": "code",
   "execution_count": 19,
   "id": "df3bbc71-011e-4e2c-8f46-938cc4d02683",
   "metadata": {},
   "outputs": [
    {
     "data": {
      "text/plain": [
       "6"
      ]
     },
     "execution_count": 19,
     "metadata": {},
     "output_type": "execute_result"
    }
   ],
   "source": [
    "# Kadane's algorithm\n",
    "nums = [-2,1,-3,4,-1,2,1,-5,4]\n",
    "max_sum = 0\n",
    "sum = 0\n",
    "for i in range(len(nums)):\n",
    "    sum = sum + nums[i]\n",
    "    max_sum = max(sum, max_sum)\n",
    "    if sum < 0:\n",
    "        sum = 0\n",
    "max_sum"
   ]
  },
  {
   "cell_type": "code",
   "execution_count": 25,
   "id": "87232a9a-7a39-415e-b796-3c870f3e1bc9",
   "metadata": {},
   "outputs": [
    {
     "name": "stdout",
     "output_type": "stream",
     "text": [
      "(2, 7)\n"
     ]
    }
   ],
   "source": [
    "# Question2: Pair sum or 2 sum\n",
    "# bruteforce\n",
    "arr = [2,11,7,15]\n",
    "target = 9\n",
    "\n",
    "def two_sum(arr, target):\n",
    "    for i in range(len(arr)):\n",
    "        for j in range(i+1,len(arr)):\n",
    "            sum = arr[i] + arr[j]\n",
    "            if sum == target:\n",
    "                return arr[i], arr[j]\n",
    "\n",
    "output = two_sum(arr, target)\n",
    "print(output)"
   ]
  },
  {
   "cell_type": "code",
   "execution_count": 39,
   "id": "166b54c6-0a89-407d-9264-1979b7af52f8",
   "metadata": {},
   "outputs": [
    {
     "name": "stdout",
     "output_type": "stream",
     "text": [
      "(7, 2)\n"
     ]
    }
   ],
   "source": [
    "# using compliment\n",
    "arr = [2,11,7,15]\n",
    "target = 9\n",
    "compliment = []\n",
    "\n",
    "def two_sum(arr, target):\n",
    "    for i in arr:\n",
    "        com = abs(target-i)\n",
    "        if com in compliment:\n",
    "            return i,com\n",
    "        else:\n",
    "            compliment.append(com)\n",
    "          \n",
    "\n",
    "output = two_sum(arr, target)\n",
    "print(output)"
   ]
  },
  {
   "cell_type": "code",
   "execution_count": 43,
   "id": "248643fb-c950-4ec8-b3d4-275a04482621",
   "metadata": {},
   "outputs": [
    {
     "name": "stdout",
     "output_type": "stream",
     "text": [
      "(2, 7)\n"
     ]
    }
   ],
   "source": [
    "# when the array is sorted\n",
    "arr = [2,7,11,15]\n",
    "target = 9\n",
    "\n",
    "def two_sum(arr, target):\n",
    "    start = 0\n",
    "    end = len(arr)-1\n",
    "    while (end > start):\n",
    "        sum = arr[start] + arr[end]\n",
    "        if sum == target:\n",
    "            return arr[start],arr[end]\n",
    "        elif sum < target:\n",
    "            start +=1\n",
    "        else:\n",
    "            end -=1\n",
    "          \n",
    "\n",
    "output = two_sum(arr, target)\n",
    "print(output)"
   ]
  },
  {
   "cell_type": "code",
   "execution_count": 57,
   "id": "de029c04-1d45-46ff-8761-c07ffc059865",
   "metadata": {},
   "outputs": [
    {
     "name": "stdout",
     "output_type": "stream",
     "text": [
      "Answer is 2\n"
     ]
    }
   ],
   "source": [
    "# Question3: https://leetcode.com/problems/majority-element/description/\n",
    "# using dict >> Time Complexity: O(n) (you traverse array once) >> Space Complexity: O(n) (in worst case, dictionary stores all distinct numbers)\n",
    "# but the space can be reduced to O(1) using Moore's\n",
    "\n",
    "nums = [2,2,1,1,1,2,2]\n",
    "Output = 2\n",
    "\n",
    "frequency = {}\n",
    "for i in nums:\n",
    "    if i in frequency:\n",
    "        frequency[i] +=1\n",
    "    else:\n",
    "        frequency[i] =1\n",
    "    if frequency[i] > len(nums)//2:\n",
    "        print(f\"Answer is {i}\")\n",
    "        break"
   ]
  },
  {
   "cell_type": "code",
   "execution_count": 73,
   "id": "2609e302-5d8c-49d6-974c-72811c21bf79",
   "metadata": {},
   "outputs": [
    {
     "name": "stdout",
     "output_type": "stream",
     "text": [
      "2\n"
     ]
    }
   ],
   "source": [
    "nums = [2,2,1,1,1,2,2]\n",
    "Output = 2\n",
    "\n",
    "freq = 0\n",
    "ans = None\n",
    "for i in nums:\n",
    "    if freq == 0:\n",
    "        ans = i\n",
    "    freq += (1 if ans==i else -1)\n",
    "print(ans)"
   ]
  },
  {
   "cell_type": "code",
   "execution_count": 1,
   "id": "7bf48387-44e2-4d96-8c63-c5088698b317",
   "metadata": {},
   "outputs": [
    {
     "name": "stdout",
     "output_type": "stream",
     "text": [
      "49\n"
     ]
    }
   ],
   "source": [
    "# Question4: https://leetcode.com/problems/container-with-most-water/description/\n",
    "# bruteforce\n",
    "\n",
    "height = [1,8,6,2,5,4,8,3,7]\n",
    "Output = 49\n",
    "\n",
    "def max_water(height):\n",
    "    max_area = 0\n",
    "    for i in range(len(height)):\n",
    "        for j in range(i+1,len(height)):\n",
    "            area = (j-i)*min(height[i],height[j])\n",
    "            max_area = max(area,max_area)\n",
    "    return max_area\n",
    "\n",
    "maxarea = max_water(height)\n",
    "print(maxarea)"
   ]
  },
  {
   "cell_type": "code",
   "execution_count": 3,
   "id": "93c23d92-8acb-46c9-a794-7227ad5e5e99",
   "metadata": {},
   "outputs": [
    {
     "name": "stdout",
     "output_type": "stream",
     "text": [
      "49\n"
     ]
    }
   ],
   "source": [
    "# using 2 pointer\n",
    "\n",
    "height = [1,8,6,2,5,4,8,3,7]\n",
    "Output = 49\n",
    "\n",
    "def max_water(height):\n",
    "    max_area = 0\n",
    "    start = 0\n",
    "    end = len(height)-1\n",
    "    while start < end:\n",
    "        area = min(height[start], height[end])*(end-start)\n",
    "        max_area = max(area, max_area)\n",
    "        if height[start] <= height[end]:\n",
    "            start +=1 \n",
    "        else:\n",
    "            end -=1\n",
    "    return max_area\n",
    "\n",
    "max = max_water(height)\n",
    "print(max)"
   ]
  },
  {
   "cell_type": "code",
   "execution_count": 5,
   "id": "ff47e818-6329-43f3-a3da-04fab7bb825f",
   "metadata": {},
   "outputs": [
    {
     "data": {
      "text/plain": [
       "[24, 12, 8, 6]"
      ]
     },
     "execution_count": 5,
     "metadata": {},
     "output_type": "execute_result"
    }
   ],
   "source": [
    "# https://leetcode.com/problems/product-of-array-except-self/description/\n",
    "# bruteforce\n",
    "\n",
    "arr = [1,2,3,4]\n",
    "new_arr = []\n",
    "for i in range(len(arr)):\n",
    "    prod = 1\n",
    "    for j in range(len(arr)):\n",
    "        if j != i:\n",
    "            prod *= arr[j]\n",
    "    new_arr.append(prod)\n",
    "\n",
    "new_arr"
   ]
  },
  {
   "cell_type": "code",
   "execution_count": 24,
   "id": "e8d3e6e1-eaa5-42a0-8fb5-6a1bab5f2339",
   "metadata": {},
   "outputs": [
    {
     "name": "stdout",
     "output_type": "stream",
     "text": [
      "5\n"
     ]
    }
   ],
   "source": [
    "# Binary Search\n",
    "# Binary search is applied in Dictionary where we randomly open any page and then based on it we decide whether we should search on the left or right \n",
    "# Binary search can only be applied in sorted array\n",
    "\n",
    "\n",
    "# Find a target in the array given\n",
    "arr = [-1,3,5,7,9,12,14]\n",
    "target = 12\n",
    "\n",
    "def find_num(arr, target):\n",
    "    start=0\n",
    "    end=len(arr)-1\n",
    "    while start <= end:\n",
    "        mid=(start+end)//2\n",
    "        if arr[mid] == target:\n",
    "            return mid\n",
    "        elif arr[mid] < target:\n",
    "            start = mid+1\n",
    "        else:\n",
    "            end = mid-1\n",
    "    return -1\n",
    "\n",
    "ans = find_num(arr, target)\n",
    "print(ans)"
   ]
  },
  {
   "cell_type": "code",
   "execution_count": 30,
   "id": "d4a8b9d5-a6d5-4051-9109-bbb3d20e253b",
   "metadata": {},
   "outputs": [
    {
     "name": "stdout",
     "output_type": "stream",
     "text": [
      "left array is sorted\n",
      "6\n"
     ]
    }
   ],
   "source": [
    "# Binary search in the rotated sorted array\n",
    "\n",
    "arr = [4, 5, 6, 7, 8, 9, 1, 2, 3]\n",
    "target = 1\n",
    "\n",
    "def find_num(arr, target):\n",
    "    start=0\n",
    "    end=len(arr)-1\n",
    "    while start<=end:\n",
    "        mid=(start+end)//2\n",
    "        if arr[mid] == target:\n",
    "            return mid\n",
    "        elif arr[start] <= arr[mid]:\n",
    "            print(\"left array is sorted\")\n",
    "            if arr[start] <= target <= arr[mid]:\n",
    "                end = mid-1\n",
    "            else:\n",
    "                start = mid+1\n",
    "        else:\n",
    "            print(\"Right array is sorted\")\n",
    "            if arr[mid] <= target <= arr[end]:\n",
    "                start = mid+1\n",
    "            else:\n",
    "                end = mid-1\n",
    "    return -1\n",
    "\n",
    "ans = find_num(arr, target)\n",
    "print(ans)"
   ]
  },
  {
   "cell_type": "code",
   "execution_count": 52,
   "id": "84335e3f-ec0d-4dfb-a3d6-4dd308d56588",
   "metadata": {},
   "outputs": [
    {
     "name": "stdout",
     "output_type": "stream",
     "text": [
      "peak is right side\n",
      "5\n",
      "peak is right side\n",
      "7\n",
      "9\n"
     ]
    }
   ],
   "source": [
    "# Find the peak element in the mountain array\n",
    "arr = [2,3,5,7,9,1]\n",
    "\n",
    "def find_num(arr):\n",
    "    start = 1\n",
    "    end = len(arr)-2\n",
    "    while(start<=end):\n",
    "        mid=(start+end)//2\n",
    "        if arr[mid-1] < arr[mid] > arr[mid+1]:\n",
    "            return arr[mid]\n",
    "        elif arr[mid-1]<arr[mid]:\n",
    "            print(\"peak is right side\")\n",
    "            print(arr[mid])\n",
    "            start = mid+1\n",
    "        else:\n",
    "            print(\"peak is left side\")\n",
    "            print(arr[mid])\n",
    "            end = mid-1\n",
    "\n",
    "ans = find_num(arr)\n",
    "print(ans)"
   ]
  },
  {
   "cell_type": "code",
   "execution_count": 74,
   "id": "923fc265-c450-4286-b087-b128da8295af",
   "metadata": {},
   "outputs": [
    {
     "name": "stdout",
     "output_type": "stream",
     "text": [
      "4\n",
      "element is on the right side\n",
      "9\n",
      "element is on the right side\n",
      "10\n",
      "10\n"
     ]
    }
   ],
   "source": [
    "# Find the single element in the sorte array\n",
    "arr = [1,1,3,3,4,4,9,9,10,11,11]\n",
    "def find_num(arr):\n",
    "    start = 1\n",
    "    end = len(arr)-2\n",
    "    while(start<=end):\n",
    "        mid = (start+end)//2\n",
    "        print(arr[mid])\n",
    "        if arr[mid-1] != arr[mid] and arr[mid+1] != arr[mid]:\n",
    "            return arr[mid]\n",
    "        if mid%2==0:\n",
    "            if arr[mid-1] == arr[mid]:\n",
    "                print(\"element is on the right side\")\n",
    "                start = mid+1\n",
    "            else:\n",
    "                print(\"element is on the left side\")\n",
    "                end = mid-1\n",
    "        else:\n",
    "            if arr[mid+1] == arr[mid]:\n",
    "                print(\"element is on the left side\")\n",
    "                end=mid-1\n",
    "            else:\n",
    "                print(\"element is on the right side\")\n",
    "                start = mid+1\n",
    "            \n",
    "        \n",
    "\n",
    "ans = find_num(arr)\n",
    "print(ans)"
   ]
  },
  {
   "cell_type": "code",
   "execution_count": 80,
   "id": "7239ff0b-529f-487d-8c12-2d5f0525e8bd",
   "metadata": {},
   "outputs": [
    {
     "name": "stdout",
     "output_type": "stream",
     "text": [
      "element is on the right side\n",
      "element is on the right side\n",
      "10\n"
     ]
    }
   ],
   "source": [
    "# Find the single element in the sorte array\n",
    "arr = [1,1,3,3,4,4,9,9,10]\n",
    "def find_num(arr):\n",
    "    start = 0\n",
    "    end = len(arr)-1\n",
    "    while(start<end):\n",
    "        mid = (start+end)//2\n",
    "        if mid%2==1:\n",
    "            mid-=1\n",
    "        if arr[mid+1] == arr[mid]:\n",
    "            print(\"element is on the right side\")\n",
    "            start = mid+2\n",
    "        else:\n",
    "            print(\"element is on the left side\")\n",
    "            end = mid\n",
    "    return arr[start]\n",
    "        \n",
    "        \n",
    "\n",
    "ans = find_num(arr)\n",
    "print(ans)"
   ]
  },
  {
   "cell_type": "code",
   "execution_count": 92,
   "id": "bff0010d-5203-4588-97b7-85fd0d236788",
   "metadata": {},
   "outputs": [
    {
     "name": "stdout",
     "output_type": "stream",
     "text": [
      "[1, 2, 3, 4, 6, 8, 9]\n"
     ]
    }
   ],
   "source": [
    "# bubble sort\n",
    "arr = [9,1,8,4,3,6,2]\n",
    "\n",
    "def bubble_sort(arr):\n",
    "    for i in range(len(arr)-1):\n",
    "        for j in range(len(arr)-i-1):\n",
    "            if arr[j] > arr[j+1]:\n",
    "                arr[j],arr[j+1]=arr[j+1],arr[j]\n",
    "    return arr\n",
    "\n",
    "sorted_array = bubble_sort(arr)\n",
    "print(sorted_array)"
   ]
  },
  {
   "cell_type": "code",
   "execution_count": 110,
   "id": "4c2d937c-9235-4cde-a0d5-c62e78842601",
   "metadata": {},
   "outputs": [
    {
     "name": "stdout",
     "output_type": "stream",
     "text": [
      "[1, 2, 3, 4, 6, 8, 9]\n"
     ]
    }
   ],
   "source": [
    "# selection sort\n",
    "arr = [9,1,8,4,3,6,2]\n",
    "\n",
    "def selection_sort(arr):\n",
    "    for i in range(len(arr)-1):\n",
    "        smallest = i\n",
    "        for j in range(i+1,len(arr)):\n",
    "            if arr[j] < arr[smallest]:\n",
    "                smallest = j\n",
    "        arr[smallest],arr[i] = arr[i],arr[smallest]\n",
    "    return arr\n",
    "\n",
    "sorted_array = selection_sort(arr)\n",
    "print(sorted_array)"
   ]
  },
  {
   "cell_type": "code",
   "execution_count": null,
   "id": "f20947f4-cd1d-42b5-b637-506c843ffdc9",
   "metadata": {},
   "outputs": [],
   "source": [
    "# insertion sort"
   ]
  },
  {
   "cell_type": "code",
   "execution_count": 112,
   "id": "662b5c3c-caed-4df7-9d0c-4e29e674c097",
   "metadata": {},
   "outputs": [
    {
     "data": {
      "text/plain": [
       "[0, 0, 0, 1, 1, 1, 2, 2, 2, 2]"
      ]
     },
     "execution_count": 112,
     "metadata": {},
     "output_type": "execute_result"
    }
   ],
   "source": [
    "arr = [0,1,2,0,1,0,1,2,0,2]\n",
    "dict = {}\n",
    "sorted = []\n",
    "for i in arr:\n",
    "    if i not in dict:\n",
    "        dict[i]=i\n",
    "    else:\n",
    "        dict[i]+=1\n",
    "for i in range(dict[0]):\n",
    "    sorted.append(0)\n",
    "for i in range(dict[1]):\n",
    "    sorted.append(1)\n",
    "for i in range(dict[2]):\n",
    "    sorted.append(2)\n",
    "sorted"
   ]
  },
  {
   "cell_type": "code",
   "execution_count": null,
   "id": "7583b125-9fb7-408a-9342-f6980f0ff6d8",
   "metadata": {},
   "outputs": [],
   "source": [
    "# Dutch National Flag Algorithm"
   ]
  },
  {
   "cell_type": "code",
   "execution_count": 3,
   "id": "e8b23def-accb-480d-a264-5a91613f0a96",
   "metadata": {},
   "outputs": [
    {
     "name": "stdout",
     "output_type": "stream",
     "text": [
      "[1, 2, 2, 3, 5, 6, 7]\n"
     ]
    }
   ],
   "source": [
    "# https://leetcode.com/problems/merge-sorted-array/description/\n",
    "\n",
    "nums1 = [1,2,3,0,0,0,0]\n",
    "m=3\n",
    "nums2 = [2,5,6,7]\n",
    "n=4\n",
    "\n",
    "i = m-1\n",
    "j = n-1\n",
    "index = m+n-1\n",
    "\n",
    "while (i>=0 and j>=0):\n",
    "    if nums1[i] >= nums2[j]:\n",
    "        nums1[index] = nums1[i]\n",
    "        i -= 1\n",
    "    else:\n",
    "        nums1[index] = nums2[j]\n",
    "        j -= 1\n",
    "    index -= 1\n",
    "while j >= 0:\n",
    "    nums1[index] = nums2[j]\n",
    "    j -= 1\n",
    "    index -= 1\n",
    "print(nums1)\n",
    "    "
   ]
  },
  {
   "cell_type": "code",
   "execution_count": 25,
   "id": "0670c4c7-d456-4c84-a540-b5b9df893996",
   "metadata": {},
   "outputs": [
    {
     "name": "stdout",
     "output_type": "stream",
     "text": [
      "[1, 2, 3, 6, 5, 8, 9]\n"
     ]
    }
   ],
   "source": [
    "# https://leetcode.com/problems/next-permutation/description/\n",
    "\n",
    "nums = [1,2,3,5,9,8,6]\n",
    "# output = [1, 2, 3, 6, 5, 8, 9]\n",
    "\n",
    "pivot_index = -1\n",
    "for i in range(len(nums)-1,0,-1):\n",
    "    if nums[i-1] < nums[i]:\n",
    "        pivot_index = i-1\n",
    "        break\n",
    "\n",
    "if nums[pivot_index] < nums[-1]:\n",
    "    nums[pivot_index],nums[-1] = nums[-1],nums[pivot_index]\n",
    "\n",
    "i = pivot_index+1\n",
    "j = len(nums)-1\n",
    "\n",
    "while (i<=j):\n",
    "    nums[i],nums[j] = nums[j],nums[i]\n",
    "    i += 1\n",
    "    j -= 1\n",
    "\n",
    "print(nums)\n"
   ]
  },
  {
   "cell_type": "code",
   "execution_count": 75,
   "id": "a114b94f-b584-47e0-b0f7-0af8c141f5c5",
   "metadata": {},
   "outputs": [
    {
     "data": {
      "text/plain": [
       "True"
      ]
     },
     "execution_count": 75,
     "metadata": {},
     "output_type": "execute_result"
    }
   ],
   "source": [
    "# https://leetcode.com/problems/valid-palindrome/description/\n",
    "\n",
    "s = \"A man, a plan, a canal: Panama\"\n",
    "\n",
    "i,j = 0,len(s)-1\n",
    "palindrome = True\n",
    "while (i<=j):\n",
    "    if not s[i].isalnum():\n",
    "        i += 1\n",
    "        continue\n",
    "\n",
    "    if not s[j].isalnum():\n",
    "        j -= 1\n",
    "        continue\n",
    "    \n",
    "    if s[i].lower() != s[j].lower():\n",
    "        palindrome = False\n",
    "        break\n",
    "    i += 1\n",
    "    j -= 1\n",
    "\n",
    "palindrome"
   ]
  },
  {
   "cell_type": "code",
   "execution_count": 67,
   "id": "fb3fc4b9-5dd9-4182-ac5f-d221f41df81a",
   "metadata": {},
   "outputs": [
    {
     "data": {
      "text/plain": [
       "True"
      ]
     },
     "execution_count": 67,
     "metadata": {},
     "output_type": "execute_result"
    }
   ],
   "source": [
    "s = \"A man, a plan, a canal: Panama\"\n",
    "\n",
    "x = [i.lower() for i in s if i.isalnum()]\n",
    "s = \"\".join(x)\n",
    "\n",
    "True if s == s[::-1] else False"
   ]
  },
  {
   "cell_type": "code",
   "execution_count": 77,
   "id": "e41f0607-c0f2-4c73-a876-170fbbc2af77",
   "metadata": {},
   "outputs": [
    {
     "data": {
      "text/plain": [
       "'dab'"
      ]
     },
     "execution_count": 77,
     "metadata": {},
     "output_type": "execute_result"
    }
   ],
   "source": [
    "# https://leetcode.com/problems/remove-all-occurrences-of-a-substring/description/\n",
    "# on my own\n",
    "\n",
    "s = \"daabcbaabcbc\"\n",
    "part = \"abc\"\n",
    "# Output: \"dab\"\n",
    "\n",
    "start = 0\n",
    "end = start + len(part)\n",
    "\n",
    "while part in s:\n",
    "    if s[start:end] == part:\n",
    "        s = s[:start] + s[end:]\n",
    "        start = 0\n",
    "        end  = start + len(part)\n",
    "    else:\n",
    "        start += 1\n",
    "        end += 1\n",
    "s"
   ]
  },
  {
   "cell_type": "code",
   "execution_count": null,
   "id": "a292ac37-fcce-43a6-bc5a-4a70f2fc41e5",
   "metadata": {},
   "outputs": [],
   "source": [
    "# using replace function\n",
    "\n",
    "s = \"daabcbaabcbc\"\n",
    "part = \"abc\"\n",
    "\n",
    "while part in s:\n",
    "    s = s.replace(part, \"\")\n",
    "\n",
    "print(s)  # \"dab\"\n"
   ]
  },
  {
   "cell_type": "code",
   "execution_count": 85,
   "id": "71a813d2-7660-4a2a-8662-c634f30078b2",
   "metadata": {},
   "outputs": [
    {
     "data": {
      "text/plain": [
       "'dab'"
      ]
     },
     "execution_count": 85,
     "metadata": {},
     "output_type": "execute_result"
    }
   ],
   "source": [
    "# using stack\n",
    "\n",
    "s = \"daabcbaabcbc\"\n",
    "part = \"abc\"\n",
    "stack = []\n",
    "\n",
    "for i in s:\n",
    "    stack.append(i)\n",
    "    if len(stack) >= len(part) and \"\".join(stack[-len(part):]) == part:\n",
    "        for i in range(len(part)):\n",
    "            stack.pop()\n",
    "\"\".join(stack)"
   ]
  },
  {
   "cell_type": "code",
   "execution_count": 37,
   "id": "11417dbf-f0e5-44e0-a700-4cd345cc97b4",
   "metadata": {},
   "outputs": [
    {
     "name": "stdout",
     "output_type": "stream",
     "text": [
      "1\n",
      "2\n",
      "3\n",
      "4\n",
      "5\n",
      "6\n",
      "['a', 'b', 2, 'c', 3, 'd']\n"
     ]
    }
   ],
   "source": [
    "arr = [\"a\",\"b\",\"b\",\"c\",\"c\",\"c\",\"d\"]\n",
    "\n",
    "count = 1\n",
    "index = 0\n",
    "for i in range(1, len(arr)):\n",
    "    print(i)\n",
    "    if arr[i-1] == arr[i]:\n",
    "        count += 1\n",
    "    else:\n",
    "        arr[index] = arr[i-1]\n",
    "        index += 1\n",
    "        if count > 1:\n",
    "            arr[index] = count\n",
    "            index += 1\n",
    "            count = 1\n",
    "# Fix: handle the last group\n",
    "arr[index] = arr[-1]\n",
    "index += 1\n",
    "if count > 1:\n",
    "    arr[index] = count\n",
    "    index += 1\n",
    "print(arr[:index])"
   ]
  },
  {
   "cell_type": "code",
   "execution_count": 49,
   "id": "fe1ea8cd-7d6c-4e4b-9c07-b916b154f521",
   "metadata": {},
   "outputs": [
    {
     "data": {
      "text/plain": [
       "['a', 'b', '2', 'c', '3', 'd']"
      ]
     },
     "execution_count": 49,
     "metadata": {},
     "output_type": "execute_result"
    }
   ],
   "source": [
    "arr = [\"a\",\"b\",\"b\",\"c\",\"c\",\"c\",\"d\"]\n",
    "i = 0\n",
    "index = 0\n",
    "while i < len(arr):\n",
    "    char = arr[i]\n",
    "    count = 0\n",
    "    while (i<len(arr) and char == arr[i]):\n",
    "        count += 1\n",
    "        i += 1\n",
    "    arr[index] = arr[i-1]\n",
    "    index += 1\n",
    "    if count > 1:\n",
    "        for j in str(count):\n",
    "            arr[index] = j\n",
    "            index += 1\n",
    "\n",
    "arr[:index]"
   ]
  },
  {
   "cell_type": "code",
   "execution_count": 83,
   "id": "bba00f76-1697-4637-bdda-efdc6f1c47fd",
   "metadata": {},
   "outputs": [
    {
     "name": "stdout",
     "output_type": "stream",
     "text": [
      "0 False\n",
      "1 False\n",
      "2 True\n",
      "3 True\n",
      "4 False\n",
      "5 True\n",
      "6 False\n",
      "7 True\n",
      "8 False\n",
      "9 False\n"
     ]
    }
   ],
   "source": [
    "# check if the number is prime\n",
    "\n",
    "def is_prime(n):\n",
    "    if n < 2:\n",
    "        return False\n",
    "    for i in range(2, int(n**0.5)+1):\n",
    "        if n%i == 0:\n",
    "            return False\n",
    "    return True\n",
    "    \n",
    "for i in range(10):\n",
    "    print(i,is_prime(i))\n",
    "\n",
    "\n",
    "            "
   ]
  },
  {
   "cell_type": "code",
   "execution_count": 129,
   "id": "e92cbddb-4788-47a9-877d-ac826657d937",
   "metadata": {},
   "outputs": [
    {
     "name": "stdout",
     "output_type": "stream",
     "text": [
      "[2, 3, 5, 7, 11, 13, 17, 19, 23, 29, 31, 37, 41, 43, 47]\n"
     ]
    }
   ],
   "source": [
    "# Find out all the prime numbers less than 50\n",
    "\n",
    "def sieve(n):\n",
    "    primes = [True] * n\n",
    "    primes[:2] = [False, False]\n",
    "    for i in range(int(n**0.5)+1):\n",
    "        if primes[i] == True:\n",
    "            for j in range(i*i, n, i):\n",
    "                primes[j] = False\n",
    "    return [i for i, is_prime in enumerate(primes) if is_prime]\n",
    "\n",
    "# Primes less than 50\n",
    "print(sieve(50))\n"
   ]
  }
 ],
 "metadata": {
  "kernelspec": {
   "display_name": "Python 3 (ipykernel)",
   "language": "python",
   "name": "python3"
  },
  "language_info": {
   "codemirror_mode": {
    "name": "ipython",
    "version": 3
   },
   "file_extension": ".py",
   "mimetype": "text/x-python",
   "name": "python",
   "nbconvert_exporter": "python",
   "pygments_lexer": "ipython3",
   "version": "3.12.4"
  }
 },
 "nbformat": 4,
 "nbformat_minor": 5
}
