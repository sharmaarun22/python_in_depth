{
 "cells": [
  {
   "cell_type": "code",
   "execution_count": 11,
   "id": "a494954f-4098-495c-9e0b-65db8f57ad46",
   "metadata": {},
   "outputs": [
    {
     "name": "stdout",
     "output_type": "stream",
     "text": [
      "bab\n",
      "bb\n",
      "a\n",
      "a\n"
     ]
    }
   ],
   "source": [
    "def longest_palindromic_substring(s):\n",
    "    def expand_from_center(left, right):\n",
    "        # Expand while the characters on both ends match and indices are within bounds\n",
    "        while left >= 0 and right < len(s) and s[left] == s[right]:\n",
    "            left -= 1\n",
    "            right += 1\n",
    "        # Return the palindrome substring\n",
    "        return s[left + 1:right]\n",
    "\n",
    "    # Initialize the longest palindrome\n",
    "    longest = \"\"\n",
    "\n",
    "    for i in range(len(s)):\n",
    "        # Odd-length palindrome (centered at one character)\n",
    "        odd_palindrome = expand_from_center(i, i)\n",
    "        # Even-length palindrome (centered between two characters)\n",
    "        even_palindrome = expand_from_center(i, i + 1)\n",
    "        # Update the longest palindrome if a longer one is found\n",
    "        longest = max(longest, odd_palindrome, even_palindrome, key=len)\n",
    "\n",
    "    return longest\n",
    "\n",
    "# Test cases\n",
    "s1 = \"babad\"\n",
    "print(longest_palindromic_substring(s1))  # Output: \"bab\" or \"aba\"\n",
    "\n",
    "s2 = \"cbbd\"\n",
    "print(longest_palindromic_substring(s2))  # Output: \"bb\"\n",
    "\n",
    "s3 = \"a\"\n",
    "print(longest_palindromic_substring(s3))  # Output: \"a\"\n",
    "\n",
    "s4 = \"ac\"\n",
    "print(longest_palindromic_substring(s4))  # Output: \"a\" or \"c\""
   ]
  },
  {
   "cell_type": "code",
   "execution_count": 19,
   "id": "405cf293-0467-46b5-b0a6-d8522fcc26b7",
   "metadata": {},
   "outputs": [
    {
     "data": {
      "text/plain": [
       "['a', 'aa', 'a', 'aaa', 'aa', 'a']"
      ]
     },
     "execution_count": 19,
     "metadata": {},
     "output_type": "execute_result"
    }
   ],
   "source": [
    "# Count All Palindromic Substrings\n",
    "s = \"abc\"\n",
    "s = \"aaa\"\n",
    "palindromes = []\n",
    "\n",
    "def expand_from_center(s,i,j):\n",
    "    while i>=0 and j<len(s) and s[i] == s[j]:\n",
    "        palindromes.append(s[i:j+1])\n",
    "        i -= 1\n",
    "        j += 1\n",
    "\n",
    "for i in range(len(s)):\n",
    "    expand_from_center(s,i,i)\n",
    "    expand_from_center(s,i,i+1)\n",
    "\n",
    "palindromes"
   ]
  },
  {
   "cell_type": "code",
   "execution_count": 55,
   "id": "746d7593-0a53-43c1-a322-2e92ff1402f2",
   "metadata": {},
   "outputs": [
    {
     "data": {
      "text/plain": [
       "'aba'"
      ]
     },
     "execution_count": 55,
     "metadata": {},
     "output_type": "execute_result"
    }
   ],
   "source": [
    "# Find the longest palindromic prefix in a string.\n",
    "s = \"abacdfgdcaba\"\n",
    "longest = \"\"\n",
    "def is_palindrome(x):\n",
    "    if x == x[::-1]:\n",
    "        return True\n",
    "    else:\n",
    "        return False\n",
    "\n",
    "for i in range(len(s)):\n",
    "    if is_palindrome(s[:i+1]):\n",
    "        longest = max(longest, s[:i+1], key = len)\n",
    "longest"
   ]
  }
 ],
 "metadata": {
  "kernelspec": {
   "display_name": "Python 3 (ipykernel)",
   "language": "python",
   "name": "python3"
  },
  "language_info": {
   "codemirror_mode": {
    "name": "ipython",
    "version": 3
   },
   "file_extension": ".py",
   "mimetype": "text/x-python",
   "name": "python",
   "nbconvert_exporter": "python",
   "pygments_lexer": "ipython3",
   "version": "3.12.4"
  }
 },
 "nbformat": 4,
 "nbformat_minor": 5
}
