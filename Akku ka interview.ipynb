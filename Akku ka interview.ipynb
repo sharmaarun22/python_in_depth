{
 "cells": [
  {
   "cell_type": "code",
   "execution_count": 1,
   "metadata": {},
   "outputs": [
    {
     "name": "stdout",
     "output_type": "stream",
     "text": [
      "[1, 4, 9, 16, 25]\n"
     ]
    }
   ],
   "source": [
    "number = [1,2,3,4,5]\n",
    "\n",
    "def square(number):\n",
    "    return number ** 2\n",
    "    \n",
    "    \n",
    "square_root = map(square, number)\n",
    "print(list(square_root))"
   ]
  },
  {
   "cell_type": "code",
   "execution_count": 5,
   "metadata": {},
   "outputs": [
    {
     "data": {
      "text/plain": [
       "[1, 4, 9, 16, 25]"
      ]
     },
     "execution_count": 5,
     "metadata": {},
     "output_type": "execute_result"
    }
   ],
   "source": [
    "number = [1,2,3,4,5]\n",
    "l1 = []\n",
    "for i in number:\n",
    "    if (i==0):\n",
    "    l1.append(i*i)\n",
    "l1"
   ]
  },
  {
   "cell_type": "code",
   "execution_count": 4,
   "metadata": {},
   "outputs": [
    {
     "data": {
      "text/plain": [
       "[1, 4, 9, 16, 25]"
      ]
     },
     "execution_count": 4,
     "metadata": {},
     "output_type": "execute_result"
    }
   ],
   "source": [
    "number = [1,2,3,4,5]\n",
    "l1 = [x*x for x in number]"
   ]
  },
  {
   "cell_type": "code",
   "execution_count": 8,
   "metadata": {},
   "outputs": [
    {
     "data": {
      "text/plain": [
       "[2, 4]"
      ]
     },
     "execution_count": 8,
     "metadata": {},
     "output_type": "execute_result"
    }
   ],
   "source": [
    "# return even no.s from the lst\n",
    "number = [1,2,3,4,5]\n",
    "[i for i in number if i%2==0]"
   ]
  },
  {
   "cell_type": "code",
   "execution_count": 9,
   "metadata": {},
   "outputs": [
    {
     "data": {
      "text/plain": [
       "[False, True, False, True, False]"
      ]
     },
     "execution_count": 9,
     "metadata": {},
     "output_type": "execute_result"
    }
   ],
   "source": [
    "# if number is even return True else False\n",
    "number = [1,2,3,4,5]\n",
    "[True if i%2==0 else False for i in number]"
   ]
  },
  {
   "cell_type": "code",
   "execution_count": 13,
   "metadata": {},
   "outputs": [
    {
     "data": {
      "text/plain": [
       "[1, 2, 3, 4, 5, 6, 7, 8, 9]"
      ]
     },
     "execution_count": 13,
     "metadata": {},
     "output_type": "execute_result"
    }
   ],
   "source": [
    "# print the no.s in a seq\n",
    "x = [[1,2,3], [4,5,6], [7,8,9]]\n",
    "l1 = []\n",
    "for i in x:\n",
    "    for j in i:\n",
    "        l1.append(j)\n",
    "l1"
   ]
  },
  {
   "cell_type": "code",
   "execution_count": 1,
   "metadata": {},
   "outputs": [
    {
     "data": {
      "text/plain": [
       "[1, 2, 3, 4, 5, 6, 7, 8, 9]"
      ]
     },
     "execution_count": 1,
     "metadata": {},
     "output_type": "execute_result"
    }
   ],
   "source": [
    "x = [[1,2,3], [4,5,6], [7,8,9]]\n",
    "[j for i in x for j in i]"
   ]
  },
  {
   "cell_type": "code",
   "execution_count": 21,
   "metadata": {},
   "outputs": [
    {
     "data": {
      "text/plain": [
       "[5, 5, 3, 5, 4, 4, 3]"
      ]
     },
     "execution_count": 21,
     "metadata": {},
     "output_type": "execute_result"
    }
   ],
   "source": [
    "# create a list of integers which specify the length of each word in a certain sentence,\n",
    "# but only if the word is not the word \"the\".\n",
    "# split - it splits every word in the string and saves it in a list\n",
    "\n",
    "sentence = \"the quick brown x jumps over the lazy dog\"\n",
    "x = sentence.split(\" \")\n",
    "[len(i) r i in x if i!=\"the\"]\n"
   ]
  },
  {
   "cell_type": "code",
   "execution_count": 25,
   "metadata": {},
   "outputs": [
    {
     "data": {
      "text/plain": [
       "54321"
      ]
     },
     "execution_count": 25,
     "metadata": {},
     "output_type": "execute_result"
    }
   ],
   "source": [
    "# *\n",
    "# **\n",
    "# ***\n",
    "# ****\n",
    "# *****\n",
    "\n",
    "for i in range(6):\n",
    "    print(i*\"*\")"
   ]
  },
  {
   "cell_type": "code",
   "execution_count": null,
   "metadata": {},
   "outputs": [],
   "source": [
    "1\n",
    "21\n",
    "321\n",
    "4321\n",
    "54321"
   ]
  },
  {
   "cell_type": "code",
   "execution_count": 50,
   "metadata": {},
   "outputs": [
    {
     "name": "stdout",
     "output_type": "stream",
     "text": [
      "\n",
      "1\n",
      "21\n",
      "321\n",
      "4321\n",
      "54321\n"
     ]
    }
   ],
   "source": [
    "for i in range(1,7):\n",
    "    for j in reversed(range(1,i)):\n",
    "        print(j, end=\"\")\n",
    "    print(\"\")"
   ]
  },
  {
   "cell_type": "code",
   "execution_count": null,
   "metadata": {},
   "outputs": [],
   "source": [
    "1, 2"
   ]
  },
  {
   "cell_type": "code",
   "execution_count": 44,
   "metadata": {},
   "outputs": [
    {
     "name": "stdout",
     "output_type": "stream",
     "text": [
      "4\n",
      "3\n",
      "2\n",
      "1\n",
      "0\n"
     ]
    }
   ],
   "source": [
    "for j in reversed(range(5)):\n",
    "    print(j)"
   ]
  },
  {
   "cell_type": "code",
   "execution_count": 56,
   "metadata": {},
   "outputs": [
    {
     "data": {
      "text/plain": [
       "54321"
      ]
     },
     "execution_count": 56,
     "metadata": {},
     "output_type": "execute_result"
    }
   ],
   "source": [
    "x = 12345\n",
    "x = str(x)\n",
    "x = x[::-1]\n",
    "int(x)"
   ]
  },
  {
   "cell_type": "code",
   "execution_count": 59,
   "metadata": {},
   "outputs": [
    {
     "data": {
      "text/plain": [
       "[1, 4, 9, 16, 25]"
      ]
     },
     "execution_count": 59,
     "metadata": {},
     "output_type": "execute_result"
    }
   ],
   "source": [
    "number = [1,2,3,4,5]\n",
    "list(map(lambda x: x*x, number))"
   ]
  },
  {
   "cell_type": "code",
   "execution_count": 2,
   "metadata": {},
   "outputs": [
    {
     "data": {
      "text/plain": [
       "[False, True, False, True, False]"
      ]
     },
     "execution_count": 2,
     "metadata": {},
     "output_type": "execute_result"
    }
   ],
   "source": [
    "# if number is even return True else False\n",
    "number = [1,2,3,4,5]\n",
    "list(map(lambda x: True if x%2==0 else False, number))"
   ]
  },
  {
   "cell_type": "code",
   "execution_count": 61,
   "metadata": {},
   "outputs": [
    {
     "data": {
      "text/plain": [
       "[2, 4]"
      ]
     },
     "execution_count": 61,
     "metadata": {},
     "output_type": "execute_result"
    }
   ],
   "source": [
    "# return the even numbers\n",
    "number = [1,2,3,4,5]\n",
    "list(filter(lambda x: x%2==0, number))"
   ]
  },
  {
   "cell_type": "code",
   "execution_count": 8,
   "metadata": {},
   "outputs": [
    {
     "name": "stdout",
     "output_type": "stream",
     "text": [
      "Enter the number: 4\n",
      "not prime\n"
     ]
    }
   ],
   "source": [
    "# find if the number is prime\n",
    "num = int(input(\"Enter the number: \"))\n",
    "l1 = list(filter(lambda x: num%x==0, range(2, int(num/2)+1)))\n",
    "if len(l1)==0 and num not in [0,1]:\n",
    "    print(\"prime\")\n",
    "else:\n",
    "    print(\"not prime\")"
   ]
  },
  {
   "cell_type": "code",
   "execution_count": 17,
   "metadata": {},
   "outputs": [
    {
     "name": "stdout",
     "output_type": "stream",
     "text": [
      "123.345.567.23 0 14\n",
      "23.58.56.98 20 31\n"
     ]
    }
   ],
   "source": [
    "# Regular Expressions\n",
    "import re\n",
    "x = \"123.345.567.23 Arun 23.58.56.98 Akku 496lsdfghkjdjfhdf\"\n",
    "matcher = re.finditer(\"[\\d]{1,3}.[\\d]{1,3}.[\\d]{1,3}.[\\d]{1,3}\", x)\n",
    "for match in matcher:\n",
    "    print(match.group())\n",
    "\n"
   ]
  },
  {
   "cell_type": "code",
   "execution_count": 9,
   "metadata": {},
   "outputs": [
    {
     "data": {
      "text/plain": [
       "{'ABC': '123', 'DEF': '111', 'XYZ': '121', 'P': '555'}"
      ]
     },
     "execution_count": 9,
     "metadata": {},
     "output_type": "execute_result"
    }
   ],
   "source": [
    "import re\n",
    "dict1 = {}\n",
    "x = \"ABC:123_DEF:111_XYZ:121_P:555\"\n",
    "key_matcher = re.finditer(\"[\\d]{1,3}\", x)\n",
    "value_matcher = re.finditer('[A-Z]{1,3}', x)\n",
    "key_list = [key.group() for key in key_matcher]\n",
    "value_list = [value.group() for value in value_matcher]\n",
    "for key, value in zip(key_list, value_list):\n",
    "    dict1[value] = key\n",
    "dict1"
   ]
  },
  {
   "cell_type": "code",
   "execution_count": 10,
   "metadata": {},
   "outputs": [
    {
     "ename": "NameError",
     "evalue": "name 'dict2' is not defined",
     "output_type": "error",
     "traceback": [
      "\u001b[1;31m---------------------------------------------------------------------------\u001b[0m",
      "\u001b[1;31mNameError\u001b[0m                                 Traceback (most recent call last)",
      "\u001b[1;32m<ipython-input-10-46c77afc4c13>\u001b[0m in \u001b[0;36m<module>\u001b[1;34m()\u001b[0m\n\u001b[1;32m----> 1\u001b[1;33m \u001b[1;32mif\u001b[0m \u001b[0mlen\u001b[0m\u001b[1;33m(\u001b[0m\u001b[0mdict1\u001b[0m\u001b[1;33m)\u001b[0m\u001b[1;33m==\u001b[0m\u001b[0mlen\u001b[0m\u001b[1;33m(\u001b[0m\u001b[0mdict2\u001b[0m\u001b[1;33m)\u001b[0m\u001b[1;33m:\u001b[0m\u001b[1;33m\u001b[0m\u001b[0m\n\u001b[0m\u001b[0;32m      2\u001b[0m     \u001b[1;32mfor\u001b[0m \u001b[0mi\u001b[0m \u001b[1;32min\u001b[0m \u001b[0mdict1\u001b[0m\u001b[1;33m.\u001b[0m\u001b[0mitems\u001b[0m\u001b[1;33m(\u001b[0m\u001b[1;33m)\u001b[0m\u001b[1;33m:\u001b[0m\u001b[1;33m\u001b[0m\u001b[0m\n\u001b[0;32m      3\u001b[0m         \u001b[1;32mif\u001b[0m \u001b[0mi\u001b[0m \u001b[1;32mnot\u001b[0m \u001b[1;32min\u001b[0m \u001b[0mdict2\u001b[0m\u001b[1;33m.\u001b[0m\u001b[0mitems\u001b[0m\u001b[1;33m(\u001b[0m\u001b[1;33m)\u001b[0m\u001b[1;33m:\u001b[0m\u001b[1;33m\u001b[0m\u001b[0m\n\u001b[0;32m      4\u001b[0m             \u001b[0mprint\u001b[0m\u001b[1;33m(\u001b[0m\u001b[1;34m\"not equal\"\u001b[0m\u001b[1;33m)\u001b[0m\u001b[1;33m\u001b[0m\u001b[0m\n\u001b[0;32m      5\u001b[0m             \u001b[1;32mbreak\u001b[0m\u001b[1;33m\u001b[0m\u001b[0m\n",
      "\u001b[1;31mNameError\u001b[0m: name 'dict2' is not defined"
     ]
    }
   ],
   "source": [
    "if len(dict1)==len(dict2):\n",
    "    for i in dict1.items():\n",
    "        if i not in dict2.items():\n",
    "            print(\"not equal\")\n",
    "            break\n",
    "        else:\n",
    "            print(\"equal\")\n",
    "else:\n",
    "    print(\"not equal\")"
   ]
  },
  {
   "cell_type": "code",
   "execution_count": 30,
   "metadata": {},
   "outputs": [
    {
     "data": {
      "text/plain": [
       "239"
      ]
     },
     "execution_count": 30,
     "metadata": {},
     "output_type": "execute_result"
    }
   ],
   "source": [
    "import re\n",
    "from functools import reduce\n",
    "x = \"123arun23an2d46akku45\"\n",
    "# 123+23+2+46+45\n",
    "sum = re.finditer(\"[\\d]{1,3}\", x)\n",
    "sum_numbers = [int(i.group()) for i in sum]\n",
    "reduce(lambda x, y: x+y, sum_numbers)"
   ]
  },
  {
   "cell_type": "code",
   "execution_count": 11,
   "metadata": {},
   "outputs": [
    {
     "name": "stdout",
     "output_type": "stream",
     "text": [
      "['ABC:123', ':545', 'DEF:111', 'XYZ:121']\n",
      "[['ABC', '123'], ['', '545'], ['DEF', '111'], ['XYZ', '121']]\n"
     ]
    },
    {
     "data": {
      "text/plain": [
       "{'ABC': 123, 'DEF': 111, 'XYZ': 121}"
      ]
     },
     "execution_count": 11,
     "metadata": {},
     "output_type": "execute_result"
    }
   ],
   "source": [
    "x = \"ABC:123_:545_DEF:111_XYZ:121\"\n",
    "x = x.split(\"_\")\n",
    "print(x)\n",
    "x = [i.split(\":\") for i in x]\n",
    "print(x)\n",
    "dict1 = {}\n",
    "for i in x:\n",
    "    if i[0]!=\"\":\n",
    "        dict1[i[0]] = int(i[1])\n",
    "dict1\n",
    "\n",
    "# points to remember\n",
    "\n",
    "# to break the string in multiple parts we use split\n",
    "# whenever list is given we work on its elements\n",
    "# to work on list elements, list comprehension or for loop must be used\n",
    "# don't directly submit your solution, look for corner cases\n",
    "# to remove them we use if conditions"
   ]
  },
  {
   "cell_type": "code",
   "execution_count": 64,
   "metadata": {},
   "outputs": [
    {
     "name": "stdout",
     "output_type": "stream",
     "text": [
      "Goa wale\n"
     ]
    }
   ],
   "source": [
    "# # File Handling\n",
    "# import os.join\n",
    "# dir_path = \"\"\n",
    "file_name = \"akku\"\n",
    "# file_path = os.join(dir_path, file_name)\n",
    "with open(file_name, \"w+\") as fileToWrite:\n",
    "    string = \"Goa wale beach pe\"\n",
    "    fileToWrite.write(string)\n",
    "    \n",
    "with open(file_name, \"a\") as fileToAppend:\n",
    "    string = \"\\nRani aankhen meech k\"\n",
    "    fileToAppend.write(string)\n",
    "    \n",
    "# with open(file_name, \"r+\") as fileToRead: # readlines() return list of lines\n",
    "#     string = fileToRead.readlines()\n",
    "#     print(string)\n",
    "    \n",
    "# with open(file_name, \"r+\") as fileToRead:\n",
    "#     string = fileToRead.readline() # readline() returns single line\n",
    "#     print(string)\n",
    "\n",
    "# with open(file_name, \"r+\") as fileToRead:\n",
    "#     string = fileToRead.read()\n",
    "#     print(string)\n",
    "\n",
    "with open(file_name, \"r+\") as fileToRead:\n",
    "    fileToRead.seek(0)\n",
    "    string = fileToRead.read(8)\n",
    "    print(string)\n",
    "   "
   ]
  },
  {
   "cell_type": "code",
   "execution_count": null,
   "metadata": {},
   "outputs": [],
   "source": [
    "# Write a method, which, when given a number,\n",
    "# returns true if the string has atleast 2 digits that\n",
    "# are consequent digits.\n",
    "# Ex: 147 returns a false\n",
    "# Ex: 3740576 returns a true since 7,6 are adjacent numbers\n",
    "# Ex: 475 returns a false since 4,5 are adjacent numbers,\n",
    "# but they are not present side by side."
   ]
  },
  {
   "cell_type": "code",
   "execution_count": 12,
   "metadata": {},
   "outputs": [
    {
     "name": "stdout",
     "output_type": "stream",
     "text": [
      "Entr the number: 274\n",
      "False\n",
      "False\n"
     ]
    }
   ],
   "source": [
    "num = input(\"Entr the number: \")\n",
    "if len(num)>1:\n",
    "    for i in range(len(num)-1):\n",
    "        if int(num[i])==int(num[i+1])+1 or int(num[i])==int(num[i+1])-1:\n",
    "            print(True)\n",
    "            break\n",
    "        else:\n",
    "            print(False)\n",
    "else:\n",
    "    print(\"invalid\")"
   ]
  },
  {
   "cell_type": "code",
   "execution_count": 26,
   "metadata": {},
   "outputs": [
    {
     "data": {
      "text/plain": [
       "'Aaaaaaaaghhiijkknortuyz'"
      ]
     },
     "execution_count": 26,
     "metadata": {},
     "output_type": "execute_result"
    }
   ],
   "source": [
    "x = \"aaj Akku naaraaz ho gayi thi\"\n",
    "x = [j for i in x for j in i if j!=\" \"]\n",
    "for i in range(len(x)):\n",
    "    for j in range(i+1, len(x)):\n",
    "        if ord(x[i])>ord(x[j]):\n",
    "            x[i],x[j] = x[j],x[i]\n",
    "\"\".join(x)"
   ]
  },
  {
   "cell_type": "code",
   "execution_count": 27,
   "metadata": {},
   "outputs": [
    {
     "ename": "SyntaxError",
     "evalue": "invalid syntax (<ipython-input-27-1a49be6da261>, line 13)",
     "output_type": "error",
     "traceback": [
      "\u001b[1;36m  File \u001b[1;32m\"<ipython-input-27-1a49be6da261>\"\u001b[1;36m, line \u001b[1;32m13\u001b[0m\n\u001b[1;33m    print a.next()\u001b[0m\n\u001b[1;37m          ^\u001b[0m\n\u001b[1;31mSyntaxError\u001b[0m\u001b[1;31m:\u001b[0m invalid syntax\n"
     ]
    }
   ],
   "source": [
    "a = int(input('Give amount: '))\n",
    "\n",
    "def fib():\n",
    "    a, b = 0, 1\n",
    "    while 1:\n",
    "        yield a\n",
    "        a, b = b, a + b\n",
    "\n",
    "a = fib()\n",
    "a.next()\n",
    "0\n",
    "for i in range(a):\n",
    "    print a.next()"
   ]
  },
  {
   "cell_type": "code",
   "execution_count": 45,
   "metadata": {},
   "outputs": [
    {
     "name": "stdout",
     "output_type": "stream",
     "text": [
      "helloWorld\n"
     ]
    }
   ],
   "source": [
    "#read camelcase\n",
    "import re\n",
    "file_name = \"akku\"\n",
    "with open(file_name, \"w\") as file:\n",
    "    string = \"goa helloWorldAkku computertest\"\n",
    "    file.write(string)\n",
    "    \n",
    "with open(file_name, \"r\") as readfile:\n",
    "    x = readfile.read()\n",
    "matcher = re.finditer(\"[a-z]+[A-Z][a-z]+\", x)\n",
    "for match in matcher:\n",
    "    print(match.group())\n",
    "\n"
   ]
  },
  {
   "cell_type": "code",
   "execution_count": 46,
   "metadata": {},
   "outputs": [
    {
     "name": "stdout",
     "output_type": "stream",
     "text": [
      "helloWorld\n"
     ]
    }
   ],
   "source": [
    "import re\n",
    "string = \"helloWorld\"\n",
    "x = re.finditer(\"[a-z]+[A-Z][a-z]+\", x)\n",
    "for i in x:\n",
    "    print(i.group())"
   ]
  },
  {
   "cell_type": "code",
   "execution_count": 89,
   "metadata": {},
   "outputs": [
    {
     "name": "stdout",
     "output_type": "stream",
     "text": [
      "0\n",
      "1\n",
      "2\n",
      "3\n",
      "4\n",
      "Akku\n"
     ]
    }
   ],
   "source": [
    "def f1():\n",
    "    for i in range(5):\n",
    "        yield i\n",
    "    yield \"Akku\"\n",
    "x = f1()\n",
    "for i in x:\n",
    "    print(i)"
   ]
  },
  {
   "cell_type": "code",
   "execution_count": null,
   "metadata": {},
   "outputs": [],
   "source": [
    "def fib(n):\n",
    "    first,second = 0,1\n",
    "    for i in range(n):\n",
    "        if i<=1:\n",
    "            print(i)\n",
    "        else:\n",
    "            first,sec"
   ]
  },
  {
   "cell_type": "code",
   "execution_count": 93,
   "metadata": {},
   "outputs": [
    {
     "data": {
      "text/plain": [
       "'hh'"
      ]
     },
     "execution_count": 93,
     "metadata": {},
     "output_type": "execute_result"
    }
   ],
   "source": [
    "class abc:\n",
    "    def __init__(self, a):\n",
    "         self.a = a\n",
    "\n",
    "    def ab(self):\n",
    "        return self.a \n",
    "\n",
    "obj = abc(\"hh\")\n",
    "obj.ab()"
   ]
  },
  {
   "cell_type": "code",
   "execution_count": 8,
   "metadata": {},
   "outputs": [],
   "source": [
    "from collections import Counter\n",
    "y = [1,2,3,6,4,2,1,3,1,2,4,5,3,2,4,2,3,1, \"Akku\", \"Akku\", \"&\", \"Arun\"]\n",
    "Counter(y)"
   ]
  },
  {
   "cell_type": "code",
   "execution_count": 59,
   "metadata": {},
   "outputs": [],
   "source": [
    "x = {(\"x\",\"y\",\"z\"): \"1,2,3\"}\n",
    "# y = {[\"x\",\"y\",\"z\"]: \"1,2,3\"}"
   ]
  },
  {
   "cell_type": "code",
   "execution_count": 10,
   "metadata": {},
   "outputs": [
    {
     "data": {
      "text/plain": [
       "{1: 'a', 3: 'a'}"
      ]
     },
     "execution_count": 10,
     "metadata": {},
     "output_type": "execute_result"
    }
   ],
   "source": [
    "# print the items of the dictionary whose values are repeated\n",
    "from collections import Counter\n",
    "dict1 = {1: \"a\", 2: \"b\", 3: \"a\", 4: \"c\"}\n",
    "dict([item for item in dict1.items() if item[1] in [item[0] for item in Counter(dict1.values()).items() if item[1]>1]])"
   ]
  },
  {
   "cell_type": "code",
   "execution_count": 15,
   "metadata": {},
   "outputs": [
    {
     "name": "stdout",
     "output_type": "stream",
     "text": [
      "dict_values(['a', 'b', 'a', 'c'])\n",
      "Counter({'a': 2, 'b': 1, 'c': 1})\n"
     ]
    },
    {
     "data": {
      "text/plain": [
       "{1: 'a', 3: 'a'}"
      ]
     },
     "execution_count": 15,
     "metadata": {},
     "output_type": "execute_result"
    }
   ],
   "source": [
    "v = dict1.values()\n",
    "print(v)\n",
    "c = Counter(v)\n",
    "print(c)\n",
    "mul = [i[0] for i in c.items() if i[1]>1]\n",
    "l2 = [i for i in dict1.items() if i[1] in mul]\n",
    "dict(l2)"
   ]
  }
 ],
 "metadata": {
  "kernelspec": {
   "display_name": "Python 3",
   "language": "python",
   "name": "python3"
  },
  "language_info": {
   "codemirror_mode": {
    "name": "ipython",
    "version": 3
   },
   "file_extension": ".py",
   "mimetype": "text/x-python",
   "name": "python",
   "nbconvert_exporter": "python",
   "pygments_lexer": "ipython3",
   "version": "3.6.5"
  }
 },
 "nbformat": 4,
 "nbformat_minor": 2
}
